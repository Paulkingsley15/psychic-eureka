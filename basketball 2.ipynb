{
 "cells": [
  {
   "cell_type": "code",
   "execution_count": null,
   "id": "initial_id",
   "metadata": {
    "collapsed": true
   },
   "outputs": [],
   "source": []
  },
  {
   "cell_type": "code",
   "outputs": [
    {
     "name": "stdout",
     "output_type": "stream",
     "text": [
      "Best parameters: {'classifier__C': 0.1, 'classifier__solver': 'newton-cg'}\n",
      "Best ROC AUC score: 0.67\n",
      "Test set accuracy: 0.63\n",
      "Test set ROC AUC score: 0.66\n",
      "Test set precision: 0.65\n",
      "Test set recall: 0.84\n",
      "Test set F1 score: 0.73\n",
      "Confusion Matrix:\n",
      "[[ 683 1533]\n",
      " [ 566 2894]]\n"
     ]
    }
   ],
   "source": [
    "import pandas as pd\n",
    "from sklearn.model_selection import train_test_split, GridSearchCV\n",
    "from sklearn.linear_model import LogisticRegression\n",
    "from sklearn.ensemble import RandomForestClassifier\n",
    "from sklearn.preprocessing import StandardScaler, OneHotEncoder, PolynomialFeatures\n",
    "from sklearn.compose import ColumnTransformer\n",
    "from sklearn.pipeline import Pipeline\n",
    "from sklearn.metrics import accuracy_score, roc_auc_score, precision_score, recall_score, f1_score, confusion_matrix\n",
    "from sklearn.impute import SimpleImputer\n",
    "\n",
    "# Load the dataset\n",
    "file_path = 'shotlog0-5.xlsx'  # Use the correct file path\n",
    "data = pd.read_excel(file_path)\n",
    "\n",
    "# Define which columns are numeric and categorical\n",
    "numeric_features = ['SHOT_NUMBER', 'PERIOD', 'FINAL_MARGIN', 'SHOT_CLOCK', 'DRIBBLES', 'TOUCH_TIME', 'SHOT_DIST', 'CLOSE_DEF_DIST', 'FG%_2pts', 'FG%_3pts', 'score', 'PPG', 'EFG']\n",
    "categorical_features = ['W', 'CLOSEST_DEFENDER']\n",
    "\n",
    "# Exclude non-predictive and direct identifiers\n",
    "predictive_features = data.drop(columns=['GAME_ID1', 'MATCHUP', 'player_name', 'player_id', 'FGM', 'PTS'])\n",
    "\n",
    "# Handle missing values and preprocessing\n",
    "preprocessor = ColumnTransformer(\n",
    "    transformers=[\n",
    "        ('num', Pipeline(steps=[\n",
    "            ('imputer', SimpleImputer(strategy='mean')),\n",
    "            ('scaler', StandardScaler())]), numeric_features),\n",
    "        ('cat', Pipeline(steps=[\n",
    "            ('imputer', SimpleImputer(strategy='constant', fill_value='missing')),\n",
    "            ('onehot', OneHotEncoder(handle_unknown='ignore'))]), categorical_features)\n",
    "    ])\n",
    "\n",
    "# Target variable\n",
    "target = data['FGM']\n",
    "\n",
    "# Split data into training and testing sets\n",
    "X_train, X_test, y_train, y_test = train_test_split(predictive_features, target, test_size=0.2, random_state=42)\n",
    "\n",
    "# Define the pipeline as before\n",
    "pipeline = Pipeline([\n",
    "    ('preprocessor', preprocessor),\n",
    "    ('classifier', LogisticRegression(max_iter=1000))  # Increased max_iter to 1000\n",
    "])\n",
    "\n",
    "# Define the parameter grid\n",
    "param_grid = {\n",
    "    'classifier__C': [0.1, 1, 10, 100],\n",
    "    'classifier__solver': ['newton-cg', 'lbfgs', 'liblinear']\n",
    "}\n",
    "\n",
    "# Create the GridSearchCV object\n",
    "grid_search = GridSearchCV(pipeline, param_grid, cv=5, scoring='roc_auc', n_jobs=-1)\n",
    "\n",
    "# Fit the grid search to the data\n",
    "grid_search.fit(X_train, y_train)\n",
    "\n",
    "# Print the best parameters and the best score\n",
    "print(f\"Best parameters: {grid_search.best_params_}\")\n",
    "print(f\"Best ROC AUC score: {grid_search.best_score_:.2f}\")\n",
    "\n",
    "# Evaluate the best model on the test set\n",
    "best_model = grid_search.best_estimator_\n",
    "test_predictions = best_model.predict(X_test)\n",
    "test_probabilities = best_model.predict_proba(X_test)[:, 1]\n",
    "\n",
    "test_accuracy = accuracy_score(y_test, test_predictions)\n",
    "test_roc_auc = roc_auc_score(y_test, test_probabilities)\n",
    "test_precision = precision_score(y_test, test_predictions)\n",
    "test_recall = recall_score(y_test, test_predictions)\n",
    "test_f1 = f1_score(y_test, test_predictions)\n",
    "conf_matrix = confusion_matrix(y_test, test_predictions)\n",
    "\n",
    "print(f\"Test set accuracy: {test_accuracy:.2f}\")\n",
    "print(f\"Test set ROC AUC score: {test_roc_auc:.2f}\")\n",
    "print(f\"Test set precision: {test_precision:.2f}\")\n",
    "print(f\"Test set recall: {test_recall:.2f}\")\n",
    "print(f\"Test set F1 score: {test_f1:.2f}\")\n",
    "print(f\"Confusion Matrix:\\n{conf_matrix}\")\n"
   ],
   "metadata": {
    "collapsed": false,
    "ExecuteTime": {
     "end_time": "2024-05-20T17:33:57.842060Z",
     "start_time": "2024-05-20T17:33:41.491607700Z"
    }
   },
   "id": "ff66c9cfe01b1ede",
   "execution_count": 2
  },
  {
   "cell_type": "code",
   "outputs": [
    {
     "name": "stdout",
     "output_type": "stream",
     "text": [
      "Column names in the dataframe: Index(['GAME_ID1', 'MATCHUP', 'W', 'FINAL_MARGIN', 'SHOT_NUMBER', 'PERIOD',\n",
      "       'GAME_CLOCK', 'SHOT_CLOCK', 'DRIBBLES', 'TOUCH_TIME', 'SHOT_DIST',\n",
      "       'Cat', 'PTS_TYPE', 'SHOT_RESULT', 'CLOSEST_DEFENDER',\n",
      "       'CLOSEST_DEFENDER_PLAYER_ID', 'CLOSE_DEF_DIST', 'FGM', 'PTS',\n",
      "       'player_name', 'player_id', 'score', 'FG%_2pts', 'FG%_3pts', 'PPG',\n",
      "       'EFG'],\n",
      "      dtype='object')\n",
      "Best parameters for Logistic Regression: {'classifier__C': 0.1, 'classifier__solver': 'lbfgs'}\n",
      "Best ROC AUC score for Logistic Regression: 0.64\n",
      "Best parameters for Random Forest: {'classifier__bootstrap': True, 'classifier__max_depth': None, 'classifier__min_samples_leaf': 4, 'classifier__min_samples_split': 10, 'classifier__n_estimators': 300}\n",
      "Best ROC AUC score for Random Forest: 0.64\n",
      "Logistic Regression Test set accuracy: 0.61\n",
      "Logistic Regression Test set ROC AUC score: 0.64\n",
      "Logistic Regression Test set precision: 0.59\n",
      "Logistic Regression Test set recall: 0.47\n",
      "Logistic Regression Test set F1 score: 0.52\n",
      "Logistic Regression Confusion Matrix:\n",
      "[[8524 3097]\n",
      " [5042 4395]]\n",
      "Random Forest Test set accuracy: 0.62\n",
      "Random Forest Test set ROC AUC score: 0.64\n",
      "Random Forest Test set precision: 0.63\n",
      "Random Forest Test set recall: 0.38\n",
      "Random Forest Test set F1 score: 0.47\n",
      "Random Forest Confusion Matrix:\n",
      "[[9581 2040]\n",
      " [5890 3547]]\n"
     ]
    }
   ],
   "source": [
    "import pandas as pd\n",
    "from sklearn.model_selection import train_test_split, GridSearchCV\n",
    "from sklearn.linear_model import LogisticRegression\n",
    "from sklearn.ensemble import RandomForestClassifier\n",
    "from sklearn.preprocessing import StandardScaler, OneHotEncoder\n",
    "from sklearn.compose import ColumnTransformer\n",
    "from sklearn.pipeline import Pipeline\n",
    "from sklearn.metrics import accuracy_score, roc_auc_score, precision_score, recall_score, f1_score, confusion_matrix\n",
    "from sklearn.impute import SimpleImputer\n",
    "\n",
    "# Load the dataset\n",
    "file_path = 'updated_shot_logs.csv'  # Use the correct file path\n",
    "data = pd.read_csv(file_path)\n",
    "\n",
    "# Print column names to check for discrepancies\n",
    "print(\"Column names in the dataframe:\", data.columns)\n",
    "\n",
    "# Define which columns are numeric and categorical\n",
    "numeric_features = ['SHOT_NUMBER', 'PERIOD', 'FINAL_MARGIN', 'SHOT_CLOCK', 'DRIBBLES', 'TOUCH_TIME', 'SHOT_DIST', 'CLOSE_DEF_DIST', 'FG%_2pts', 'FG%_3pts', 'score', 'PPG', 'EFG']\n",
    "categorical_features = ['W', 'CLOSEST_DEFENDER']\n",
    "\n",
    "# Exclude non-predictive and direct identifiers\n",
    "# Adjust the columns based on what actually exists in the data\n",
    "columns_to_exclude = ['GAME_ID1', 'MATCHUP', 'player_name', 'player_id', 'FGM', 'PTS']\n",
    "columns_to_exclude = [col for col in columns_to_exclude if col in data.columns]\n",
    "\n",
    "predictive_features = data.drop(columns=columns_to_exclude)\n",
    "\n",
    "# Handle missing values and preprocessing\n",
    "preprocessor = ColumnTransformer(\n",
    "    transformers=[\n",
    "        ('num', Pipeline(steps=[\n",
    "            ('imputer', SimpleImputer(strategy='mean')),\n",
    "            ('scaler', StandardScaler())]), numeric_features),\n",
    "        ('cat', Pipeline(steps=[\n",
    "            ('imputer', SimpleImputer(strategy='constant', fill_value='missing')),\n",
    "            ('onehot', OneHotEncoder(handle_unknown='ignore'))]), categorical_features)\n",
    "    ])\n",
    "\n",
    "# Target variable\n",
    "target_column = 'FGM'  # Update this with the correct target column name if 'FGM' is not correct\n",
    "target = data[target_column]\n",
    "\n",
    "# Split data into training and testing sets\n",
    "X_train, X_test, y_train, y_test = train_test_split(predictive_features, target, test_size=0.2, random_state=42)\n",
    "\n",
    "# Define the parameter grids for GridSearchCV\n",
    "param_grid_logistic = {\n",
    "    'classifier__C': [0.1, 1, 10, 100],\n",
    "    'classifier__solver': ['newton-cg', 'lbfgs', 'liblinear']\n",
    "}\n",
    "\n",
    "param_grid_rf = {\n",
    "    'classifier__n_estimators': [100, 200, 300],\n",
    "    'classifier__max_depth': [None, 10, 20, 30],\n",
    "    'classifier__min_samples_split': [2, 5, 10],\n",
    "    'classifier__min_samples_leaf': [1, 2, 4],\n",
    "    'classifier__bootstrap': [True, False]\n",
    "}\n",
    "\n",
    "# Create the pipelines for both models\n",
    "pipeline_logistic = Pipeline([\n",
    "    ('preprocessor', preprocessor),\n",
    "    ('classifier', LogisticRegression(max_iter=1000))\n",
    "])\n",
    "\n",
    "pipeline_rf = Pipeline([\n",
    "    ('preprocessor', preprocessor),\n",
    "    ('classifier', RandomForestClassifier(random_state=42))\n",
    "])\n",
    "\n",
    "# Create the GridSearchCV objects\n",
    "grid_search_logistic = GridSearchCV(pipeline_logistic, param_grid_logistic, cv=5, scoring='roc_auc', n_jobs=-1)\n",
    "grid_search_rf = GridSearchCV(pipeline_rf, param_grid_rf, cv=5, scoring='roc_auc', n_jobs=-1)\n",
    "\n",
    "# Fit the GridSearchCV objects to the data\n",
    "grid_search_logistic.fit(X_train, y_train)\n",
    "grid_search_rf.fit(X_train, y_train)\n",
    "\n",
    "# Print the best parameters and scores\n",
    "print(f\"Best parameters for Logistic Regression: {grid_search_logistic.best_params_}\")\n",
    "print(f\"Best ROC AUC score for Logistic Regression: {grid_search_logistic.best_score_:.2f}\")\n",
    "print(f\"Best parameters for Random Forest: {grid_search_rf.best_params_}\")\n",
    "print(f\"Best ROC AUC score for Random Forest: {grid_search_rf.best_score_:.2f}\")\n",
    "\n",
    "# Evaluate the best Logistic Regression model on the test set\n",
    "best_model_logistic = grid_search_logistic.best_estimator_\n",
    "test_predictions_logistic = best_model_logistic.predict(X_test)\n",
    "test_probabilities_logistic = best_model_logistic.predict_proba(X_test)[:, 1]\n",
    "\n",
    "test_accuracy_logistic = accuracy_score(y_test, test_predictions_logistic)\n",
    "test_roc_auc_logistic = roc_auc_score(y_test, test_probabilities_logistic)\n",
    "test_precision_logistic = precision_score(y_test, test_predictions_logistic)\n",
    "test_recall_logistic = recall_score(y_test, test_predictions_logistic)\n",
    "test_f1_logistic = f1_score(y_test, test_predictions_logistic)\n",
    "conf_matrix_logistic = confusion_matrix(y_test, test_predictions_logistic)\n",
    "\n",
    "print(f\"Logistic Regression Test set accuracy: {test_accuracy_logistic:.2f}\")\n",
    "print(f\"Logistic Regression Test set ROC AUC score: {test_roc_auc_logistic:.2f}\")\n",
    "print(f\"Logistic Regression Test set precision: {test_precision_logistic:.2f}\")\n",
    "print(f\"Logistic Regression Test set recall: {test_recall_logistic:.2f}\")\n",
    "print(f\"Logistic Regression Test set F1 score: {test_f1_logistic:.2f}\")\n",
    "print(f\"Logistic Regression Confusion Matrix:\\n{conf_matrix_logistic}\")\n",
    "\n",
    "# Evaluate the best Random Forest model on the test set\n",
    "best_model_rf = grid_search_rf.best_estimator_\n",
    "test_predictions_rf = best_model_rf.predict(X_test)\n",
    "test_probabilities_rf = best_model_rf.predict_proba(X_test)[:, 1]\n",
    "\n",
    "test_accuracy_rf = accuracy_score(y_test, test_predictions_rf)\n",
    "test_roc_auc_rf = roc_auc_score(y_test, test_probabilities_rf)\n",
    "test_precision_rf = precision_score(y_test, test_predictions_rf)\n",
    "test_recall_rf = recall_score(y_test, test_predictions_rf)\n",
    "test_f1_rf = f1_score(y_test, test_predictions_rf)\n",
    "conf_matrix_rf = confusion_matrix(y_test, test_predictions_rf)\n",
    "\n",
    "print(f\"Random Forest Test set accuracy: {test_accuracy_rf:.2f}\")\n",
    "print(f\"Random Forest Test set ROC AUC score: {test_roc_auc_rf:.2f}\")\n",
    "print(f\"Random Forest Test set precision: {test_precision_rf:.2f}\")\n",
    "print(f\"Random Forest Test set recall: {test_recall_rf:.2f}\")\n",
    "print(f\"Random Forest Test set F1 score: {test_f1_rf:.2f}\")\n",
    "print(f\"Random Forest Confusion Matrix:\\n{conf_matrix_rf}\")"
   ],
   "metadata": {
    "collapsed": false,
    "ExecuteTime": {
     "end_time": "2024-05-20T21:16:43.515543Z",
     "start_time": "2024-05-20T17:47:50.796033600Z"
    }
   },
   "id": "2e40c855281fc022",
   "execution_count": 9
  },
  {
   "cell_type": "code",
   "outputs": [
    {
     "name": "stdout",
     "output_type": "stream",
     "text": [
      "Best parameters for Logistic Regression: {'classifier__C': 0.1, 'classifier__solver': 'lbfgs'}\n",
      "Best ROC AUC score for Logistic Regression: 0.64\n",
      "Best parameters for Random Forest: {'classifier__bootstrap': True, 'classifier__max_depth': 30, 'classifier__min_samples_leaf': 4, 'classifier__min_samples_split': 2, 'classifier__n_estimators': 300}\n",
      "Best ROC AUC score for Random Forest: 0.64\n",
      "Logistic Regression Test set accuracy: 0.61\n",
      "Logistic Regression Test set ROC AUC score: 0.64\n",
      "Logistic Regression Test set precision: 0.60\n",
      "Logistic Regression Test set recall: 0.43\n",
      "Logistic Regression Test set F1 score: 0.50\n",
      "Logistic Regression Confusion Matrix:\n",
      "[[8880 2741]\n",
      " [5381 4056]]\n",
      "Random Forest Test set accuracy: 0.62\n",
      "Random Forest Test set ROC AUC score: 0.65\n",
      "Random Forest Test set precision: 0.63\n",
      "Random Forest Test set recall: 0.38\n",
      "Random Forest Test set F1 score: 0.48\n",
      "Random Forest Confusion Matrix:\n",
      "[[9485 2136]\n",
      " [5825 3612]]\n"
     ]
    }
   ],
   "source": [
    "import pandas as pd\n",
    "import numpy as np\n",
    "from sklearn.model_selection import train_test_split, GridSearchCV\n",
    "from sklearn.linear_model import LogisticRegression\n",
    "from sklearn.ensemble import RandomForestClassifier\n",
    "from sklearn.preprocessing import StandardScaler, OneHotEncoder, PolynomialFeatures\n",
    "from sklearn.compose import ColumnTransformer\n",
    "from sklearn.pipeline import Pipeline\n",
    "from sklearn.metrics import accuracy_score, roc_auc_score, precision_score, recall_score, f1_score, confusion_matrix\n",
    "from sklearn.impute import SimpleImputer\n",
    "\n",
    "# Load the dataset\n",
    "file_path = 'updated_shot_logs.csv'  # Use the correct file path\n",
    "data = pd.read_csv(file_path)\n",
    "\n",
    "# Feature Engineering\n",
    "\n",
    "# Interaction Features\n",
    "data['SHOT_CLOCK_x_SHOT_DIST'] = data['SHOT_CLOCK'] * data['SHOT_DIST']\n",
    "\n",
    "# Binning Continuous Variables\n",
    "data['SHOT_DIST_BINNED'] = pd.cut(data['SHOT_DIST'], bins=[0, 5, 10, 15, 20, 25, 30], labels=['0-5', '5-10', '10-15', '15-20', '20-25', '25-30'])\n",
    "\n",
    "# Aggregating Features\n",
    "data['MEAN_TOUCH_TIME'] = data.groupby('player_id')['TOUCH_TIME'].transform('mean')\n",
    "\n",
    "# Log Transformation\n",
    "data['LOG_SHOT_DIST'] = np.log1p(data['SHOT_DIST'])\n",
    "\n",
    "# Handle missing values before creating polynomial features\n",
    "imputer = SimpleImputer(strategy='mean')\n",
    "data[['SHOT_CLOCK', 'SHOT_DIST']] = imputer.fit_transform(data[['SHOT_CLOCK', 'SHOT_DIST']])\n",
    "\n",
    "# Polynomial Features\n",
    "poly = PolynomialFeatures(degree=2, include_bias=False)\n",
    "poly_features = poly.fit_transform(data[['SHOT_CLOCK', 'SHOT_DIST']])\n",
    "poly_feature_names = poly.get_feature_names_out(['SHOT_CLOCK', 'SHOT_DIST'])\n",
    "poly_df = pd.DataFrame(poly_features, columns=[f\"poly_{name}\" for name in poly_feature_names])\n",
    "data = pd.concat([data.reset_index(drop=True), poly_df.reset_index(drop=True)], axis=1)\n",
    "\n",
    "# Define which columns are numeric and categorical\n",
    "numeric_features = ['SHOT_NUMBER', 'PERIOD', 'FINAL_MARGIN', 'SHOT_CLOCK', 'DRIBBLES', 'TOUCH_TIME', 'SHOT_DIST', 'CLOSE_DEF_DIST', 'FG%_2pts', 'FG%_3pts', 'score', 'PPG', 'EFG', 'SHOT_CLOCK_x_SHOT_DIST', 'MEAN_TOUCH_TIME', 'LOG_SHOT_DIST'] + list(poly_df.columns)\n",
    "categorical_features = ['W', 'CLOSEST_DEFENDER', 'SHOT_DIST_BINNED']\n",
    "\n",
    "# Exclude non-predictive and direct identifiers\n",
    "columns_to_exclude = ['GAME_ID1', 'MATCHUP', 'player_name', 'player_id', 'FGM', 'PTS']\n",
    "columns_to_exclude = [col for col in columns_to_exclude if col in data.columns]\n",
    "\n",
    "predictive_features = data.drop(columns=columns_to_exclude)\n",
    "\n",
    "# Handle missing values and preprocessing\n",
    "preprocessor = ColumnTransformer(\n",
    "    transformers=[\n",
    "        ('num', Pipeline(steps=[\n",
    "            ('imputer', SimpleImputer(strategy='mean')),\n",
    "            ('scaler', StandardScaler())]), numeric_features),\n",
    "        ('cat', Pipeline(steps=[\n",
    "            ('imputer', SimpleImputer(strategy='constant', fill_value='missing')),\n",
    "            ('onehot', OneHotEncoder(handle_unknown='ignore'))]), categorical_features)\n",
    "    ])\n",
    "\n",
    "# Target variable\n",
    "target_column = 'FGM'  # Ensure this is the correct target column name\n",
    "target = data[target_column]\n",
    "\n",
    "# Split data into training and testing sets\n",
    "X_train, X_test, y_train, y_test = train_test_split(predictive_features, target, test_size=0.2, random_state=42)\n",
    "\n",
    "# Define the parameter grids for GridSearchCV\n",
    "param_grid_logistic = {\n",
    "    'classifier__C': [0.1, 1, 10, 100],\n",
    "    'classifier__solver': ['newton-cg', 'lbfgs', 'liblinear']\n",
    "}\n",
    "\n",
    "param_grid_rf = {\n",
    "    'classifier__n_estimators': [100, 200, 300],\n",
    "    'classifier__max_depth': [None, 10, 20, 30],\n",
    "    'classifier__min_samples_split': [2, 5, 10],\n",
    "    'classifier__min_samples_leaf': [1, 2, 4],\n",
    "    'classifier__bootstrap': [True, False]\n",
    "}\n",
    "\n",
    "# Create the pipelines for both models\n",
    "pipeline_logistic = Pipeline([\n",
    "    ('preprocessor', preprocessor),\n",
    "    ('classifier', LogisticRegression(max_iter=1000))\n",
    "])\n",
    "\n",
    "pipeline_rf = Pipeline([\n",
    "    ('preprocessor', preprocessor),\n",
    "    ('classifier', RandomForestClassifier(random_state=42))\n",
    "])\n",
    "\n",
    "# Create the GridSearchCV objects\n",
    "grid_search_logistic = GridSearchCV(pipeline_logistic, param_grid_logistic, cv=5, scoring='roc_auc', n_jobs=-1)\n",
    "grid_search_rf = GridSearchCV(pipeline_rf, param_grid_rf, cv=5, scoring='roc_auc', n_jobs=-1)\n",
    "\n",
    "# Fit the GridSearchCV objects to the data\n",
    "grid_search_logistic.fit(X_train, y_train)\n",
    "grid_search_rf.fit(X_train, y_train)\n",
    "\n",
    "# Print the best parameters and scores\n",
    "print(f\"Best parameters for Logistic Regression: {grid_search_logistic.best_params_}\")\n",
    "print(f\"Best ROC AUC score for Logistic Regression: {grid_search_logistic.best_score_:.2f}\")\n",
    "print(f\"Best parameters for Random Forest: {grid_search_rf.best_params_}\")\n",
    "print(f\"Best ROC AUC score for Random Forest: {grid_search_rf.best_score_:.2f}\")\n",
    "\n",
    "# Evaluate the best Logistic Regression model on the test set\n",
    "best_model_logistic = grid_search_logistic.best_estimator_\n",
    "test_predictions_logistic = best_model_logistic.predict(X_test)\n",
    "test_probabilities_logistic = best_model_logistic.predict_proba(X_test)[:, 1]\n",
    "\n",
    "test_accuracy_logistic = accuracy_score(y_test, test_predictions_logistic)\n",
    "test_roc_auc_logistic = roc_auc_score(y_test, test_probabilities_logistic)\n",
    "test_precision_logistic = precision_score(y_test, test_predictions_logistic)\n",
    "test_recall_logistic = recall_score(y_test, test_predictions_logistic)\n",
    "test_f1_logistic = f1_score(y_test, test_predictions_logistic)\n",
    "conf_matrix_logistic = confusion_matrix(y_test, test_predictions_logistic)\n",
    "\n",
    "print(f\"Logistic Regression Test set accuracy: {test_accuracy_logistic:.2f}\")\n",
    "print(f\"Logistic Regression Test set ROC AUC score: {test_roc_auc_logistic:.2f}\")\n",
    "print(f\"Logistic Regression Test set precision: {test_precision_logistic:.2f}\")\n",
    "print(f\"Logistic Regression Test set recall: {test_recall_logistic:.2f}\")\n",
    "print(f\"Logistic Regression Test set F1 score: {test_f1_logistic:.2f}\")\n",
    "print(f\"Logistic Regression Confusion Matrix:\\n{conf_matrix_logistic}\")\n",
    "\n",
    "# Evaluate the best Random Forest model on the test set\n",
    "best_model_rf = grid_search_rf.best_estimator_\n",
    "test_predictions_rf = best_model_rf.predict(X_test)\n",
    "test_probabilities_rf = best_model_rf.predict_proba(X_test)[:, 1]\n",
    "\n",
    "test_accuracy_rf = accuracy_score(y_test, test_predictions_rf)\n",
    "test_roc_auc_rf = roc_auc_score(y_test, test_probabilities_rf)\n",
    "test_precision_rf = precision_score(y_test, test_predictions_rf)\n",
    "test_recall_rf = recall_score(y_test, test_predictions_rf)\n",
    "test_f1_rf = f1_score(y_test, test_predictions_rf)\n",
    "conf_matrix_rf = confusion_matrix(y_test, test_predictions_rf)\n",
    "\n",
    "print(f\"Random Forest Test set accuracy: {test_accuracy_rf:.2f}\")\n",
    "print(f\"Random Forest Test set ROC AUC score: {test_roc_auc_rf:.2f}\")\n",
    "print(f\"Random Forest Test set precision: {test_precision_rf:.2f}\")\n",
    "print(f\"Random Forest Test set recall: {test_recall_rf:.2f}\")\n",
    "print(f\"Random Forest Test set F1 score: {test_f1_rf:.2f}\")\n",
    "print(f\"Random Forest Confusion Matrix:\\n{conf_matrix_rf}\")"
   ],
   "metadata": {
    "collapsed": false,
    "ExecuteTime": {
     "end_time": "2024-05-23T20:29:35.097831Z",
     "start_time": "2024-05-23T15:34:00.201977300Z"
    }
   },
   "id": "c1fca4fd8c9cf350",
   "execution_count": 1
  },
  {
   "cell_type": "code",
   "outputs": [
    {
     "name": "stdout",
     "output_type": "stream",
     "text": [
      "Collecting xgboost\n",
      "  Obtaining dependency information for xgboost from https://files.pythonhosted.org/packages/a2/48/d5da8591891327b0faf08179d420fba3893c6134bdd449497c5329e4cb01/xgboost-2.1.0-py3-none-win_amd64.whl.metadata\n",
      "  Downloading xgboost-2.1.0-py3-none-win_amd64.whl.metadata (2.1 kB)\n",
      "Requirement already satisfied: numpy in c:\\users\\paulk\\anaconda3\\lib\\site-packages (from xgboost) (1.23.5)\n",
      "Requirement already satisfied: scipy in c:\\users\\paulk\\anaconda3\\lib\\site-packages (from xgboost) (1.11.1)\n",
      "Downloading xgboost-2.1.0-py3-none-win_amd64.whl (124.9 MB)\n",
      "   ---------------------------------------- 0.0/124.9 MB ? eta -:--:--\n",
      "   ---------------------------------------- 0.0/124.9 MB ? eta -:--:--\n",
      "   ---------------------------------------- 0.0/124.9 MB 487.6 kB/s eta 0:04:17\n",
      "   ---------------------------------------- 0.5/124.9 MB 4.2 MB/s eta 0:00:30\n",
      "   ---------------------------------------- 1.1/124.9 MB 6.8 MB/s eta 0:00:19\n",
      "    --------------------------------------- 1.9/124.9 MB 9.4 MB/s eta 0:00:14\n",
      "    --------------------------------------- 3.0/124.9 MB 12.1 MB/s eta 0:00:11\n",
      "   - -------------------------------------- 4.2/124.9 MB 14.2 MB/s eta 0:00:09\n",
      "   - -------------------------------------- 5.5/124.9 MB 16.8 MB/s eta 0:00:08\n",
      "   -- ------------------------------------- 7.2/124.9 MB 19.2 MB/s eta 0:00:07\n",
      "   -- ------------------------------------- 9.3/124.9 MB 22.1 MB/s eta 0:00:06\n",
      "   --- ------------------------------------ 11.6/124.9 MB 34.4 MB/s eta 0:00:04\n",
      "   ---- ----------------------------------- 13.0/124.9 MB 38.5 MB/s eta 0:00:03\n",
      "   ---- ----------------------------------- 15.2/124.9 MB 40.9 MB/s eta 0:00:03\n",
      "   ----- ---------------------------------- 17.0/124.9 MB 40.9 MB/s eta 0:00:03\n",
      "   ------ --------------------------------- 20.1/124.9 MB 43.7 MB/s eta 0:00:03\n",
      "   ------ --------------------------------- 20.6/124.9 MB 40.9 MB/s eta 0:00:03\n",
      "   ------- -------------------------------- 23.7/124.9 MB 46.7 MB/s eta 0:00:03\n",
      "   ------- -------------------------------- 23.8/124.9 MB 46.7 MB/s eta 0:00:03\n",
      "   -------- ------------------------------- 25.3/124.9 MB 36.4 MB/s eta 0:00:03\n",
      "   --------- ------------------------------ 28.5/124.9 MB 40.9 MB/s eta 0:00:03\n",
      "   ---------- ----------------------------- 31.5/124.9 MB 46.7 MB/s eta 0:00:03\n",
      "   ----------- ---------------------------- 35.0/124.9 MB 65.6 MB/s eta 0:00:02\n",
      "   ------------ --------------------------- 38.2/124.9 MB 65.6 MB/s eta 0:00:02\n",
      "   ------------- -------------------------- 41.0/124.9 MB 65.6 MB/s eta 0:00:02\n",
      "   -------------- ------------------------- 44.8/124.9 MB 65.6 MB/s eta 0:00:02\n",
      "   --------------- ------------------------ 48.3/124.9 MB 72.6 MB/s eta 0:00:02\n",
      "   ---------------- ----------------------- 50.1/124.9 MB 81.8 MB/s eta 0:00:01\n",
      "   ----------------- ---------------------- 53.6/124.9 MB 72.6 MB/s eta 0:00:01\n",
      "   ------------------ --------------------- 57.1/124.9 MB 59.5 MB/s eta 0:00:02\n",
      "   ------------------- -------------------- 59.9/124.9 MB 65.6 MB/s eta 0:00:01\n",
      "   -------------------- ------------------- 62.6/124.9 MB 59.5 MB/s eta 0:00:02\n",
      "   --------------------- ------------------ 65.9/124.9 MB 65.6 MB/s eta 0:00:01\n",
      "   ---------------------- ----------------- 68.8/124.9 MB 59.5 MB/s eta 0:00:01\n",
      "   ---------------------- ----------------- 71.5/124.9 MB 59.5 MB/s eta 0:00:01\n",
      "   ----------------------- ---------------- 74.5/124.9 MB 59.5 MB/s eta 0:00:01\n",
      "   ------------------------ --------------- 77.5/124.9 MB 59.5 MB/s eta 0:00:01\n",
      "   ------------------------- -------------- 80.6/124.9 MB 65.2 MB/s eta 0:00:01\n",
      "   -------------------------- ------------- 83.2/124.9 MB 59.8 MB/s eta 0:00:01\n",
      "   --------------------------- ------------ 86.3/124.9 MB 59.5 MB/s eta 0:00:01\n",
      "   ---------------------------- ----------- 89.6/124.9 MB 65.6 MB/s eta 0:00:01\n",
      "   ----------------------------- ---------- 92.4/124.9 MB 65.6 MB/s eta 0:00:01\n",
      "   ------------------------------ --------- 94.8/124.9 MB 65.6 MB/s eta 0:00:01\n",
      "   ------------------------------- -------- 97.6/124.9 MB 65.6 MB/s eta 0:00:01\n",
      "   ------------------------------- ------- 100.0/124.9 MB 59.5 MB/s eta 0:00:01\n",
      "   ------------------------------- ------- 101.4/124.9 MB 54.4 MB/s eta 0:00:01\n",
      "   -------------------------------- ------ 103.9/124.9 MB 50.4 MB/s eta 0:00:01\n",
      "   --------------------------------- ----- 106.7/124.9 MB 50.4 MB/s eta 0:00:01\n",
      "   ---------------------------------- ---- 109.0/124.9 MB 50.1 MB/s eta 0:00:01\n",
      "   ---------------------------------- ---- 111.8/124.9 MB 54.7 MB/s eta 0:00:01\n",
      "   ----------------------------------- --- 114.1/124.9 MB 54.7 MB/s eta 0:00:01\n",
      "   ------------------------------------ -- 117.1/124.9 MB 54.7 MB/s eta 0:00:01\n",
      "   ------------------------------------- - 119.3/124.9 MB 54.7 MB/s eta 0:00:01\n",
      "   ------------------------------------- - 121.6/124.9 MB 50.4 MB/s eta 0:00:01\n",
      "   --------------------------------------  123.9/124.9 MB 50.4 MB/s eta 0:00:01\n",
      "   --------------------------------------  124.9/124.9 MB 54.4 MB/s eta 0:00:01\n",
      "   --------------------------------------  124.9/124.9 MB 54.4 MB/s eta 0:00:01\n",
      "   --------------------------------------  124.9/124.9 MB 54.4 MB/s eta 0:00:01\n",
      "   --------------------------------------  124.9/124.9 MB 54.4 MB/s eta 0:00:01\n",
      "   --------------------------------------  124.9/124.9 MB 54.4 MB/s eta 0:00:01\n",
      "   --------------------------------------  124.9/124.9 MB 54.4 MB/s eta 0:00:01\n",
      "   --------------------------------------  124.9/124.9 MB 54.4 MB/s eta 0:00:01\n",
      "   --------------------------------------  124.9/124.9 MB 54.4 MB/s eta 0:00:01\n",
      "   --------------------------------------  124.9/124.9 MB 54.4 MB/s eta 0:00:01\n",
      "   --------------------------------------- 124.9/124.9 MB 13.1 MB/s eta 0:00:00\n",
      "Installing collected packages: xgboost\n",
      "Successfully installed xgboost-2.1.0\n"
     ]
    }
   ],
   "source": [
    "!pip install xgboost"
   ],
   "metadata": {
    "collapsed": false,
    "ExecuteTime": {
     "end_time": "2024-06-26T23:17:31.271316300Z",
     "start_time": "2024-06-26T23:17:11.800698800Z"
    }
   },
   "id": "e589f2a56d5f930",
   "execution_count": 3
  },
  {
   "cell_type": "code",
   "outputs": [
    {
     "name": "stdout",
     "output_type": "stream",
     "text": [
      "Requirement already satisfied: bayesian-optimization in c:\\users\\paulk\\anaconda3\\lib\\site-packages (1.5.0)\n",
      "Requirement already satisfied: xgboost in c:\\users\\paulk\\anaconda3\\lib\\site-packages (2.1.0)\n",
      "Requirement already satisfied: colorama<0.5.0,>=0.4.6 in c:\\users\\paulk\\anaconda3\\lib\\site-packages (from bayesian-optimization) (0.4.6)\n",
      "Requirement already satisfied: numpy<2.0.0,>=1.9.0 in c:\\users\\paulk\\anaconda3\\lib\\site-packages (from bayesian-optimization) (1.23.5)\n",
      "Requirement already satisfied: scikit-learn<2.0.0,>=1.0.0 in c:\\users\\paulk\\anaconda3\\lib\\site-packages (from bayesian-optimization) (1.4.2)\n",
      "Requirement already satisfied: scipy<2.0.0,>=1.0.0 in c:\\users\\paulk\\anaconda3\\lib\\site-packages (from bayesian-optimization) (1.11.1)\n",
      "Requirement already satisfied: joblib>=1.2.0 in c:\\users\\paulk\\anaconda3\\lib\\site-packages (from scikit-learn<2.0.0,>=1.0.0->bayesian-optimization) (1.2.0)\n",
      "Requirement already satisfied: threadpoolctl>=2.0.0 in c:\\users\\paulk\\anaconda3\\lib\\site-packages (from scikit-learn<2.0.0,>=1.0.0->bayesian-optimization) (2.2.0)\n",
      "|   iter    |  target   | colsam... | learni... | max_depth | n_esti... | subsample |\n",
      "-------------------------------------------------------------------------------------\n"
     ]
    },
    {
     "name": "stderr",
     "output_type": "stream",
     "text": [
      "C:\\Users\\paulk\\anaconda3\\Lib\\site-packages\\xgboost\\core.py:158: UserWarning: [12:02:21] WARNING: C:\\buildkite-agent\\builds\\buildkite-windows-cpu-autoscaling-group-i-06abd128ca6c1688d-1\\xgboost\\xgboost-ci-windows\\src\\learner.cc:740: \n",
      "Parameters: { \"use_label_encoder\" } are not used.\n",
      "\n",
      "  warnings.warn(smsg, UserWarning)\n",
      "C:\\Users\\paulk\\anaconda3\\Lib\\site-packages\\xgboost\\core.py:158: UserWarning: [12:02:23] WARNING: C:\\buildkite-agent\\builds\\buildkite-windows-cpu-autoscaling-group-i-06abd128ca6c1688d-1\\xgboost\\xgboost-ci-windows\\src\\learner.cc:740: \n",
      "Parameters: { \"use_label_encoder\" } are not used.\n",
      "\n",
      "  warnings.warn(smsg, UserWarning)\n",
      "C:\\Users\\paulk\\anaconda3\\Lib\\site-packages\\xgboost\\core.py:158: UserWarning: [12:02:25] WARNING: C:\\buildkite-agent\\builds\\buildkite-windows-cpu-autoscaling-group-i-06abd128ca6c1688d-1\\xgboost\\xgboost-ci-windows\\src\\learner.cc:740: \n",
      "Parameters: { \"use_label_encoder\" } are not used.\n",
      "\n",
      "  warnings.warn(smsg, UserWarning)\n",
      "C:\\Users\\paulk\\anaconda3\\Lib\\site-packages\\xgboost\\core.py:158: UserWarning: [12:02:28] WARNING: C:\\buildkite-agent\\builds\\buildkite-windows-cpu-autoscaling-group-i-06abd128ca6c1688d-1\\xgboost\\xgboost-ci-windows\\src\\learner.cc:740: \n",
      "Parameters: { \"use_label_encoder\" } are not used.\n",
      "\n",
      "  warnings.warn(smsg, UserWarning)\n",
      "C:\\Users\\paulk\\anaconda3\\Lib\\site-packages\\xgboost\\core.py:158: UserWarning: [12:02:30] WARNING: C:\\buildkite-agent\\builds\\buildkite-windows-cpu-autoscaling-group-i-06abd128ca6c1688d-1\\xgboost\\xgboost-ci-windows\\src\\learner.cc:740: \n",
      "Parameters: { \"use_label_encoder\" } are not used.\n",
      "\n",
      "  warnings.warn(smsg, UserWarning)\n"
     ]
    },
    {
     "name": "stdout",
     "output_type": "stream",
     "text": [
      "| \u001B[30m1         | \u001B[30m0.655     | \u001B[30m0.7498    | \u001B[30m0.1906    | \u001B[30m8.124     | \u001B[30m199.7     | \u001B[30m0.6624    |\n"
     ]
    },
    {
     "name": "stderr",
     "output_type": "stream",
     "text": [
      "C:\\Users\\paulk\\anaconda3\\Lib\\site-packages\\xgboost\\core.py:158: UserWarning: [12:02:33] WARNING: C:\\buildkite-agent\\builds\\buildkite-windows-cpu-autoscaling-group-i-06abd128ca6c1688d-1\\xgboost\\xgboost-ci-windows\\src\\learner.cc:740: \n",
      "Parameters: { \"use_label_encoder\" } are not used.\n",
      "\n",
      "  warnings.warn(smsg, UserWarning)\n",
      "C:\\Users\\paulk\\anaconda3\\Lib\\site-packages\\xgboost\\core.py:158: UserWarning: [12:02:36] WARNING: C:\\buildkite-agent\\builds\\buildkite-windows-cpu-autoscaling-group-i-06abd128ca6c1688d-1\\xgboost\\xgboost-ci-windows\\src\\learner.cc:740: \n",
      "Parameters: { \"use_label_encoder\" } are not used.\n",
      "\n",
      "  warnings.warn(smsg, UserWarning)\n",
      "C:\\Users\\paulk\\anaconda3\\Lib\\site-packages\\xgboost\\core.py:158: UserWarning: [12:02:39] WARNING: C:\\buildkite-agent\\builds\\buildkite-windows-cpu-autoscaling-group-i-06abd128ca6c1688d-1\\xgboost\\xgboost-ci-windows\\src\\learner.cc:740: \n",
      "Parameters: { \"use_label_encoder\" } are not used.\n",
      "\n",
      "  warnings.warn(smsg, UserWarning)\n",
      "C:\\Users\\paulk\\anaconda3\\Lib\\site-packages\\xgboost\\core.py:158: UserWarning: [12:02:43] WARNING: C:\\buildkite-agent\\builds\\buildkite-windows-cpu-autoscaling-group-i-06abd128ca6c1688d-1\\xgboost\\xgboost-ci-windows\\src\\learner.cc:740: \n",
      "Parameters: { \"use_label_encoder\" } are not used.\n",
      "\n",
      "  warnings.warn(smsg, UserWarning)\n",
      "C:\\Users\\paulk\\anaconda3\\Lib\\site-packages\\xgboost\\core.py:158: UserWarning: [12:02:46] WARNING: C:\\buildkite-agent\\builds\\buildkite-windows-cpu-autoscaling-group-i-06abd128ca6c1688d-1\\xgboost\\xgboost-ci-windows\\src\\learner.cc:740: \n",
      "Parameters: { \"use_label_encoder\" } are not used.\n",
      "\n",
      "  warnings.warn(smsg, UserWarning)\n"
     ]
    },
    {
     "name": "stdout",
     "output_type": "stream",
     "text": [
      "| \u001B[35m2         | \u001B[35m0.6818    | \u001B[35m0.6624    | \u001B[35m0.02104   | \u001B[35m9.063     | \u001B[35m200.3     | \u001B[35m0.8832    |\n"
     ]
    },
    {
     "name": "stderr",
     "output_type": "stream",
     "text": [
      "C:\\Users\\paulk\\anaconda3\\Lib\\site-packages\\xgboost\\core.py:158: UserWarning: [12:02:50] WARNING: C:\\buildkite-agent\\builds\\buildkite-windows-cpu-autoscaling-group-i-06abd128ca6c1688d-1\\xgboost\\xgboost-ci-windows\\src\\learner.cc:740: \n",
      "Parameters: { \"use_label_encoder\" } are not used.\n",
      "\n",
      "  warnings.warn(smsg, UserWarning)\n",
      "C:\\Users\\paulk\\anaconda3\\Lib\\site-packages\\xgboost\\core.py:158: UserWarning: [12:02:51] WARNING: C:\\buildkite-agent\\builds\\buildkite-windows-cpu-autoscaling-group-i-06abd128ca6c1688d-1\\xgboost\\xgboost-ci-windows\\src\\learner.cc:740: \n",
      "Parameters: { \"use_label_encoder\" } are not used.\n",
      "\n",
      "  warnings.warn(smsg, UserWarning)\n",
      "C:\\Users\\paulk\\anaconda3\\Lib\\site-packages\\xgboost\\core.py:158: UserWarning: [12:02:52] WARNING: C:\\buildkite-agent\\builds\\buildkite-windows-cpu-autoscaling-group-i-06abd128ca6c1688d-1\\xgboost\\xgboost-ci-windows\\src\\learner.cc:740: \n",
      "Parameters: { \"use_label_encoder\" } are not used.\n",
      "\n",
      "  warnings.warn(smsg, UserWarning)\n",
      "C:\\Users\\paulk\\anaconda3\\Lib\\site-packages\\xgboost\\core.py:158: UserWarning: [12:02:53] WARNING: C:\\buildkite-agent\\builds\\buildkite-windows-cpu-autoscaling-group-i-06abd128ca6c1688d-1\\xgboost\\xgboost-ci-windows\\src\\learner.cc:740: \n",
      "Parameters: { \"use_label_encoder\" } are not used.\n",
      "\n",
      "  warnings.warn(smsg, UserWarning)\n",
      "C:\\Users\\paulk\\anaconda3\\Lib\\site-packages\\xgboost\\core.py:158: UserWarning: [12:02:54] WARNING: C:\\buildkite-agent\\builds\\buildkite-windows-cpu-autoscaling-group-i-06abd128ca6c1688d-1\\xgboost\\xgboost-ci-windows\\src\\learner.cc:740: \n",
      "Parameters: { \"use_label_encoder\" } are not used.\n",
      "\n",
      "  warnings.warn(smsg, UserWarning)\n"
     ]
    },
    {
     "name": "stdout",
     "output_type": "stream",
     "text": [
      "| \u001B[30m3         | \u001B[30m0.6629    | \u001B[30m0.6082    | \u001B[30m0.1943    | \u001B[30m8.827     | \u001B[30m103.1     | \u001B[30m0.6727    |\n"
     ]
    },
    {
     "name": "stderr",
     "output_type": "stream",
     "text": [
      "C:\\Users\\paulk\\anaconda3\\Lib\\site-packages\\xgboost\\core.py:158: UserWarning: [12:02:56] WARNING: C:\\buildkite-agent\\builds\\buildkite-windows-cpu-autoscaling-group-i-06abd128ca6c1688d-1\\xgboost\\xgboost-ci-windows\\src\\learner.cc:740: \n",
      "Parameters: { \"use_label_encoder\" } are not used.\n",
      "\n",
      "  warnings.warn(smsg, UserWarning)\n",
      "C:\\Users\\paulk\\anaconda3\\Lib\\site-packages\\xgboost\\core.py:158: UserWarning: [12:02:57] WARNING: C:\\buildkite-agent\\builds\\buildkite-windows-cpu-autoscaling-group-i-06abd128ca6c1688d-1\\xgboost\\xgboost-ci-windows\\src\\learner.cc:740: \n",
      "Parameters: { \"use_label_encoder\" } are not used.\n",
      "\n",
      "  warnings.warn(smsg, UserWarning)\n",
      "C:\\Users\\paulk\\anaconda3\\Lib\\site-packages\\xgboost\\core.py:158: UserWarning: [12:02:59] WARNING: C:\\buildkite-agent\\builds\\buildkite-windows-cpu-autoscaling-group-i-06abd128ca6c1688d-1\\xgboost\\xgboost-ci-windows\\src\\learner.cc:740: \n",
      "Parameters: { \"use_label_encoder\" } are not used.\n",
      "\n",
      "  warnings.warn(smsg, UserWarning)\n",
      "C:\\Users\\paulk\\anaconda3\\Lib\\site-packages\\xgboost\\core.py:158: UserWarning: [12:03:00] WARNING: C:\\buildkite-agent\\builds\\buildkite-windows-cpu-autoscaling-group-i-06abd128ca6c1688d-1\\xgboost\\xgboost-ci-windows\\src\\learner.cc:740: \n",
      "Parameters: { \"use_label_encoder\" } are not used.\n",
      "\n",
      "  warnings.warn(smsg, UserWarning)\n",
      "C:\\Users\\paulk\\anaconda3\\Lib\\site-packages\\xgboost\\core.py:158: UserWarning: [12:03:03] WARNING: C:\\buildkite-agent\\builds\\buildkite-windows-cpu-autoscaling-group-i-06abd128ca6c1688d-1\\xgboost\\xgboost-ci-windows\\src\\learner.cc:740: \n",
      "Parameters: { \"use_label_encoder\" } are not used.\n",
      "\n",
      "  warnings.warn(smsg, UserWarning)\n"
     ]
    },
    {
     "name": "stdout",
     "output_type": "stream",
     "text": [
      "| \u001B[35m4         | \u001B[35m0.683     | \u001B[35m0.6734    | \u001B[35m0.06781   | \u001B[35m6.673     | \u001B[35m158.0     | \u001B[35m0.7165    |\n"
     ]
    },
    {
     "name": "stderr",
     "output_type": "stream",
     "text": [
      "C:\\Users\\paulk\\anaconda3\\Lib\\site-packages\\xgboost\\core.py:158: UserWarning: [12:03:07] WARNING: C:\\buildkite-agent\\builds\\buildkite-windows-cpu-autoscaling-group-i-06abd128ca6c1688d-1\\xgboost\\xgboost-ci-windows\\src\\learner.cc:740: \n",
      "Parameters: { \"use_label_encoder\" } are not used.\n",
      "\n",
      "  warnings.warn(smsg, UserWarning)\n",
      "C:\\Users\\paulk\\anaconda3\\Lib\\site-packages\\xgboost\\core.py:158: UserWarning: [12:03:09] WARNING: C:\\buildkite-agent\\builds\\buildkite-windows-cpu-autoscaling-group-i-06abd128ca6c1688d-1\\xgboost\\xgboost-ci-windows\\src\\learner.cc:740: \n",
      "Parameters: { \"use_label_encoder\" } are not used.\n",
      "\n",
      "  warnings.warn(smsg, UserWarning)\n",
      "C:\\Users\\paulk\\anaconda3\\Lib\\site-packages\\xgboost\\core.py:158: UserWarning: [12:03:10] WARNING: C:\\buildkite-agent\\builds\\buildkite-windows-cpu-autoscaling-group-i-06abd128ca6c1688d-1\\xgboost\\xgboost-ci-windows\\src\\learner.cc:740: \n",
      "Parameters: { \"use_label_encoder\" } are not used.\n",
      "\n",
      "  warnings.warn(smsg, UserWarning)\n",
      "C:\\Users\\paulk\\anaconda3\\Lib\\site-packages\\xgboost\\core.py:158: UserWarning: [12:03:10] WARNING: C:\\buildkite-agent\\builds\\buildkite-windows-cpu-autoscaling-group-i-06abd128ca6c1688d-1\\xgboost\\xgboost-ci-windows\\src\\learner.cc:740: \n",
      "Parameters: { \"use_label_encoder\" } are not used.\n",
      "\n",
      "  warnings.warn(smsg, UserWarning)\n",
      "C:\\Users\\paulk\\anaconda3\\Lib\\site-packages\\xgboost\\core.py:158: UserWarning: [12:03:11] WARNING: C:\\buildkite-agent\\builds\\buildkite-windows-cpu-autoscaling-group-i-06abd128ca6c1688d-1\\xgboost\\xgboost-ci-windows\\src\\learner.cc:740: \n",
      "Parameters: { \"use_label_encoder\" } are not used.\n",
      "\n",
      "  warnings.warn(smsg, UserWarning)\n"
     ]
    },
    {
     "name": "stdout",
     "output_type": "stream",
     "text": [
      "| \u001B[35m5         | \u001B[35m0.6835    | \u001B[35m0.8447    | \u001B[35m0.0365    | \u001B[35m5.045     | \u001B[35m141.6     | \u001B[35m0.7824    |\n"
     ]
    },
    {
     "name": "stderr",
     "output_type": "stream",
     "text": [
      "C:\\Users\\paulk\\anaconda3\\Lib\\site-packages\\xgboost\\core.py:158: UserWarning: [12:03:12] WARNING: C:\\buildkite-agent\\builds\\buildkite-windows-cpu-autoscaling-group-i-06abd128ca6c1688d-1\\xgboost\\xgboost-ci-windows\\src\\learner.cc:740: \n",
      "Parameters: { \"use_label_encoder\" } are not used.\n",
      "\n",
      "  warnings.warn(smsg, UserWarning)\n",
      "C:\\Users\\paulk\\anaconda3\\Lib\\site-packages\\xgboost\\core.py:158: UserWarning: [12:03:12] WARNING: C:\\buildkite-agent\\builds\\buildkite-windows-cpu-autoscaling-group-i-06abd128ca6c1688d-1\\xgboost\\xgboost-ci-windows\\src\\learner.cc:740: \n",
      "Parameters: { \"use_label_encoder\" } are not used.\n",
      "\n",
      "  warnings.warn(smsg, UserWarning)\n",
      "C:\\Users\\paulk\\anaconda3\\Lib\\site-packages\\xgboost\\core.py:158: UserWarning: [12:03:13] WARNING: C:\\buildkite-agent\\builds\\buildkite-windows-cpu-autoscaling-group-i-06abd128ca6c1688d-1\\xgboost\\xgboost-ci-windows\\src\\learner.cc:740: \n",
      "Parameters: { \"use_label_encoder\" } are not used.\n",
      "\n",
      "  warnings.warn(smsg, UserWarning)\n",
      "C:\\Users\\paulk\\anaconda3\\Lib\\site-packages\\xgboost\\core.py:158: UserWarning: [12:03:13] WARNING: C:\\buildkite-agent\\builds\\buildkite-windows-cpu-autoscaling-group-i-06abd128ca6c1688d-1\\xgboost\\xgboost-ci-windows\\src\\learner.cc:740: \n",
      "Parameters: { \"use_label_encoder\" } are not used.\n",
      "\n",
      "  warnings.warn(smsg, UserWarning)\n",
      "C:\\Users\\paulk\\anaconda3\\Lib\\site-packages\\xgboost\\core.py:158: UserWarning: [12:03:14] WARNING: C:\\buildkite-agent\\builds\\buildkite-windows-cpu-autoscaling-group-i-06abd128ca6c1688d-1\\xgboost\\xgboost-ci-windows\\src\\learner.cc:740: \n",
      "Parameters: { \"use_label_encoder\" } are not used.\n",
      "\n",
      "  warnings.warn(smsg, UserWarning)\n"
     ]
    },
    {
     "name": "stdout",
     "output_type": "stream",
     "text": [
      "| \u001B[30m6         | \u001B[30m0.6823    | \u001B[30m0.8736    | \u001B[30m0.02055   | \u001B[30m5.063     | \u001B[30m141.5     | \u001B[30m0.821     |\n"
     ]
    },
    {
     "name": "stderr",
     "output_type": "stream",
     "text": [
      "C:\\Users\\paulk\\anaconda3\\Lib\\site-packages\\xgboost\\core.py:158: UserWarning: [12:03:15] WARNING: C:\\buildkite-agent\\builds\\buildkite-windows-cpu-autoscaling-group-i-06abd128ca6c1688d-1\\xgboost\\xgboost-ci-windows\\src\\learner.cc:740: \n",
      "Parameters: { \"use_label_encoder\" } are not used.\n",
      "\n",
      "  warnings.warn(smsg, UserWarning)\n",
      "C:\\Users\\paulk\\anaconda3\\Lib\\site-packages\\xgboost\\core.py:158: UserWarning: [12:03:15] WARNING: C:\\buildkite-agent\\builds\\buildkite-windows-cpu-autoscaling-group-i-06abd128ca6c1688d-1\\xgboost\\xgboost-ci-windows\\src\\learner.cc:740: \n",
      "Parameters: { \"use_label_encoder\" } are not used.\n",
      "\n",
      "  warnings.warn(smsg, UserWarning)\n",
      "C:\\Users\\paulk\\anaconda3\\Lib\\site-packages\\xgboost\\core.py:158: UserWarning: [12:03:16] WARNING: C:\\buildkite-agent\\builds\\buildkite-windows-cpu-autoscaling-group-i-06abd128ca6c1688d-1\\xgboost\\xgboost-ci-windows\\src\\learner.cc:740: \n",
      "Parameters: { \"use_label_encoder\" } are not used.\n",
      "\n",
      "  warnings.warn(smsg, UserWarning)\n",
      "C:\\Users\\paulk\\anaconda3\\Lib\\site-packages\\xgboost\\core.py:158: UserWarning: [12:03:17] WARNING: C:\\buildkite-agent\\builds\\buildkite-windows-cpu-autoscaling-group-i-06abd128ca6c1688d-1\\xgboost\\xgboost-ci-windows\\src\\learner.cc:740: \n",
      "Parameters: { \"use_label_encoder\" } are not used.\n",
      "\n",
      "  warnings.warn(smsg, UserWarning)\n",
      "C:\\Users\\paulk\\anaconda3\\Lib\\site-packages\\xgboost\\core.py:158: UserWarning: [12:03:17] WARNING: C:\\buildkite-agent\\builds\\buildkite-windows-cpu-autoscaling-group-i-06abd128ca6c1688d-1\\xgboost\\xgboost-ci-windows\\src\\learner.cc:740: \n",
      "Parameters: { \"use_label_encoder\" } are not used.\n",
      "\n",
      "  warnings.warn(smsg, UserWarning)\n"
     ]
    },
    {
     "name": "stdout",
     "output_type": "stream",
     "text": [
      "| \u001B[30m7         | \u001B[30m0.6789    | \u001B[30m0.6012    | \u001B[30m0.1758    | \u001B[30m5.091     | \u001B[30m142.4     | \u001B[30m0.8449    |\n"
     ]
    },
    {
     "name": "stderr",
     "output_type": "stream",
     "text": [
      "C:\\Users\\paulk\\anaconda3\\Lib\\site-packages\\xgboost\\core.py:158: UserWarning: [12:03:18] WARNING: C:\\buildkite-agent\\builds\\buildkite-windows-cpu-autoscaling-group-i-06abd128ca6c1688d-1\\xgboost\\xgboost-ci-windows\\src\\learner.cc:740: \n",
      "Parameters: { \"use_label_encoder\" } are not used.\n",
      "\n",
      "  warnings.warn(smsg, UserWarning)\n",
      "C:\\Users\\paulk\\anaconda3\\Lib\\site-packages\\xgboost\\core.py:158: UserWarning: [12:03:18] WARNING: C:\\buildkite-agent\\builds\\buildkite-windows-cpu-autoscaling-group-i-06abd128ca6c1688d-1\\xgboost\\xgboost-ci-windows\\src\\learner.cc:740: \n",
      "Parameters: { \"use_label_encoder\" } are not used.\n",
      "\n",
      "  warnings.warn(smsg, UserWarning)\n",
      "C:\\Users\\paulk\\anaconda3\\Lib\\site-packages\\xgboost\\core.py:158: UserWarning: [12:03:19] WARNING: C:\\buildkite-agent\\builds\\buildkite-windows-cpu-autoscaling-group-i-06abd128ca6c1688d-1\\xgboost\\xgboost-ci-windows\\src\\learner.cc:740: \n",
      "Parameters: { \"use_label_encoder\" } are not used.\n",
      "\n",
      "  warnings.warn(smsg, UserWarning)\n",
      "C:\\Users\\paulk\\anaconda3\\Lib\\site-packages\\xgboost\\core.py:158: UserWarning: [12:03:19] WARNING: C:\\buildkite-agent\\builds\\buildkite-windows-cpu-autoscaling-group-i-06abd128ca6c1688d-1\\xgboost\\xgboost-ci-windows\\src\\learner.cc:740: \n",
      "Parameters: { \"use_label_encoder\" } are not used.\n",
      "\n",
      "  warnings.warn(smsg, UserWarning)\n",
      "C:\\Users\\paulk\\anaconda3\\Lib\\site-packages\\xgboost\\core.py:158: UserWarning: [12:03:20] WARNING: C:\\buildkite-agent\\builds\\buildkite-windows-cpu-autoscaling-group-i-06abd128ca6c1688d-1\\xgboost\\xgboost-ci-windows\\src\\learner.cc:740: \n",
      "Parameters: { \"use_label_encoder\" } are not used.\n",
      "\n",
      "  warnings.warn(smsg, UserWarning)\n"
     ]
    },
    {
     "name": "stdout",
     "output_type": "stream",
     "text": [
      "| \u001B[30m8         | \u001B[30m0.6773    | \u001B[30m0.6       | \u001B[30m0.2       | \u001B[30m4.253     | \u001B[30m141.7     | \u001B[30m0.6       |\n"
     ]
    },
    {
     "name": "stderr",
     "output_type": "stream",
     "text": [
      "C:\\Users\\paulk\\anaconda3\\Lib\\site-packages\\xgboost\\core.py:158: UserWarning: [12:03:21] WARNING: C:\\buildkite-agent\\builds\\buildkite-windows-cpu-autoscaling-group-i-06abd128ca6c1688d-1\\xgboost\\xgboost-ci-windows\\src\\learner.cc:740: \n",
      "Parameters: { \"use_label_encoder\" } are not used.\n",
      "\n",
      "  warnings.warn(smsg, UserWarning)\n",
      "C:\\Users\\paulk\\anaconda3\\Lib\\site-packages\\xgboost\\core.py:158: UserWarning: [12:03:22] WARNING: C:\\buildkite-agent\\builds\\buildkite-windows-cpu-autoscaling-group-i-06abd128ca6c1688d-1\\xgboost\\xgboost-ci-windows\\src\\learner.cc:740: \n",
      "Parameters: { \"use_label_encoder\" } are not used.\n",
      "\n",
      "  warnings.warn(smsg, UserWarning)\n",
      "C:\\Users\\paulk\\anaconda3\\Lib\\site-packages\\xgboost\\core.py:158: UserWarning: [12:03:24] WARNING: C:\\buildkite-agent\\builds\\buildkite-windows-cpu-autoscaling-group-i-06abd128ca6c1688d-1\\xgboost\\xgboost-ci-windows\\src\\learner.cc:740: \n",
      "Parameters: { \"use_label_encoder\" } are not used.\n",
      "\n",
      "  warnings.warn(smsg, UserWarning)\n",
      "C:\\Users\\paulk\\anaconda3\\Lib\\site-packages\\xgboost\\core.py:158: UserWarning: [12:03:26] WARNING: C:\\buildkite-agent\\builds\\buildkite-windows-cpu-autoscaling-group-i-06abd128ca6c1688d-1\\xgboost\\xgboost-ci-windows\\src\\learner.cc:740: \n",
      "Parameters: { \"use_label_encoder\" } are not used.\n",
      "\n",
      "  warnings.warn(smsg, UserWarning)\n",
      "C:\\Users\\paulk\\anaconda3\\Lib\\site-packages\\xgboost\\core.py:158: UserWarning: [12:03:28] WARNING: C:\\buildkite-agent\\builds\\buildkite-windows-cpu-autoscaling-group-i-06abd128ca6c1688d-1\\xgboost\\xgboost-ci-windows\\src\\learner.cc:740: \n",
      "Parameters: { \"use_label_encoder\" } are not used.\n",
      "\n",
      "  warnings.warn(smsg, UserWarning)\n"
     ]
    },
    {
     "name": "stdout",
     "output_type": "stream",
     "text": [
      "| \u001B[30m9         | \u001B[30m0.6802    | \u001B[30m0.6018    | \u001B[30m0.01      | \u001B[30m9.781     | \u001B[30m200.7     | \u001B[30m1.0       |\n"
     ]
    },
    {
     "name": "stderr",
     "output_type": "stream",
     "text": [
      "C:\\Users\\paulk\\anaconda3\\Lib\\site-packages\\xgboost\\core.py:158: UserWarning: [12:03:30] WARNING: C:\\buildkite-agent\\builds\\buildkite-windows-cpu-autoscaling-group-i-06abd128ca6c1688d-1\\xgboost\\xgboost-ci-windows\\src\\learner.cc:740: \n",
      "Parameters: { \"use_label_encoder\" } are not used.\n",
      "\n",
      "  warnings.warn(smsg, UserWarning)\n",
      "C:\\Users\\paulk\\anaconda3\\Lib\\site-packages\\xgboost\\core.py:158: UserWarning: [12:03:30] WARNING: C:\\buildkite-agent\\builds\\buildkite-windows-cpu-autoscaling-group-i-06abd128ca6c1688d-1\\xgboost\\xgboost-ci-windows\\src\\learner.cc:740: \n",
      "Parameters: { \"use_label_encoder\" } are not used.\n",
      "\n",
      "  warnings.warn(smsg, UserWarning)\n",
      "C:\\Users\\paulk\\anaconda3\\Lib\\site-packages\\xgboost\\core.py:158: UserWarning: [12:03:31] WARNING: C:\\buildkite-agent\\builds\\buildkite-windows-cpu-autoscaling-group-i-06abd128ca6c1688d-1\\xgboost\\xgboost-ci-windows\\src\\learner.cc:740: \n",
      "Parameters: { \"use_label_encoder\" } are not used.\n",
      "\n",
      "  warnings.warn(smsg, UserWarning)\n",
      "C:\\Users\\paulk\\anaconda3\\Lib\\site-packages\\xgboost\\core.py:158: UserWarning: [12:03:31] WARNING: C:\\buildkite-agent\\builds\\buildkite-windows-cpu-autoscaling-group-i-06abd128ca6c1688d-1\\xgboost\\xgboost-ci-windows\\src\\learner.cc:740: \n",
      "Parameters: { \"use_label_encoder\" } are not used.\n",
      "\n",
      "  warnings.warn(smsg, UserWarning)\n",
      "C:\\Users\\paulk\\anaconda3\\Lib\\site-packages\\xgboost\\core.py:158: UserWarning: [12:03:32] WARNING: C:\\buildkite-agent\\builds\\buildkite-windows-cpu-autoscaling-group-i-06abd128ca6c1688d-1\\xgboost\\xgboost-ci-windows\\src\\learner.cc:740: \n",
      "Parameters: { \"use_label_encoder\" } are not used.\n",
      "\n",
      "  warnings.warn(smsg, UserWarning)\n"
     ]
    },
    {
     "name": "stdout",
     "output_type": "stream",
     "text": [
      "| \u001B[30m10        | \u001B[30m0.6736    | \u001B[30m0.6       | \u001B[30m0.2       | \u001B[30m5.831     | \u001B[30m141.7     | \u001B[30m0.6       |\n"
     ]
    },
    {
     "name": "stderr",
     "output_type": "stream",
     "text": [
      "C:\\Users\\paulk\\anaconda3\\Lib\\site-packages\\xgboost\\core.py:158: UserWarning: [12:03:32] WARNING: C:\\buildkite-agent\\builds\\buildkite-windows-cpu-autoscaling-group-i-06abd128ca6c1688d-1\\xgboost\\xgboost-ci-windows\\src\\learner.cc:740: \n",
      "Parameters: { \"use_label_encoder\" } are not used.\n",
      "\n",
      "  warnings.warn(smsg, UserWarning)\n",
      "C:\\Users\\paulk\\anaconda3\\Lib\\site-packages\\xgboost\\core.py:158: UserWarning: [12:03:33] WARNING: C:\\buildkite-agent\\builds\\buildkite-windows-cpu-autoscaling-group-i-06abd128ca6c1688d-1\\xgboost\\xgboost-ci-windows\\src\\learner.cc:740: \n",
      "Parameters: { \"use_label_encoder\" } are not used.\n",
      "\n",
      "  warnings.warn(smsg, UserWarning)\n",
      "C:\\Users\\paulk\\anaconda3\\Lib\\site-packages\\xgboost\\core.py:158: UserWarning: [12:03:34] WARNING: C:\\buildkite-agent\\builds\\buildkite-windows-cpu-autoscaling-group-i-06abd128ca6c1688d-1\\xgboost\\xgboost-ci-windows\\src\\learner.cc:740: \n",
      "Parameters: { \"use_label_encoder\" } are not used.\n",
      "\n",
      "  warnings.warn(smsg, UserWarning)\n",
      "C:\\Users\\paulk\\anaconda3\\Lib\\site-packages\\xgboost\\core.py:158: UserWarning: [12:03:35] WARNING: C:\\buildkite-agent\\builds\\buildkite-windows-cpu-autoscaling-group-i-06abd128ca6c1688d-1\\xgboost\\xgboost-ci-windows\\src\\learner.cc:740: \n",
      "Parameters: { \"use_label_encoder\" } are not used.\n",
      "\n",
      "  warnings.warn(smsg, UserWarning)\n",
      "C:\\Users\\paulk\\anaconda3\\Lib\\site-packages\\xgboost\\core.py:158: UserWarning: [12:03:35] WARNING: C:\\buildkite-agent\\builds\\buildkite-windows-cpu-autoscaling-group-i-06abd128ca6c1688d-1\\xgboost\\xgboost-ci-windows\\src\\learner.cc:740: \n",
      "Parameters: { \"use_label_encoder\" } are not used.\n",
      "\n",
      "  warnings.warn(smsg, UserWarning)\n"
     ]
    },
    {
     "name": "stdout",
     "output_type": "stream",
     "text": [
      "| \u001B[30m11        | \u001B[30m0.6773    | \u001B[30m0.7924    | \u001B[30m0.117     | \u001B[30m7.0       | \u001B[30m158.8     | \u001B[30m0.7095    |\n"
     ]
    },
    {
     "name": "stderr",
     "output_type": "stream",
     "text": [
      "C:\\Users\\paulk\\anaconda3\\Lib\\site-packages\\xgboost\\core.py:158: UserWarning: [12:03:36] WARNING: C:\\buildkite-agent\\builds\\buildkite-windows-cpu-autoscaling-group-i-06abd128ca6c1688d-1\\xgboost\\xgboost-ci-windows\\src\\learner.cc:740: \n",
      "Parameters: { \"use_label_encoder\" } are not used.\n",
      "\n",
      "  warnings.warn(smsg, UserWarning)\n",
      "C:\\Users\\paulk\\anaconda3\\Lib\\site-packages\\xgboost\\core.py:158: UserWarning: [12:03:37] WARNING: C:\\buildkite-agent\\builds\\buildkite-windows-cpu-autoscaling-group-i-06abd128ca6c1688d-1\\xgboost\\xgboost-ci-windows\\src\\learner.cc:740: \n",
      "Parameters: { \"use_label_encoder\" } are not used.\n",
      "\n",
      "  warnings.warn(smsg, UserWarning)\n",
      "C:\\Users\\paulk\\anaconda3\\Lib\\site-packages\\xgboost\\core.py:158: UserWarning: [12:03:38] WARNING: C:\\buildkite-agent\\builds\\buildkite-windows-cpu-autoscaling-group-i-06abd128ca6c1688d-1\\xgboost\\xgboost-ci-windows\\src\\learner.cc:740: \n",
      "Parameters: { \"use_label_encoder\" } are not used.\n",
      "\n",
      "  warnings.warn(smsg, UserWarning)\n",
      "C:\\Users\\paulk\\anaconda3\\Lib\\site-packages\\xgboost\\core.py:158: UserWarning: [12:03:39] WARNING: C:\\buildkite-agent\\builds\\buildkite-windows-cpu-autoscaling-group-i-06abd128ca6c1688d-1\\xgboost\\xgboost-ci-windows\\src\\learner.cc:740: \n",
      "Parameters: { \"use_label_encoder\" } are not used.\n",
      "\n",
      "  warnings.warn(smsg, UserWarning)\n",
      "C:\\Users\\paulk\\anaconda3\\Lib\\site-packages\\xgboost\\core.py:158: UserWarning: [12:03:40] WARNING: C:\\buildkite-agent\\builds\\buildkite-windows-cpu-autoscaling-group-i-06abd128ca6c1688d-1\\xgboost\\xgboost-ci-windows\\src\\learner.cc:740: \n",
      "Parameters: { \"use_label_encoder\" } are not used.\n",
      "\n",
      "  warnings.warn(smsg, UserWarning)\n"
     ]
    },
    {
     "name": "stdout",
     "output_type": "stream",
     "text": [
      "| \u001B[30m12        | \u001B[30m0.6823    | \u001B[30m0.6303    | \u001B[30m0.03927   | \u001B[30m7.141     | \u001B[30m157.4     | \u001B[30m0.97      |\n"
     ]
    },
    {
     "name": "stderr",
     "output_type": "stream",
     "text": [
      "C:\\Users\\paulk\\anaconda3\\Lib\\site-packages\\xgboost\\core.py:158: UserWarning: [12:03:41] WARNING: C:\\buildkite-agent\\builds\\buildkite-windows-cpu-autoscaling-group-i-06abd128ca6c1688d-1\\xgboost\\xgboost-ci-windows\\src\\learner.cc:740: \n",
      "Parameters: { \"use_label_encoder\" } are not used.\n",
      "\n",
      "  warnings.warn(smsg, UserWarning)\n",
      "C:\\Users\\paulk\\anaconda3\\Lib\\site-packages\\xgboost\\core.py:158: UserWarning: [12:03:41] WARNING: C:\\buildkite-agent\\builds\\buildkite-windows-cpu-autoscaling-group-i-06abd128ca6c1688d-1\\xgboost\\xgboost-ci-windows\\src\\learner.cc:740: \n",
      "Parameters: { \"use_label_encoder\" } are not used.\n",
      "\n",
      "  warnings.warn(smsg, UserWarning)\n",
      "C:\\Users\\paulk\\anaconda3\\Lib\\site-packages\\xgboost\\core.py:158: UserWarning: [12:03:42] WARNING: C:\\buildkite-agent\\builds\\buildkite-windows-cpu-autoscaling-group-i-06abd128ca6c1688d-1\\xgboost\\xgboost-ci-windows\\src\\learner.cc:740: \n",
      "Parameters: { \"use_label_encoder\" } are not used.\n",
      "\n",
      "  warnings.warn(smsg, UserWarning)\n",
      "C:\\Users\\paulk\\anaconda3\\Lib\\site-packages\\xgboost\\core.py:158: UserWarning: [12:03:43] WARNING: C:\\buildkite-agent\\builds\\buildkite-windows-cpu-autoscaling-group-i-06abd128ca6c1688d-1\\xgboost\\xgboost-ci-windows\\src\\learner.cc:740: \n",
      "Parameters: { \"use_label_encoder\" } are not used.\n",
      "\n",
      "  warnings.warn(smsg, UserWarning)\n",
      "C:\\Users\\paulk\\anaconda3\\Lib\\site-packages\\xgboost\\core.py:158: UserWarning: [12:03:44] WARNING: C:\\buildkite-agent\\builds\\buildkite-windows-cpu-autoscaling-group-i-06abd128ca6c1688d-1\\xgboost\\xgboost-ci-windows\\src\\learner.cc:740: \n",
      "Parameters: { \"use_label_encoder\" } are not used.\n",
      "\n",
      "  warnings.warn(smsg, UserWarning)\n"
     ]
    },
    {
     "name": "stdout",
     "output_type": "stream",
     "text": [
      "| \u001B[30m13        | \u001B[30m0.6826    | \u001B[30m0.7523    | \u001B[30m0.01329   | \u001B[30m6.229     | \u001B[30m157.2     | \u001B[30m0.855     |\n"
     ]
    },
    {
     "name": "stderr",
     "output_type": "stream",
     "text": [
      "C:\\Users\\paulk\\anaconda3\\Lib\\site-packages\\xgboost\\core.py:158: UserWarning: [12:03:45] WARNING: C:\\buildkite-agent\\builds\\buildkite-windows-cpu-autoscaling-group-i-06abd128ca6c1688d-1\\xgboost\\xgboost-ci-windows\\src\\learner.cc:740: \n",
      "Parameters: { \"use_label_encoder\" } are not used.\n",
      "\n",
      "  warnings.warn(smsg, UserWarning)\n",
      "C:\\Users\\paulk\\anaconda3\\Lib\\site-packages\\xgboost\\core.py:158: UserWarning: [12:03:45] WARNING: C:\\buildkite-agent\\builds\\buildkite-windows-cpu-autoscaling-group-i-06abd128ca6c1688d-1\\xgboost\\xgboost-ci-windows\\src\\learner.cc:740: \n",
      "Parameters: { \"use_label_encoder\" } are not used.\n",
      "\n",
      "  warnings.warn(smsg, UserWarning)\n",
      "C:\\Users\\paulk\\anaconda3\\Lib\\site-packages\\xgboost\\core.py:158: UserWarning: [12:03:46] WARNING: C:\\buildkite-agent\\builds\\buildkite-windows-cpu-autoscaling-group-i-06abd128ca6c1688d-1\\xgboost\\xgboost-ci-windows\\src\\learner.cc:740: \n",
      "Parameters: { \"use_label_encoder\" } are not used.\n",
      "\n",
      "  warnings.warn(smsg, UserWarning)\n",
      "C:\\Users\\paulk\\anaconda3\\Lib\\site-packages\\xgboost\\core.py:158: UserWarning: [12:03:46] WARNING: C:\\buildkite-agent\\builds\\buildkite-windows-cpu-autoscaling-group-i-06abd128ca6c1688d-1\\xgboost\\xgboost-ci-windows\\src\\learner.cc:740: \n",
      "Parameters: { \"use_label_encoder\" } are not used.\n",
      "\n",
      "  warnings.warn(smsg, UserWarning)\n",
      "C:\\Users\\paulk\\anaconda3\\Lib\\site-packages\\xgboost\\core.py:158: UserWarning: [12:03:47] WARNING: C:\\buildkite-agent\\builds\\buildkite-windows-cpu-autoscaling-group-i-06abd128ca6c1688d-1\\xgboost\\xgboost-ci-windows\\src\\learner.cc:740: \n",
      "Parameters: { \"use_label_encoder\" } are not used.\n",
      "\n",
      "  warnings.warn(smsg, UserWarning)\n"
     ]
    },
    {
     "name": "stdout",
     "output_type": "stream",
     "text": [
      "| \u001B[30m14        | \u001B[30m0.6783    | \u001B[30m0.6       | \u001B[30m0.2       | \u001B[30m5.737     | \u001B[30m158.0     | \u001B[30m1.0       |\n"
     ]
    },
    {
     "name": "stderr",
     "output_type": "stream",
     "text": [
      "C:\\Users\\paulk\\anaconda3\\Lib\\site-packages\\xgboost\\core.py:158: UserWarning: [12:03:47] WARNING: C:\\buildkite-agent\\builds\\buildkite-windows-cpu-autoscaling-group-i-06abd128ca6c1688d-1\\xgboost\\xgboost-ci-windows\\src\\learner.cc:740: \n",
      "Parameters: { \"use_label_encoder\" } are not used.\n",
      "\n",
      "  warnings.warn(smsg, UserWarning)\n",
      "C:\\Users\\paulk\\anaconda3\\Lib\\site-packages\\xgboost\\core.py:158: UserWarning: [12:03:49] WARNING: C:\\buildkite-agent\\builds\\buildkite-windows-cpu-autoscaling-group-i-06abd128ca6c1688d-1\\xgboost\\xgboost-ci-windows\\src\\learner.cc:740: \n",
      "Parameters: { \"use_label_encoder\" } are not used.\n",
      "\n",
      "  warnings.warn(smsg, UserWarning)\n",
      "C:\\Users\\paulk\\anaconda3\\Lib\\site-packages\\xgboost\\core.py:158: UserWarning: [12:03:50] WARNING: C:\\buildkite-agent\\builds\\buildkite-windows-cpu-autoscaling-group-i-06abd128ca6c1688d-1\\xgboost\\xgboost-ci-windows\\src\\learner.cc:740: \n",
      "Parameters: { \"use_label_encoder\" } are not used.\n",
      "\n",
      "  warnings.warn(smsg, UserWarning)\n",
      "C:\\Users\\paulk\\anaconda3\\Lib\\site-packages\\xgboost\\core.py:158: UserWarning: [12:03:52] WARNING: C:\\buildkite-agent\\builds\\buildkite-windows-cpu-autoscaling-group-i-06abd128ca6c1688d-1\\xgboost\\xgboost-ci-windows\\src\\learner.cc:740: \n",
      "Parameters: { \"use_label_encoder\" } are not used.\n",
      "\n",
      "  warnings.warn(smsg, UserWarning)\n",
      "C:\\Users\\paulk\\anaconda3\\Lib\\site-packages\\xgboost\\core.py:158: UserWarning: [12:03:53] WARNING: C:\\buildkite-agent\\builds\\buildkite-windows-cpu-autoscaling-group-i-06abd128ca6c1688d-1\\xgboost\\xgboost-ci-windows\\src\\learner.cc:740: \n",
      "Parameters: { \"use_label_encoder\" } are not used.\n",
      "\n",
      "  warnings.warn(smsg, UserWarning)\n"
     ]
    },
    {
     "name": "stdout",
     "output_type": "stream",
     "text": [
      "| \u001B[30m15        | \u001B[30m0.678     | \u001B[30m0.7914    | \u001B[30m0.01      | \u001B[30m8.919     | \u001B[30m201.3     | \u001B[30m1.0       |\n"
     ]
    },
    {
     "name": "stderr",
     "output_type": "stream",
     "text": [
      "C:\\Users\\paulk\\anaconda3\\Lib\\site-packages\\xgboost\\core.py:158: UserWarning: [12:03:55] WARNING: C:\\buildkite-agent\\builds\\buildkite-windows-cpu-autoscaling-group-i-06abd128ca6c1688d-1\\xgboost\\xgboost-ci-windows\\src\\learner.cc:740: \n",
      "Parameters: { \"use_label_encoder\" } are not used.\n",
      "\n",
      "  warnings.warn(smsg, UserWarning)\n",
      "C:\\Users\\paulk\\anaconda3\\Lib\\site-packages\\xgboost\\core.py:158: UserWarning: [12:03:55] WARNING: C:\\buildkite-agent\\builds\\buildkite-windows-cpu-autoscaling-group-i-06abd128ca6c1688d-1\\xgboost\\xgboost-ci-windows\\src\\learner.cc:740: \n",
      "Parameters: { \"use_label_encoder\" } are not used.\n",
      "\n",
      "  warnings.warn(smsg, UserWarning)\n",
      "C:\\Users\\paulk\\anaconda3\\Lib\\site-packages\\xgboost\\core.py:158: UserWarning: [12:03:56] WARNING: C:\\buildkite-agent\\builds\\buildkite-windows-cpu-autoscaling-group-i-06abd128ca6c1688d-1\\xgboost\\xgboost-ci-windows\\src\\learner.cc:740: \n",
      "Parameters: { \"use_label_encoder\" } are not used.\n",
      "\n",
      "  warnings.warn(smsg, UserWarning)\n",
      "C:\\Users\\paulk\\anaconda3\\Lib\\site-packages\\xgboost\\core.py:158: UserWarning: [12:03:57] WARNING: C:\\buildkite-agent\\builds\\buildkite-windows-cpu-autoscaling-group-i-06abd128ca6c1688d-1\\xgboost\\xgboost-ci-windows\\src\\learner.cc:740: \n",
      "Parameters: { \"use_label_encoder\" } are not used.\n",
      "\n",
      "  warnings.warn(smsg, UserWarning)\n",
      "C:\\Users\\paulk\\anaconda3\\Lib\\site-packages\\xgboost\\core.py:158: UserWarning: [12:03:57] WARNING: C:\\buildkite-agent\\builds\\buildkite-windows-cpu-autoscaling-group-i-06abd128ca6c1688d-1\\xgboost\\xgboost-ci-windows\\src\\learner.cc:740: \n",
      "Parameters: { \"use_label_encoder\" } are not used.\n",
      "\n",
      "  warnings.warn(smsg, UserWarning)\n"
     ]
    },
    {
     "name": "stdout",
     "output_type": "stream",
     "text": [
      "| \u001B[30m16        | \u001B[30m0.6671    | \u001B[30m1.0       | \u001B[30m0.2       | \u001B[30m6.835     | \u001B[30m156.6     | \u001B[30m0.6       |\n"
     ]
    },
    {
     "name": "stderr",
     "output_type": "stream",
     "text": [
      "C:\\Users\\paulk\\anaconda3\\Lib\\site-packages\\xgboost\\core.py:158: UserWarning: [12:03:58] WARNING: C:\\buildkite-agent\\builds\\buildkite-windows-cpu-autoscaling-group-i-06abd128ca6c1688d-1\\xgboost\\xgboost-ci-windows\\src\\learner.cc:740: \n",
      "Parameters: { \"use_label_encoder\" } are not used.\n",
      "\n",
      "  warnings.warn(smsg, UserWarning)\n",
      "C:\\Users\\paulk\\anaconda3\\Lib\\site-packages\\xgboost\\core.py:158: UserWarning: [12:04:00] WARNING: C:\\buildkite-agent\\builds\\buildkite-windows-cpu-autoscaling-group-i-06abd128ca6c1688d-1\\xgboost\\xgboost-ci-windows\\src\\learner.cc:740: \n",
      "Parameters: { \"use_label_encoder\" } are not used.\n",
      "\n",
      "  warnings.warn(smsg, UserWarning)\n",
      "C:\\Users\\paulk\\anaconda3\\Lib\\site-packages\\xgboost\\core.py:158: UserWarning: [12:04:02] WARNING: C:\\buildkite-agent\\builds\\buildkite-windows-cpu-autoscaling-group-i-06abd128ca6c1688d-1\\xgboost\\xgboost-ci-windows\\src\\learner.cc:740: \n",
      "Parameters: { \"use_label_encoder\" } are not used.\n",
      "\n",
      "  warnings.warn(smsg, UserWarning)\n",
      "C:\\Users\\paulk\\anaconda3\\Lib\\site-packages\\xgboost\\core.py:158: UserWarning: [12:04:04] WARNING: C:\\buildkite-agent\\builds\\buildkite-windows-cpu-autoscaling-group-i-06abd128ca6c1688d-1\\xgboost\\xgboost-ci-windows\\src\\learner.cc:740: \n",
      "Parameters: { \"use_label_encoder\" } are not used.\n",
      "\n",
      "  warnings.warn(smsg, UserWarning)\n",
      "C:\\Users\\paulk\\anaconda3\\Lib\\site-packages\\xgboost\\core.py:158: UserWarning: [12:04:05] WARNING: C:\\buildkite-agent\\builds\\buildkite-windows-cpu-autoscaling-group-i-06abd128ca6c1688d-1\\xgboost\\xgboost-ci-windows\\src\\learner.cc:740: \n",
      "Parameters: { \"use_label_encoder\" } are not used.\n",
      "\n",
      "  warnings.warn(smsg, UserWarning)\n"
     ]
    },
    {
     "name": "stdout",
     "output_type": "stream",
     "text": [
      "| \u001B[30m17        | \u001B[30m0.672     | \u001B[30m1.0       | \u001B[30m0.01      | \u001B[30m9.728     | \u001B[30m200.0     | \u001B[30m1.0       |\n"
     ]
    },
    {
     "name": "stderr",
     "output_type": "stream",
     "text": [
      "C:\\Users\\paulk\\anaconda3\\Lib\\site-packages\\xgboost\\core.py:158: UserWarning: [12:04:08] WARNING: C:\\buildkite-agent\\builds\\buildkite-windows-cpu-autoscaling-group-i-06abd128ca6c1688d-1\\xgboost\\xgboost-ci-windows\\src\\learner.cc:740: \n",
      "Parameters: { \"use_label_encoder\" } are not used.\n",
      "\n",
      "  warnings.warn(smsg, UserWarning)\n",
      "C:\\Users\\paulk\\anaconda3\\Lib\\site-packages\\xgboost\\core.py:158: UserWarning: [12:04:09] WARNING: C:\\buildkite-agent\\builds\\buildkite-windows-cpu-autoscaling-group-i-06abd128ca6c1688d-1\\xgboost\\xgboost-ci-windows\\src\\learner.cc:740: \n",
      "Parameters: { \"use_label_encoder\" } are not used.\n",
      "\n",
      "  warnings.warn(smsg, UserWarning)\n",
      "C:\\Users\\paulk\\anaconda3\\Lib\\site-packages\\xgboost\\core.py:158: UserWarning: [12:04:10] WARNING: C:\\buildkite-agent\\builds\\buildkite-windows-cpu-autoscaling-group-i-06abd128ca6c1688d-1\\xgboost\\xgboost-ci-windows\\src\\learner.cc:740: \n",
      "Parameters: { \"use_label_encoder\" } are not used.\n",
      "\n",
      "  warnings.warn(smsg, UserWarning)\n",
      "C:\\Users\\paulk\\anaconda3\\Lib\\site-packages\\xgboost\\core.py:158: UserWarning: [12:04:11] WARNING: C:\\buildkite-agent\\builds\\buildkite-windows-cpu-autoscaling-group-i-06abd128ca6c1688d-1\\xgboost\\xgboost-ci-windows\\src\\learner.cc:740: \n",
      "Parameters: { \"use_label_encoder\" } are not used.\n",
      "\n",
      "  warnings.warn(smsg, UserWarning)\n",
      "C:\\Users\\paulk\\anaconda3\\Lib\\site-packages\\xgboost\\core.py:158: UserWarning: [12:04:13] WARNING: C:\\buildkite-agent\\builds\\buildkite-windows-cpu-autoscaling-group-i-06abd128ca6c1688d-1\\xgboost\\xgboost-ci-windows\\src\\learner.cc:740: \n",
      "Parameters: { \"use_label_encoder\" } are not used.\n",
      "\n",
      "  warnings.warn(smsg, UserWarning)\n"
     ]
    },
    {
     "name": "stdout",
     "output_type": "stream",
     "text": [
      "| \u001B[30m18        | \u001B[30m0.6738    | \u001B[30m0.9716    | \u001B[30m0.1403    | \u001B[30m6.297     | \u001B[30m291.1     | \u001B[30m0.975     |\n"
     ]
    },
    {
     "name": "stderr",
     "output_type": "stream",
     "text": [
      "C:\\Users\\paulk\\anaconda3\\Lib\\site-packages\\xgboost\\core.py:158: UserWarning: [12:04:14] WARNING: C:\\buildkite-agent\\builds\\buildkite-windows-cpu-autoscaling-group-i-06abd128ca6c1688d-1\\xgboost\\xgboost-ci-windows\\src\\learner.cc:740: \n",
      "Parameters: { \"use_label_encoder\" } are not used.\n",
      "\n",
      "  warnings.warn(smsg, UserWarning)\n",
      "C:\\Users\\paulk\\anaconda3\\Lib\\site-packages\\xgboost\\core.py:158: UserWarning: [12:04:15] WARNING: C:\\buildkite-agent\\builds\\buildkite-windows-cpu-autoscaling-group-i-06abd128ca6c1688d-1\\xgboost\\xgboost-ci-windows\\src\\learner.cc:740: \n",
      "Parameters: { \"use_label_encoder\" } are not used.\n",
      "\n",
      "  warnings.warn(smsg, UserWarning)\n",
      "C:\\Users\\paulk\\anaconda3\\Lib\\site-packages\\xgboost\\core.py:158: UserWarning: [12:04:16] WARNING: C:\\buildkite-agent\\builds\\buildkite-windows-cpu-autoscaling-group-i-06abd128ca6c1688d-1\\xgboost\\xgboost-ci-windows\\src\\learner.cc:740: \n",
      "Parameters: { \"use_label_encoder\" } are not used.\n",
      "\n",
      "  warnings.warn(smsg, UserWarning)\n",
      "C:\\Users\\paulk\\anaconda3\\Lib\\site-packages\\xgboost\\core.py:158: UserWarning: [12:04:16] WARNING: C:\\buildkite-agent\\builds\\buildkite-windows-cpu-autoscaling-group-i-06abd128ca6c1688d-1\\xgboost\\xgboost-ci-windows\\src\\learner.cc:740: \n",
      "Parameters: { \"use_label_encoder\" } are not used.\n",
      "\n",
      "  warnings.warn(smsg, UserWarning)\n",
      "C:\\Users\\paulk\\anaconda3\\Lib\\site-packages\\xgboost\\core.py:158: UserWarning: [12:04:17] WARNING: C:\\buildkite-agent\\builds\\buildkite-windows-cpu-autoscaling-group-i-06abd128ca6c1688d-1\\xgboost\\xgboost-ci-windows\\src\\learner.cc:740: \n",
      "Parameters: { \"use_label_encoder\" } are not used.\n",
      "\n",
      "  warnings.warn(smsg, UserWarning)\n"
     ]
    },
    {
     "name": "stdout",
     "output_type": "stream",
     "text": [
      "| \u001B[30m19        | \u001B[30m0.6824    | \u001B[30m0.6       | \u001B[30m0.01      | \u001B[30m7.29      | \u001B[30m158.0     | \u001B[30m1.0       |\n"
     ]
    },
    {
     "name": "stderr",
     "output_type": "stream",
     "text": [
      "C:\\Users\\paulk\\anaconda3\\Lib\\site-packages\\xgboost\\core.py:158: UserWarning: [12:04:18] WARNING: C:\\buildkite-agent\\builds\\buildkite-windows-cpu-autoscaling-group-i-06abd128ca6c1688d-1\\xgboost\\xgboost-ci-windows\\src\\learner.cc:740: \n",
      "Parameters: { \"use_label_encoder\" } are not used.\n",
      "\n",
      "  warnings.warn(smsg, UserWarning)\n",
      "C:\\Users\\paulk\\anaconda3\\Lib\\site-packages\\xgboost\\core.py:158: UserWarning: [12:04:19] WARNING: C:\\buildkite-agent\\builds\\buildkite-windows-cpu-autoscaling-group-i-06abd128ca6c1688d-1\\xgboost\\xgboost-ci-windows\\src\\learner.cc:740: \n",
      "Parameters: { \"use_label_encoder\" } are not used.\n",
      "\n",
      "  warnings.warn(smsg, UserWarning)\n",
      "C:\\Users\\paulk\\anaconda3\\Lib\\site-packages\\xgboost\\core.py:158: UserWarning: [12:04:19] WARNING: C:\\buildkite-agent\\builds\\buildkite-windows-cpu-autoscaling-group-i-06abd128ca6c1688d-1\\xgboost\\xgboost-ci-windows\\src\\learner.cc:740: \n",
      "Parameters: { \"use_label_encoder\" } are not used.\n",
      "\n",
      "  warnings.warn(smsg, UserWarning)\n",
      "C:\\Users\\paulk\\anaconda3\\Lib\\site-packages\\xgboost\\core.py:158: UserWarning: [12:04:20] WARNING: C:\\buildkite-agent\\builds\\buildkite-windows-cpu-autoscaling-group-i-06abd128ca6c1688d-1\\xgboost\\xgboost-ci-windows\\src\\learner.cc:740: \n",
      "Parameters: { \"use_label_encoder\" } are not used.\n",
      "\n",
      "  warnings.warn(smsg, UserWarning)\n",
      "C:\\Users\\paulk\\anaconda3\\Lib\\site-packages\\xgboost\\core.py:158: UserWarning: [12:04:20] WARNING: C:\\buildkite-agent\\builds\\buildkite-windows-cpu-autoscaling-group-i-06abd128ca6c1688d-1\\xgboost\\xgboost-ci-windows\\src\\learner.cc:740: \n",
      "Parameters: { \"use_label_encoder\" } are not used.\n",
      "\n",
      "  warnings.warn(smsg, UserWarning)\n"
     ]
    },
    {
     "name": "stdout",
     "output_type": "stream",
     "text": [
      "| \u001B[30m20        | \u001B[30m0.6746    | \u001B[30m1.0       | \u001B[30m0.01      | \u001B[30m4.69      | \u001B[30m142.0     | \u001B[30m1.0       |\n"
     ]
    },
    {
     "name": "stderr",
     "output_type": "stream",
     "text": [
      "C:\\Users\\paulk\\anaconda3\\Lib\\site-packages\\xgboost\\core.py:158: UserWarning: [12:04:21] WARNING: C:\\buildkite-agent\\builds\\buildkite-windows-cpu-autoscaling-group-i-06abd128ca6c1688d-1\\xgboost\\xgboost-ci-windows\\src\\learner.cc:740: \n",
      "Parameters: { \"use_label_encoder\" } are not used.\n",
      "\n",
      "  warnings.warn(smsg, UserWarning)\n",
      "C:\\Users\\paulk\\anaconda3\\Lib\\site-packages\\xgboost\\core.py:158: UserWarning: [12:04:22] WARNING: C:\\buildkite-agent\\builds\\buildkite-windows-cpu-autoscaling-group-i-06abd128ca6c1688d-1\\xgboost\\xgboost-ci-windows\\src\\learner.cc:740: \n",
      "Parameters: { \"use_label_encoder\" } are not used.\n",
      "\n",
      "  warnings.warn(smsg, UserWarning)\n",
      "C:\\Users\\paulk\\anaconda3\\Lib\\site-packages\\xgboost\\core.py:158: UserWarning: [12:04:23] WARNING: C:\\buildkite-agent\\builds\\buildkite-windows-cpu-autoscaling-group-i-06abd128ca6c1688d-1\\xgboost\\xgboost-ci-windows\\src\\learner.cc:740: \n",
      "Parameters: { \"use_label_encoder\" } are not used.\n",
      "\n",
      "  warnings.warn(smsg, UserWarning)\n",
      "C:\\Users\\paulk\\anaconda3\\Lib\\site-packages\\xgboost\\core.py:158: UserWarning: [12:04:24] WARNING: C:\\buildkite-agent\\builds\\buildkite-windows-cpu-autoscaling-group-i-06abd128ca6c1688d-1\\xgboost\\xgboost-ci-windows\\src\\learner.cc:740: \n",
      "Parameters: { \"use_label_encoder\" } are not used.\n",
      "\n",
      "  warnings.warn(smsg, UserWarning)\n",
      "C:\\Users\\paulk\\anaconda3\\Lib\\site-packages\\xgboost\\core.py:158: UserWarning: [12:04:25] WARNING: C:\\buildkite-agent\\builds\\buildkite-windows-cpu-autoscaling-group-i-06abd128ca6c1688d-1\\xgboost\\xgboost-ci-windows\\src\\learner.cc:740: \n",
      "Parameters: { \"use_label_encoder\" } are not used.\n",
      "\n",
      "  warnings.warn(smsg, UserWarning)\n"
     ]
    },
    {
     "name": "stdout",
     "output_type": "stream",
     "text": [
      "| \u001B[35m21        | \u001B[35m0.6842    | \u001B[35m0.956     | \u001B[35m0.02296   | \u001B[35m5.955     | \u001B[35m258.1     | \u001B[35m0.7402    |\n"
     ]
    },
    {
     "name": "stderr",
     "output_type": "stream",
     "text": [
      "C:\\Users\\paulk\\anaconda3\\Lib\\site-packages\\xgboost\\core.py:158: UserWarning: [12:04:26] WARNING: C:\\buildkite-agent\\builds\\buildkite-windows-cpu-autoscaling-group-i-06abd128ca6c1688d-1\\xgboost\\xgboost-ci-windows\\src\\learner.cc:740: \n",
      "Parameters: { \"use_label_encoder\" } are not used.\n",
      "\n",
      "  warnings.warn(smsg, UserWarning)\n",
      "C:\\Users\\paulk\\anaconda3\\Lib\\site-packages\\xgboost\\core.py:158: UserWarning: [12:04:27] WARNING: C:\\buildkite-agent\\builds\\buildkite-windows-cpu-autoscaling-group-i-06abd128ca6c1688d-1\\xgboost\\xgboost-ci-windows\\src\\learner.cc:740: \n",
      "Parameters: { \"use_label_encoder\" } are not used.\n",
      "\n",
      "  warnings.warn(smsg, UserWarning)\n",
      "C:\\Users\\paulk\\anaconda3\\Lib\\site-packages\\xgboost\\core.py:158: UserWarning: [12:04:28] WARNING: C:\\buildkite-agent\\builds\\buildkite-windows-cpu-autoscaling-group-i-06abd128ca6c1688d-1\\xgboost\\xgboost-ci-windows\\src\\learner.cc:740: \n",
      "Parameters: { \"use_label_encoder\" } are not used.\n",
      "\n",
      "  warnings.warn(smsg, UserWarning)\n",
      "C:\\Users\\paulk\\anaconda3\\Lib\\site-packages\\xgboost\\core.py:158: UserWarning: [12:04:29] WARNING: C:\\buildkite-agent\\builds\\buildkite-windows-cpu-autoscaling-group-i-06abd128ca6c1688d-1\\xgboost\\xgboost-ci-windows\\src\\learner.cc:740: \n",
      "Parameters: { \"use_label_encoder\" } are not used.\n",
      "\n",
      "  warnings.warn(smsg, UserWarning)\n",
      "C:\\Users\\paulk\\anaconda3\\Lib\\site-packages\\xgboost\\core.py:158: UserWarning: [12:04:29] WARNING: C:\\buildkite-agent\\builds\\buildkite-windows-cpu-autoscaling-group-i-06abd128ca6c1688d-1\\xgboost\\xgboost-ci-windows\\src\\learner.cc:740: \n",
      "Parameters: { \"use_label_encoder\" } are not used.\n",
      "\n",
      "  warnings.warn(smsg, UserWarning)\n"
     ]
    },
    {
     "name": "stdout",
     "output_type": "stream",
     "text": [
      "| \u001B[30m22        | \u001B[30m0.6839    | \u001B[30m0.8169    | \u001B[30m0.04835   | \u001B[30m5.657     | \u001B[30m257.6     | \u001B[30m0.8922    |\n"
     ]
    },
    {
     "name": "stderr",
     "output_type": "stream",
     "text": [
      "C:\\Users\\paulk\\anaconda3\\Lib\\site-packages\\xgboost\\core.py:158: UserWarning: [12:04:30] WARNING: C:\\buildkite-agent\\builds\\buildkite-windows-cpu-autoscaling-group-i-06abd128ca6c1688d-1\\xgboost\\xgboost-ci-windows\\src\\learner.cc:740: \n",
      "Parameters: { \"use_label_encoder\" } are not used.\n",
      "\n",
      "  warnings.warn(smsg, UserWarning)\n",
      "C:\\Users\\paulk\\anaconda3\\Lib\\site-packages\\xgboost\\core.py:158: UserWarning: [12:04:31] WARNING: C:\\buildkite-agent\\builds\\buildkite-windows-cpu-autoscaling-group-i-06abd128ca6c1688d-1\\xgboost\\xgboost-ci-windows\\src\\learner.cc:740: \n",
      "Parameters: { \"use_label_encoder\" } are not used.\n",
      "\n",
      "  warnings.warn(smsg, UserWarning)\n",
      "C:\\Users\\paulk\\anaconda3\\Lib\\site-packages\\xgboost\\core.py:158: UserWarning: [12:04:32] WARNING: C:\\buildkite-agent\\builds\\buildkite-windows-cpu-autoscaling-group-i-06abd128ca6c1688d-1\\xgboost\\xgboost-ci-windows\\src\\learner.cc:740: \n",
      "Parameters: { \"use_label_encoder\" } are not used.\n",
      "\n",
      "  warnings.warn(smsg, UserWarning)\n",
      "C:\\Users\\paulk\\anaconda3\\Lib\\site-packages\\xgboost\\core.py:158: UserWarning: [12:04:33] WARNING: C:\\buildkite-agent\\builds\\buildkite-windows-cpu-autoscaling-group-i-06abd128ca6c1688d-1\\xgboost\\xgboost-ci-windows\\src\\learner.cc:740: \n",
      "Parameters: { \"use_label_encoder\" } are not used.\n",
      "\n",
      "  warnings.warn(smsg, UserWarning)\n",
      "C:\\Users\\paulk\\anaconda3\\Lib\\site-packages\\xgboost\\core.py:158: UserWarning: [12:04:34] WARNING: C:\\buildkite-agent\\builds\\buildkite-windows-cpu-autoscaling-group-i-06abd128ca6c1688d-1\\xgboost\\xgboost-ci-windows\\src\\learner.cc:740: \n",
      "Parameters: { \"use_label_encoder\" } are not used.\n",
      "\n",
      "  warnings.warn(smsg, UserWarning)\n"
     ]
    },
    {
     "name": "stdout",
     "output_type": "stream",
     "text": [
      "| \u001B[30m23        | \u001B[30m0.6669    | \u001B[30m0.9999    | \u001B[30m0.1996    | \u001B[30m6.28      | \u001B[30m257.6     | \u001B[30m0.9995    |\n"
     ]
    },
    {
     "name": "stderr",
     "output_type": "stream",
     "text": [
      "C:\\Users\\paulk\\anaconda3\\Lib\\site-packages\\xgboost\\core.py:158: UserWarning: [12:04:35] WARNING: C:\\buildkite-agent\\builds\\buildkite-windows-cpu-autoscaling-group-i-06abd128ca6c1688d-1\\xgboost\\xgboost-ci-windows\\src\\learner.cc:740: \n",
      "Parameters: { \"use_label_encoder\" } are not used.\n",
      "\n",
      "  warnings.warn(smsg, UserWarning)\n",
      "C:\\Users\\paulk\\anaconda3\\Lib\\site-packages\\xgboost\\core.py:158: UserWarning: [12:04:35] WARNING: C:\\buildkite-agent\\builds\\buildkite-windows-cpu-autoscaling-group-i-06abd128ca6c1688d-1\\xgboost\\xgboost-ci-windows\\src\\learner.cc:740: \n",
      "Parameters: { \"use_label_encoder\" } are not used.\n",
      "\n",
      "  warnings.warn(smsg, UserWarning)\n",
      "C:\\Users\\paulk\\anaconda3\\Lib\\site-packages\\xgboost\\core.py:158: UserWarning: [12:04:36] WARNING: C:\\buildkite-agent\\builds\\buildkite-windows-cpu-autoscaling-group-i-06abd128ca6c1688d-1\\xgboost\\xgboost-ci-windows\\src\\learner.cc:740: \n",
      "Parameters: { \"use_label_encoder\" } are not used.\n",
      "\n",
      "  warnings.warn(smsg, UserWarning)\n",
      "C:\\Users\\paulk\\anaconda3\\Lib\\site-packages\\xgboost\\core.py:158: UserWarning: [12:04:37] WARNING: C:\\buildkite-agent\\builds\\buildkite-windows-cpu-autoscaling-group-i-06abd128ca6c1688d-1\\xgboost\\xgboost-ci-windows\\src\\learner.cc:740: \n",
      "Parameters: { \"use_label_encoder\" } are not used.\n",
      "\n",
      "  warnings.warn(smsg, UserWarning)\n",
      "C:\\Users\\paulk\\anaconda3\\Lib\\site-packages\\xgboost\\core.py:158: UserWarning: [12:04:38] WARNING: C:\\buildkite-agent\\builds\\buildkite-windows-cpu-autoscaling-group-i-06abd128ca6c1688d-1\\xgboost\\xgboost-ci-windows\\src\\learner.cc:740: \n",
      "Parameters: { \"use_label_encoder\" } are not used.\n",
      "\n",
      "  warnings.warn(smsg, UserWarning)\n"
     ]
    },
    {
     "name": "stdout",
     "output_type": "stream",
     "text": [
      "| \u001B[30m24        | \u001B[30m0.6825    | \u001B[30m0.8219    | \u001B[30m0.01      | \u001B[30m5.525     | \u001B[30m258.0     | \u001B[30m0.6958    |\n"
     ]
    },
    {
     "name": "stderr",
     "output_type": "stream",
     "text": [
      "C:\\Users\\paulk\\anaconda3\\Lib\\site-packages\\xgboost\\core.py:158: UserWarning: [12:04:39] WARNING: C:\\buildkite-agent\\builds\\buildkite-windows-cpu-autoscaling-group-i-06abd128ca6c1688d-1\\xgboost\\xgboost-ci-windows\\src\\learner.cc:740: \n",
      "Parameters: { \"use_label_encoder\" } are not used.\n",
      "\n",
      "  warnings.warn(smsg, UserWarning)\n",
      "C:\\Users\\paulk\\anaconda3\\Lib\\site-packages\\xgboost\\core.py:158: UserWarning: [12:04:40] WARNING: C:\\buildkite-agent\\builds\\buildkite-windows-cpu-autoscaling-group-i-06abd128ca6c1688d-1\\xgboost\\xgboost-ci-windows\\src\\learner.cc:740: \n",
      "Parameters: { \"use_label_encoder\" } are not used.\n",
      "\n",
      "  warnings.warn(smsg, UserWarning)\n",
      "C:\\Users\\paulk\\anaconda3\\Lib\\site-packages\\xgboost\\core.py:158: UserWarning: [12:04:40] WARNING: C:\\buildkite-agent\\builds\\buildkite-windows-cpu-autoscaling-group-i-06abd128ca6c1688d-1\\xgboost\\xgboost-ci-windows\\src\\learner.cc:740: \n",
      "Parameters: { \"use_label_encoder\" } are not used.\n",
      "\n",
      "  warnings.warn(smsg, UserWarning)\n",
      "C:\\Users\\paulk\\anaconda3\\Lib\\site-packages\\xgboost\\core.py:158: UserWarning: [12:04:41] WARNING: C:\\buildkite-agent\\builds\\buildkite-windows-cpu-autoscaling-group-i-06abd128ca6c1688d-1\\xgboost\\xgboost-ci-windows\\src\\learner.cc:740: \n",
      "Parameters: { \"use_label_encoder\" } are not used.\n",
      "\n",
      "  warnings.warn(smsg, UserWarning)\n",
      "C:\\Users\\paulk\\anaconda3\\Lib\\site-packages\\xgboost\\core.py:158: UserWarning: [12:04:42] WARNING: C:\\buildkite-agent\\builds\\buildkite-windows-cpu-autoscaling-group-i-06abd128ca6c1688d-1\\xgboost\\xgboost-ci-windows\\src\\learner.cc:740: \n",
      "Parameters: { \"use_label_encoder\" } are not used.\n",
      "\n",
      "  warnings.warn(smsg, UserWarning)\n"
     ]
    },
    {
     "name": "stdout",
     "output_type": "stream",
     "text": [
      "| \u001B[30m25        | \u001B[30m0.6827    | \u001B[30m0.6       | \u001B[30m0.01      | \u001B[30m5.813     | \u001B[30m258.2     | \u001B[30m1.0       |\n"
     ]
    },
    {
     "name": "stderr",
     "output_type": "stream",
     "text": [
      "C:\\Users\\paulk\\anaconda3\\Lib\\site-packages\\xgboost\\core.py:158: UserWarning: [12:04:43] WARNING: C:\\buildkite-agent\\builds\\buildkite-windows-cpu-autoscaling-group-i-06abd128ca6c1688d-1\\xgboost\\xgboost-ci-windows\\src\\learner.cc:740: \n",
      "Parameters: { \"use_label_encoder\" } are not used.\n",
      "\n",
      "  warnings.warn(smsg, UserWarning)\n",
      "C:\\Users\\paulk\\anaconda3\\Lib\\site-packages\\xgboost\\core.py:158: UserWarning: [12:04:44] WARNING: C:\\buildkite-agent\\builds\\buildkite-windows-cpu-autoscaling-group-i-06abd128ca6c1688d-1\\xgboost\\xgboost-ci-windows\\src\\learner.cc:740: \n",
      "Parameters: { \"use_label_encoder\" } are not used.\n",
      "\n",
      "  warnings.warn(smsg, UserWarning)\n",
      "C:\\Users\\paulk\\anaconda3\\Lib\\site-packages\\xgboost\\core.py:158: UserWarning: [12:04:44] WARNING: C:\\buildkite-agent\\builds\\buildkite-windows-cpu-autoscaling-group-i-06abd128ca6c1688d-1\\xgboost\\xgboost-ci-windows\\src\\learner.cc:740: \n",
      "Parameters: { \"use_label_encoder\" } are not used.\n",
      "\n",
      "  warnings.warn(smsg, UserWarning)\n",
      "C:\\Users\\paulk\\anaconda3\\Lib\\site-packages\\xgboost\\core.py:158: UserWarning: [12:04:45] WARNING: C:\\buildkite-agent\\builds\\buildkite-windows-cpu-autoscaling-group-i-06abd128ca6c1688d-1\\xgboost\\xgboost-ci-windows\\src\\learner.cc:740: \n",
      "Parameters: { \"use_label_encoder\" } are not used.\n",
      "\n",
      "  warnings.warn(smsg, UserWarning)\n",
      "C:\\Users\\paulk\\anaconda3\\Lib\\site-packages\\xgboost\\core.py:158: UserWarning: [12:04:46] WARNING: C:\\buildkite-agent\\builds\\buildkite-windows-cpu-autoscaling-group-i-06abd128ca6c1688d-1\\xgboost\\xgboost-ci-windows\\src\\learner.cc:740: \n",
      "Parameters: { \"use_label_encoder\" } are not used.\n",
      "\n",
      "  warnings.warn(smsg, UserWarning)\n"
     ]
    },
    {
     "name": "stdout",
     "output_type": "stream",
     "text": [
      "| \u001B[30m26        | \u001B[30m0.6823    | \u001B[30m0.9187    | \u001B[30m0.01      | \u001B[30m5.9       | \u001B[30m258.6     | \u001B[30m0.6049    |\n"
     ]
    },
    {
     "name": "stderr",
     "output_type": "stream",
     "text": [
      "C:\\Users\\paulk\\anaconda3\\Lib\\site-packages\\xgboost\\core.py:158: UserWarning: [12:04:47] WARNING: C:\\buildkite-agent\\builds\\buildkite-windows-cpu-autoscaling-group-i-06abd128ca6c1688d-1\\xgboost\\xgboost-ci-windows\\src\\learner.cc:740: \n",
      "Parameters: { \"use_label_encoder\" } are not used.\n",
      "\n",
      "  warnings.warn(smsg, UserWarning)\n",
      "C:\\Users\\paulk\\anaconda3\\Lib\\site-packages\\xgboost\\core.py:158: UserWarning: [12:04:48] WARNING: C:\\buildkite-agent\\builds\\buildkite-windows-cpu-autoscaling-group-i-06abd128ca6c1688d-1\\xgboost\\xgboost-ci-windows\\src\\learner.cc:740: \n",
      "Parameters: { \"use_label_encoder\" } are not used.\n",
      "\n",
      "  warnings.warn(smsg, UserWarning)\n",
      "C:\\Users\\paulk\\anaconda3\\Lib\\site-packages\\xgboost\\core.py:158: UserWarning: [12:04:49] WARNING: C:\\buildkite-agent\\builds\\buildkite-windows-cpu-autoscaling-group-i-06abd128ca6c1688d-1\\xgboost\\xgboost-ci-windows\\src\\learner.cc:740: \n",
      "Parameters: { \"use_label_encoder\" } are not used.\n",
      "\n",
      "  warnings.warn(smsg, UserWarning)\n",
      "C:\\Users\\paulk\\anaconda3\\Lib\\site-packages\\xgboost\\core.py:158: UserWarning: [12:04:50] WARNING: C:\\buildkite-agent\\builds\\buildkite-windows-cpu-autoscaling-group-i-06abd128ca6c1688d-1\\xgboost\\xgboost-ci-windows\\src\\learner.cc:740: \n",
      "Parameters: { \"use_label_encoder\" } are not used.\n",
      "\n",
      "  warnings.warn(smsg, UserWarning)\n",
      "C:\\Users\\paulk\\anaconda3\\Lib\\site-packages\\xgboost\\core.py:158: UserWarning: [12:04:51] WARNING: C:\\buildkite-agent\\builds\\buildkite-windows-cpu-autoscaling-group-i-06abd128ca6c1688d-1\\xgboost\\xgboost-ci-windows\\src\\learner.cc:740: \n",
      "Parameters: { \"use_label_encoder\" } are not used.\n",
      "\n",
      "  warnings.warn(smsg, UserWarning)\n"
     ]
    },
    {
     "name": "stdout",
     "output_type": "stream",
     "text": [
      "| \u001B[30m27        | \u001B[30m0.6827    | \u001B[30m0.6       | \u001B[30m0.01      | \u001B[30m5.156     | \u001B[30m257.5     | \u001B[30m1.0       |\n"
     ]
    },
    {
     "name": "stderr",
     "output_type": "stream",
     "text": [
      "C:\\Users\\paulk\\anaconda3\\Lib\\site-packages\\xgboost\\core.py:158: UserWarning: [12:04:52] WARNING: C:\\buildkite-agent\\builds\\buildkite-windows-cpu-autoscaling-group-i-06abd128ca6c1688d-1\\xgboost\\xgboost-ci-windows\\src\\learner.cc:740: \n",
      "Parameters: { \"use_label_encoder\" } are not used.\n",
      "\n",
      "  warnings.warn(smsg, UserWarning)\n",
      "C:\\Users\\paulk\\anaconda3\\Lib\\site-packages\\xgboost\\core.py:158: UserWarning: [12:04:53] WARNING: C:\\buildkite-agent\\builds\\buildkite-windows-cpu-autoscaling-group-i-06abd128ca6c1688d-1\\xgboost\\xgboost-ci-windows\\src\\learner.cc:740: \n",
      "Parameters: { \"use_label_encoder\" } are not used.\n",
      "\n",
      "  warnings.warn(smsg, UserWarning)\n",
      "C:\\Users\\paulk\\anaconda3\\Lib\\site-packages\\xgboost\\core.py:158: UserWarning: [12:04:55] WARNING: C:\\buildkite-agent\\builds\\buildkite-windows-cpu-autoscaling-group-i-06abd128ca6c1688d-1\\xgboost\\xgboost-ci-windows\\src\\learner.cc:740: \n",
      "Parameters: { \"use_label_encoder\" } are not used.\n",
      "\n",
      "  warnings.warn(smsg, UserWarning)\n",
      "C:\\Users\\paulk\\anaconda3\\Lib\\site-packages\\xgboost\\core.py:158: UserWarning: [12:04:56] WARNING: C:\\buildkite-agent\\builds\\buildkite-windows-cpu-autoscaling-group-i-06abd128ca6c1688d-1\\xgboost\\xgboost-ci-windows\\src\\learner.cc:740: \n",
      "Parameters: { \"use_label_encoder\" } are not used.\n",
      "\n",
      "  warnings.warn(smsg, UserWarning)\n",
      "C:\\Users\\paulk\\anaconda3\\Lib\\site-packages\\xgboost\\core.py:158: UserWarning: [12:04:57] WARNING: C:\\buildkite-agent\\builds\\buildkite-windows-cpu-autoscaling-group-i-06abd128ca6c1688d-1\\xgboost\\xgboost-ci-windows\\src\\learner.cc:740: \n",
      "Parameters: { \"use_label_encoder\" } are not used.\n",
      "\n",
      "  warnings.warn(smsg, UserWarning)\n"
     ]
    },
    {
     "name": "stdout",
     "output_type": "stream",
     "text": [
      "| \u001B[35m28        | \u001B[35m0.6842    | \u001B[35m0.9596    | \u001B[35m0.02734   | \u001B[35m5.959     | \u001B[35m258.1     | \u001B[35m0.7446    |\n"
     ]
    },
    {
     "name": "stderr",
     "output_type": "stream",
     "text": [
      "C:\\Users\\paulk\\anaconda3\\Lib\\site-packages\\xgboost\\core.py:158: UserWarning: [12:04:58] WARNING: C:\\buildkite-agent\\builds\\buildkite-windows-cpu-autoscaling-group-i-06abd128ca6c1688d-1\\xgboost\\xgboost-ci-windows\\src\\learner.cc:740: \n",
      "Parameters: { \"use_label_encoder\" } are not used.\n",
      "\n",
      "  warnings.warn(smsg, UserWarning)\n",
      "C:\\Users\\paulk\\anaconda3\\Lib\\site-packages\\xgboost\\core.py:158: UserWarning: [12:04:59] WARNING: C:\\buildkite-agent\\builds\\buildkite-windows-cpu-autoscaling-group-i-06abd128ca6c1688d-1\\xgboost\\xgboost-ci-windows\\src\\learner.cc:740: \n",
      "Parameters: { \"use_label_encoder\" } are not used.\n",
      "\n",
      "  warnings.warn(smsg, UserWarning)\n",
      "C:\\Users\\paulk\\anaconda3\\Lib\\site-packages\\xgboost\\core.py:158: UserWarning: [12:05:00] WARNING: C:\\buildkite-agent\\builds\\buildkite-windows-cpu-autoscaling-group-i-06abd128ca6c1688d-1\\xgboost\\xgboost-ci-windows\\src\\learner.cc:740: \n",
      "Parameters: { \"use_label_encoder\" } are not used.\n",
      "\n",
      "  warnings.warn(smsg, UserWarning)\n",
      "C:\\Users\\paulk\\anaconda3\\Lib\\site-packages\\xgboost\\core.py:158: UserWarning: [12:05:01] WARNING: C:\\buildkite-agent\\builds\\buildkite-windows-cpu-autoscaling-group-i-06abd128ca6c1688d-1\\xgboost\\xgboost-ci-windows\\src\\learner.cc:740: \n",
      "Parameters: { \"use_label_encoder\" } are not used.\n",
      "\n",
      "  warnings.warn(smsg, UserWarning)\n",
      "C:\\Users\\paulk\\anaconda3\\Lib\\site-packages\\xgboost\\core.py:158: UserWarning: [12:05:02] WARNING: C:\\buildkite-agent\\builds\\buildkite-windows-cpu-autoscaling-group-i-06abd128ca6c1688d-1\\xgboost\\xgboost-ci-windows\\src\\learner.cc:740: \n",
      "Parameters: { \"use_label_encoder\" } are not used.\n",
      "\n",
      "  warnings.warn(smsg, UserWarning)\n"
     ]
    },
    {
     "name": "stdout",
     "output_type": "stream",
     "text": [
      "| \u001B[30m29        | \u001B[30m0.6815    | \u001B[30m1.0       | \u001B[30m0.01      | \u001B[30m5.26      | \u001B[30m257.2     | \u001B[30m0.6       |\n"
     ]
    },
    {
     "name": "stderr",
     "output_type": "stream",
     "text": [
      "C:\\Users\\paulk\\anaconda3\\Lib\\site-packages\\xgboost\\core.py:158: UserWarning: [12:05:04] WARNING: C:\\buildkite-agent\\builds\\buildkite-windows-cpu-autoscaling-group-i-06abd128ca6c1688d-1\\xgboost\\xgboost-ci-windows\\src\\learner.cc:740: \n",
      "Parameters: { \"use_label_encoder\" } are not used.\n",
      "\n",
      "  warnings.warn(smsg, UserWarning)\n",
      "C:\\Users\\paulk\\anaconda3\\Lib\\site-packages\\xgboost\\core.py:158: UserWarning: [12:05:05] WARNING: C:\\buildkite-agent\\builds\\buildkite-windows-cpu-autoscaling-group-i-06abd128ca6c1688d-1\\xgboost\\xgboost-ci-windows\\src\\learner.cc:740: \n",
      "Parameters: { \"use_label_encoder\" } are not used.\n",
      "\n",
      "  warnings.warn(smsg, UserWarning)\n",
      "C:\\Users\\paulk\\anaconda3\\Lib\\site-packages\\xgboost\\core.py:158: UserWarning: [12:05:07] WARNING: C:\\buildkite-agent\\builds\\buildkite-windows-cpu-autoscaling-group-i-06abd128ca6c1688d-1\\xgboost\\xgboost-ci-windows\\src\\learner.cc:740: \n",
      "Parameters: { \"use_label_encoder\" } are not used.\n",
      "\n",
      "  warnings.warn(smsg, UserWarning)\n",
      "C:\\Users\\paulk\\anaconda3\\Lib\\site-packages\\xgboost\\core.py:158: UserWarning: [12:05:08] WARNING: C:\\buildkite-agent\\builds\\buildkite-windows-cpu-autoscaling-group-i-06abd128ca6c1688d-1\\xgboost\\xgboost-ci-windows\\src\\learner.cc:740: \n",
      "Parameters: { \"use_label_encoder\" } are not used.\n",
      "\n",
      "  warnings.warn(smsg, UserWarning)\n",
      "C:\\Users\\paulk\\anaconda3\\Lib\\site-packages\\xgboost\\core.py:158: UserWarning: [12:05:10] WARNING: C:\\buildkite-agent\\builds\\buildkite-windows-cpu-autoscaling-group-i-06abd128ca6c1688d-1\\xgboost\\xgboost-ci-windows\\src\\learner.cc:740: \n",
      "Parameters: { \"use_label_encoder\" } are not used.\n",
      "\n",
      "  warnings.warn(smsg, UserWarning)\n"
     ]
    },
    {
     "name": "stdout",
     "output_type": "stream",
     "text": [
      "| \u001B[30m30        | \u001B[30m0.6835    | \u001B[30m0.603     | \u001B[30m0.0357    | \u001B[30m7.806     | \u001B[30m273.0     | \u001B[30m0.7005    |\n",
      "=====================================================================================\n",
      "Best parameters: {'colsample_bytree': 0.9595532144064108, 'learning_rate': 0.027344984592295313, 'max_depth': 5, 'n_estimators': 258, 'subsample': 0.7445850431214724}\n"
     ]
    },
    {
     "name": "stderr",
     "output_type": "stream",
     "text": [
      "C:\\Users\\paulk\\anaconda3\\Lib\\site-packages\\xgboost\\core.py:158: UserWarning: [12:05:12] WARNING: C:\\buildkite-agent\\builds\\buildkite-windows-cpu-autoscaling-group-i-06abd128ca6c1688d-1\\xgboost\\xgboost-ci-windows\\src\\learner.cc:740: \n",
      "Parameters: { \"use_label_encoder\" } are not used.\n",
      "\n",
      "  warnings.warn(smsg, UserWarning)\n"
     ]
    },
    {
     "name": "stdout",
     "output_type": "stream",
     "text": [
      "Test set accuracy: 0.63\n",
      "Test set ROC AUC score: 0.67\n",
      "Test set precision: 0.66\n",
      "Test set recall: 0.81\n",
      "Test set F1 score: 0.73\n",
      "Confusion Matrix:\n",
      "[[ 761 1455]\n",
      " [ 645 2815]]\n"
     ]
    },
    {
     "data": {
      "text/plain": "<Figure size 1000x700 with 2 Axes>",
      "image/png": "[encoded data removed]"
     },
     "metadata": {},
     "output_type": "display_data"
    }
   ],
   "source": [
    "!pip install bayesian-optimization xgboost\n",
    "\n",
    "import pandas as pd\n",
    "from sklearn.model_selection import train_test_split, cross_val_score\n",
    "from sklearn.preprocessing import StandardScaler, OneHotEncoder\n",
    "from sklearn.compose import ColumnTransformer\n",
    "from sklearn.pipeline import Pipeline\n",
    "from sklearn.impute import SimpleImputer\n",
    "from xgboost import XGBClassifier\n",
    "from bayes_opt import BayesianOptimization\n",
    "import numpy as np\n",
    "\n",
    "# Load the dataset\n",
    "file_path = 'shotlog0-5.xlsx'  # Use the correct file path\n",
    "data = pd.read_excel(file_path)\n",
    "\n",
    "# Define which columns are numeric and categorical\n",
    "numeric_features = ['SHOT_NUMBER', 'PERIOD', 'FINAL_MARGIN', 'SHOT_CLOCK', 'DRIBBLES', 'TOUCH_TIME', 'SHOT_DIST', 'CLOSE_DEF_DIST', 'FG%_2pts', 'FG%_3pts', 'score', 'PPG', 'EFG']\n",
    "categorical_features = ['W', 'CLOSEST_DEFENDER']\n",
    "\n",
    "# Exclude non-predictive and direct identifiers\n",
    "predictive_features = data.drop(columns=['GAME_ID1', 'MATCHUP', 'player_name', 'player_id', 'FGM', 'PTS'])\n",
    "\n",
    "# Handle missing values and preprocessing\n",
    "preprocessor = ColumnTransformer(\n",
    "    transformers=[\n",
    "        ('num', Pipeline(steps=[\n",
    "            ('imputer', SimpleImputer(strategy='mean')),\n",
    "            ('scaler', StandardScaler())]), numeric_features),\n",
    "        ('cat', Pipeline(steps=[\n",
    "            ('imputer', SimpleImputer(strategy='constant', fill_value='missing')),\n",
    "            ('onehot', OneHotEncoder(handle_unknown='ignore'))]), categorical_features)\n",
    "    ])\n",
    "\n",
    "# Target variable\n",
    "target = data['FGM']\n",
    "\n",
    "# Split data into training and testing sets\n",
    "X_train, X_test, y_train, y_test = train_test_split(predictive_features, target, test_size=0.2, random_state=42)\n",
    "\n",
    "# Define a function to optimize\n",
    "def xgb_evaluate(max_depth, learning_rate, n_estimators, subsample, colsample_bytree):\n",
    "    params = {\n",
    "        'max_depth': int(max_depth),\n",
    "        'learning_rate': learning_rate,\n",
    "        'n_estimators': int(n_estimators),\n",
    "        'subsample': subsample,\n",
    "        'colsample_bytree': colsample_bytree,\n",
    "        'eval_metric': 'logloss',\n",
    "        'use_label_encoder': False\n",
    "    }\n",
    "    \n",
    "    pipeline = Pipeline([\n",
    "        ('preprocessor', preprocessor),\n",
    "        ('classifier', XGBClassifier(**params))\n",
    "    ])\n",
    "    \n",
    "    cv_scores = cross_val_score(pipeline, X_train, y_train, cv=5, scoring='roc_auc')\n",
    "    return np.mean(cv_scores)\n",
    "\n",
    "# Define the parameter bounds\n",
    "param_bounds = {\n",
    "    'max_depth': (3, 10),\n",
    "    'learning_rate': (0.01, 0.2),\n",
    "    'n_estimators': (50, 300),\n",
    "    'subsample': (0.6, 1.0),\n",
    "    'colsample_bytree': (0.6, 1.0)\n",
    "}\n",
    "\n",
    "# Perform Bayesian optimization\n",
    "optimizer = BayesianOptimization(f=xgb_evaluate, pbounds=param_bounds, random_state=42)\n",
    "optimizer.maximize(init_points=5, n_iter=25)\n",
    "\n",
    "# Print the best parameters\n",
    "best_params = optimizer.max['params']\n",
    "best_params['max_depth'] = int(best_params['max_depth'])\n",
    "best_params['n_estimators'] = int(best_params['n_estimators'])\n",
    "print(f\"Best parameters: {best_params}\")\n",
    "\n",
    "# Fit the model with the best parameters\n",
    "best_pipeline = Pipeline([\n",
    "    ('preprocessor', preprocessor),\n",
    "    ('classifier', XGBClassifier(**best_params, eval_metric='logloss', use_label_encoder=False))\n",
    "])\n",
    "best_pipeline.fit(X_train, y_train)\n",
    "\n",
    "# Evaluate the best model on the test set\n",
    "test_predictions = best_pipeline.predict(X_test)\n",
    "test_probabilities = best_pipeline.predict_proba(X_test)[:, 1]\n",
    "\n",
    "test_accuracy = accuracy_score(y_test, test_predictions)\n",
    "test_roc_auc = roc_auc_score(y_test, test_probabilities)\n",
    "test_precision = precision_score(y_test, test_predictions)\n",
    "test_recall = recall_score(y_test, test_predictions)\n",
    "test_f1 = f1_score(y_test, test_predictions)\n",
    "conf_matrix = confusion_matrix(y_test, test_predictions)\n",
    "\n",
    "print(f\"Test set accuracy: {test_accuracy:.2f}\")\n",
    "print(f\"Test set ROC AUC score: {test_roc_auc:.2f}\")\n",
    "print(f\"Test set precision: {test_precision:.2f}\")\n",
    "print(f\"Test set recall: {test_recall:.2f}\")\n",
    "print(f\"Test set F1 score: {test_f1:.2f}\")\n",
    "print(f\"Confusion Matrix:\\n{conf_matrix}\")\n",
    "\n",
    "# Plot the confusion matrix\n",
    "import seaborn as sns\n",
    "import matplotlib.pyplot as plt\n",
    "\n",
    "plt.figure(figsize=(10, 7))\n",
    "sns.heatmap(conf_matrix, annot=True, fmt='d', cmap='Blues', xticklabels=['Predicted Miss', 'Predicted Make'], yticklabels=['Actual Miss', 'Actual Make'])\n",
    "plt.xlabel('Predicted')\n",
    "plt.ylabel('Actual')\n",
    "plt.title('Confusion Matrix')\n",
    "plt.show()"
   ],
   "metadata": {
    "collapsed": false,
    "ExecuteTime": {
     "end_time": "2024-07-04T17:05:13.908398300Z",
     "start_time": "2024-07-04T17:01:38.569325100Z"
    }
   },
   "id": "4b22f20accef9332",
   "execution_count": 6
  },
  {
   "cell_type": "code",
   "outputs": [
    {
     "name": "stdout",
     "output_type": "stream",
     "text": [
      "Requirement already satisfied: scikit-learn in c:\\users\\paulk\\anaconda3\\lib\\site-packages (1.5.1)\n",
      "Requirement already satisfied: imbalanced-learn in c:\\users\\paulk\\anaconda3\\lib\\site-packages (0.10.1)\n",
      "Collecting imbalanced-learn\n",
      "  Obtaining dependency information for imbalanced-learn from https://files.pythonhosted.org/packages/5a/fa/267de06c95210580f4b82b45cec1ce1e9ce1f21a01a684367db89e7da70d/imbalanced_learn-0.12.3-py3-none-any.whl.metadata\n",
      "  Using cached imbalanced_learn-0.12.3-py3-none-any.whl.metadata (8.3 kB)\n",
      "Requirement already satisfied: numpy>=1.19.5 in c:\\users\\paulk\\anaconda3\\lib\\site-packages (from scikit-learn) (1.23.5)\n",
      "Requirement already satisfied: scipy>=1.6.0 in c:\\users\\paulk\\anaconda3\\lib\\site-packages (from scikit-learn) (1.11.1)\n",
      "Requirement already satisfied: joblib>=1.2.0 in c:\\users\\paulk\\anaconda3\\lib\\site-packages (from scikit-learn) (1.2.0)\n",
      "Requirement already satisfied: threadpoolctl>=3.1.0 in c:\\users\\paulk\\anaconda3\\lib\\site-packages (from scikit-learn) (3.5.0)\n",
      "Using cached imbalanced_learn-0.12.3-py3-none-any.whl (258 kB)\n",
      "Installing collected packages: imbalanced-learn\n",
      "Successfully installed imbalanced-learn-0.12.3\n"
     ]
    }
   ],
   "source": [
    "!pip install --upgrade scikit-learn imbalanced-learn --user"
   ],
   "metadata": {
    "collapsed": false,
    "ExecuteTime": {
     "end_time": "2024-07-04T17:16:27.468427200Z",
     "start_time": "2024-07-04T17:16:09.805386600Z"
    }
   },
   "id": "c37109d2f891e25",
   "execution_count": 10
  },
  {
   "cell_type": "code",
   "outputs": [
    {
     "name": "stdout",
     "output_type": "stream",
     "text": [
      "Collecting lightgbm\n",
      "  Obtaining dependency information for lightgbm from https://files.pythonhosted.org/packages/ca/b4/57f3f253721e0a16ea28c49acca92c5b1198eb94fbbb8328d6dabc61d2e0/lightgbm-4.4.0-py3-none-win_amd64.whl.metadata\n",
      "  Downloading lightgbm-4.4.0-py3-none-win_amd64.whl.metadata (19 kB)\n",
      "Requirement already satisfied: numpy>=1.17.0 in c:\\users\\paulk\\anaconda3\\lib\\site-packages (from lightgbm) (1.23.5)\n",
      "Requirement already satisfied: scipy in c:\\users\\paulk\\anaconda3\\lib\\site-packages (from lightgbm) (1.11.1)\n",
      "Downloading lightgbm-4.4.0-py3-none-win_amd64.whl (1.4 MB)\n",
      "   ---------------------------------------- 0.0/1.4 MB ? eta -:--:--\n",
      "   ---------------------------------------- 0.0/1.4 MB ? eta -:--:--\n",
      "   -- ------------------------------------- 0.1/1.4 MB 1.1 MB/s eta 0:00:02\n",
      "   -------------- ------------------------- 0.5/1.4 MB 4.7 MB/s eta 0:00:01\n",
      "   ---------------------------------------  1.4/1.4 MB 9.2 MB/s eta 0:00:01\n",
      "   ---------------------------------------- 1.4/1.4 MB 8.3 MB/s eta 0:00:00\n",
      "Installing collected packages: lightgbm\n",
      "Successfully installed lightgbm-4.4.0\n"
     ]
    }
   ],
   "source": [
    "!pip install lightgbm"
   ],
   "metadata": {
    "collapsed": false,
    "ExecuteTime": {
     "end_time": "2024-07-04T17:19:10.768288500Z",
     "start_time": "2024-07-04T17:18:50.261325700Z"
    }
   },
   "id": "81ce48c1a98bbeaa",
   "execution_count": 14
  },
  {
   "cell_type": "code",
   "outputs": [
    {
     "name": "stdout",
     "output_type": "stream",
     "text": [
      "|   iter    |  target   | colsam... |   gamma   | learni... | max_depth | min_ch... | n_esti... | subsample |\n",
      "-------------------------------------------------------------------------------------------------------------\n"
     ]
    },
    {
     "name": "stderr",
     "output_type": "stream",
     "text": [
      "C:\\Users\\paulk\\anaconda3\\Lib\\site-packages\\xgboost\\core.py:158: UserWarning: [12:22:40] WARNING: C:\\buildkite-agent\\builds\\buildkite-windows-cpu-autoscaling-group-i-06abd128ca6c1688d-1\\xgboost\\xgboost-ci-windows\\src\\learner.cc:740: \n",
      "Parameters: { \"use_label_encoder\" } are not used.\n",
      "\n",
      "  warnings.warn(smsg, UserWarning)\n",
      "C:\\Users\\paulk\\anaconda3\\Lib\\site-packages\\xgboost\\core.py:158: UserWarning: [12:22:42] WARNING: C:\\buildkite-agent\\builds\\buildkite-windows-cpu-autoscaling-group-i-06abd128ca6c1688d-1\\xgboost\\xgboost-ci-windows\\src\\learner.cc:740: \n",
      "Parameters: { \"use_label_encoder\" } are not used.\n",
      "\n",
      "  warnings.warn(smsg, UserWarning)\n",
      "C:\\Users\\paulk\\anaconda3\\Lib\\site-packages\\xgboost\\core.py:158: UserWarning: [12:22:44] WARNING: C:\\buildkite-agent\\builds\\buildkite-windows-cpu-autoscaling-group-i-06abd128ca6c1688d-1\\xgboost\\xgboost-ci-windows\\src\\learner.cc:740: \n",
      "Parameters: { \"use_label_encoder\" } are not used.\n",
      "\n",
      "  warnings.warn(smsg, UserWarning)\n",
      "C:\\Users\\paulk\\anaconda3\\Lib\\site-packages\\xgboost\\core.py:158: UserWarning: [12:22:46] WARNING: C:\\buildkite-agent\\builds\\buildkite-windows-cpu-autoscaling-group-i-06abd128ca6c1688d-1\\xgboost\\xgboost-ci-windows\\src\\learner.cc:740: \n",
      "Parameters: { \"use_label_encoder\" } are not used.\n",
      "\n",
      "  warnings.warn(smsg, UserWarning)\n",
      "C:\\Users\\paulk\\anaconda3\\Lib\\site-packages\\xgboost\\core.py:158: UserWarning: [12:22:47] WARNING: C:\\buildkite-agent\\builds\\buildkite-windows-cpu-autoscaling-group-i-06abd128ca6c1688d-1\\xgboost\\xgboost-ci-windows\\src\\learner.cc:740: \n",
      "Parameters: { \"use_label_encoder\" } are not used.\n",
      "\n",
      "  warnings.warn(smsg, UserWarning)\n"
     ]
    },
    {
     "name": "stdout",
     "output_type": "stream",
     "text": [
      "| \u001B[30m1         | \u001B[30m0.6605    | \u001B[30m0.7498    | \u001B[30m0.4754    | \u001B[30m0.1491    | \u001B[30m7.191     | \u001B[30m2.404     | \u001B[30m89.0      | \u001B[30m0.6232    |\n"
     ]
    },
    {
     "name": "stderr",
     "output_type": "stream",
     "text": [
      "C:\\Users\\paulk\\anaconda3\\Lib\\site-packages\\xgboost\\core.py:158: UserWarning: [12:22:49] WARNING: C:\\buildkite-agent\\builds\\buildkite-windows-cpu-autoscaling-group-i-06abd128ca6c1688d-1\\xgboost\\xgboost-ci-windows\\src\\learner.cc:740: \n",
      "Parameters: { \"use_label_encoder\" } are not used.\n",
      "\n",
      "  warnings.warn(smsg, UserWarning)\n",
      "C:\\Users\\paulk\\anaconda3\\Lib\\site-packages\\xgboost\\core.py:158: UserWarning: [12:22:51] WARNING: C:\\buildkite-agent\\builds\\buildkite-windows-cpu-autoscaling-group-i-06abd128ca6c1688d-1\\xgboost\\xgboost-ci-windows\\src\\learner.cc:740: \n",
      "Parameters: { \"use_label_encoder\" } are not used.\n",
      "\n",
      "  warnings.warn(smsg, UserWarning)\n",
      "C:\\Users\\paulk\\anaconda3\\Lib\\site-packages\\xgboost\\core.py:158: UserWarning: [12:22:54] WARNING: C:\\buildkite-agent\\builds\\buildkite-windows-cpu-autoscaling-group-i-06abd128ca6c1688d-1\\xgboost\\xgboost-ci-windows\\src\\learner.cc:740: \n",
      "Parameters: { \"use_label_encoder\" } are not used.\n",
      "\n",
      "  warnings.warn(smsg, UserWarning)\n",
      "C:\\Users\\paulk\\anaconda3\\Lib\\site-packages\\xgboost\\core.py:158: UserWarning: [12:22:56] WARNING: C:\\buildkite-agent\\builds\\buildkite-windows-cpu-autoscaling-group-i-06abd128ca6c1688d-1\\xgboost\\xgboost-ci-windows\\src\\learner.cc:740: \n",
      "Parameters: { \"use_label_encoder\" } are not used.\n",
      "\n",
      "  warnings.warn(smsg, UserWarning)\n",
      "C:\\Users\\paulk\\anaconda3\\Lib\\site-packages\\xgboost\\core.py:158: UserWarning: [12:22:58] WARNING: C:\\buildkite-agent\\builds\\buildkite-windows-cpu-autoscaling-group-i-06abd128ca6c1688d-1\\xgboost\\xgboost-ci-windows\\src\\learner.cc:740: \n",
      "Parameters: { \"use_label_encoder\" } are not used.\n",
      "\n",
      "  warnings.warn(smsg, UserWarning)\n"
     ]
    },
    {
     "name": "stdout",
     "output_type": "stream",
     "text": [
      "| \u001B[35m2         | \u001B[35m0.6734    | \u001B[35m0.9465    | \u001B[35m0.3006    | \u001B[35m0.1445    | \u001B[35m3.144     | \u001B[35m9.729     | \u001B[35m258.1     | \u001B[35m0.6849    |\n"
     ]
    },
    {
     "name": "stderr",
     "output_type": "stream",
     "text": [
      "C:\\Users\\paulk\\anaconda3\\Lib\\site-packages\\xgboost\\core.py:158: UserWarning: [12:23:00] WARNING: C:\\buildkite-agent\\builds\\buildkite-windows-cpu-autoscaling-group-i-06abd128ca6c1688d-1\\xgboost\\xgboost-ci-windows\\src\\learner.cc:740: \n",
      "Parameters: { \"use_label_encoder\" } are not used.\n",
      "\n",
      "  warnings.warn(smsg, UserWarning)\n",
      "C:\\Users\\paulk\\anaconda3\\Lib\\site-packages\\xgboost\\core.py:158: UserWarning: [12:23:02] WARNING: C:\\buildkite-agent\\builds\\buildkite-windows-cpu-autoscaling-group-i-06abd128ca6c1688d-1\\xgboost\\xgboost-ci-windows\\src\\learner.cc:740: \n",
      "Parameters: { \"use_label_encoder\" } are not used.\n",
      "\n",
      "  warnings.warn(smsg, UserWarning)\n",
      "C:\\Users\\paulk\\anaconda3\\Lib\\site-packages\\xgboost\\core.py:158: UserWarning: [12:23:04] WARNING: C:\\buildkite-agent\\builds\\buildkite-windows-cpu-autoscaling-group-i-06abd128ca6c1688d-1\\xgboost\\xgboost-ci-windows\\src\\learner.cc:740: \n",
      "Parameters: { \"use_label_encoder\" } are not used.\n",
      "\n",
      "  warnings.warn(smsg, UserWarning)\n",
      "C:\\Users\\paulk\\anaconda3\\Lib\\site-packages\\xgboost\\core.py:158: UserWarning: [12:23:06] WARNING: C:\\buildkite-agent\\builds\\buildkite-windows-cpu-autoscaling-group-i-06abd128ca6c1688d-1\\xgboost\\xgboost-ci-windows\\src\\learner.cc:740: \n",
      "Parameters: { \"use_label_encoder\" } are not used.\n",
      "\n",
      "  warnings.warn(smsg, UserWarning)\n",
      "C:\\Users\\paulk\\anaconda3\\Lib\\site-packages\\xgboost\\core.py:158: UserWarning: [12:23:08] WARNING: C:\\buildkite-agent\\builds\\buildkite-windows-cpu-autoscaling-group-i-06abd128ca6c1688d-1\\xgboost\\xgboost-ci-windows\\src\\learner.cc:740: \n",
      "Parameters: { \"use_label_encoder\" } are not used.\n",
      "\n",
      "  warnings.warn(smsg, UserWarning)\n"
     ]
    },
    {
     "name": "stdout",
     "output_type": "stream",
     "text": [
      "| \u001B[35m3         | \u001B[35m0.6776    | \u001B[35m0.6727    | \u001B[35m0.0917    | \u001B[35m0.06781   | \u001B[35m6.673     | \u001B[35m4.888     | \u001B[35m122.8     | \u001B[35m0.8447    |\n"
     ]
    },
    {
     "name": "stderr",
     "output_type": "stream",
     "text": [
      "C:\\Users\\paulk\\anaconda3\\Lib\\site-packages\\xgboost\\core.py:158: UserWarning: [12:23:10] WARNING: C:\\buildkite-agent\\builds\\buildkite-windows-cpu-autoscaling-group-i-06abd128ca6c1688d-1\\xgboost\\xgboost-ci-windows\\src\\learner.cc:740: \n",
      "Parameters: { \"use_label_encoder\" } are not used.\n",
      "\n",
      "  warnings.warn(smsg, UserWarning)\n",
      "C:\\Users\\paulk\\anaconda3\\Lib\\site-packages\\xgboost\\core.py:158: UserWarning: [12:23:12] WARNING: C:\\buildkite-agent\\builds\\buildkite-windows-cpu-autoscaling-group-i-06abd128ca6c1688d-1\\xgboost\\xgboost-ci-windows\\src\\learner.cc:740: \n",
      "Parameters: { \"use_label_encoder\" } are not used.\n",
      "\n",
      "  warnings.warn(smsg, UserWarning)\n",
      "C:\\Users\\paulk\\anaconda3\\Lib\\site-packages\\xgboost\\core.py:158: UserWarning: [12:23:13] WARNING: C:\\buildkite-agent\\builds\\buildkite-windows-cpu-autoscaling-group-i-06abd128ca6c1688d-1\\xgboost\\xgboost-ci-windows\\src\\learner.cc:740: \n",
      "Parameters: { \"use_label_encoder\" } are not used.\n",
      "\n",
      "  warnings.warn(smsg, UserWarning)\n",
      "C:\\Users\\paulk\\anaconda3\\Lib\\site-packages\\xgboost\\core.py:158: UserWarning: [12:23:15] WARNING: C:\\buildkite-agent\\builds\\buildkite-windows-cpu-autoscaling-group-i-06abd128ca6c1688d-1\\xgboost\\xgboost-ci-windows\\src\\learner.cc:740: \n",
      "Parameters: { \"use_label_encoder\" } are not used.\n",
      "\n",
      "  warnings.warn(smsg, UserWarning)\n",
      "C:\\Users\\paulk\\anaconda3\\Lib\\site-packages\\xgboost\\core.py:158: UserWarning: [12:23:16] WARNING: C:\\buildkite-agent\\builds\\buildkite-windows-cpu-autoscaling-group-i-06abd128ca6c1688d-1\\xgboost\\xgboost-ci-windows\\src\\learner.cc:740: \n",
      "Parameters: { \"use_label_encoder\" } are not used.\n",
      "\n",
      "  warnings.warn(smsg, UserWarning)\n"
     ]
    },
    {
     "name": "stdout",
     "output_type": "stream",
     "text": [
      "| \u001B[30m4         | \u001B[30m0.6772    | \u001B[30m0.6558    | \u001B[30m0.1461    | \u001B[30m0.07961   | \u001B[30m6.192     | \u001B[30m8.067     | \u001B[30m99.92     | \u001B[30m0.8057    |\n"
     ]
    },
    {
     "name": "stderr",
     "output_type": "stream",
     "text": [
      "C:\\Users\\paulk\\anaconda3\\Lib\\site-packages\\xgboost\\core.py:158: UserWarning: [12:23:18] WARNING: C:\\buildkite-agent\\builds\\buildkite-windows-cpu-autoscaling-group-i-06abd128ca6c1688d-1\\xgboost\\xgboost-ci-windows\\src\\learner.cc:740: \n",
      "Parameters: { \"use_label_encoder\" } are not used.\n",
      "\n",
      "  warnings.warn(smsg, UserWarning)\n",
      "C:\\Users\\paulk\\anaconda3\\Lib\\site-packages\\xgboost\\core.py:158: UserWarning: [12:23:20] WARNING: C:\\buildkite-agent\\builds\\buildkite-windows-cpu-autoscaling-group-i-06abd128ca6c1688d-1\\xgboost\\xgboost-ci-windows\\src\\learner.cc:740: \n",
      "Parameters: { \"use_label_encoder\" } are not used.\n",
      "\n",
      "  warnings.warn(smsg, UserWarning)\n",
      "C:\\Users\\paulk\\anaconda3\\Lib\\site-packages\\xgboost\\core.py:158: UserWarning: [12:23:23] WARNING: C:\\buildkite-agent\\builds\\buildkite-windows-cpu-autoscaling-group-i-06abd128ca6c1688d-1\\xgboost\\xgboost-ci-windows\\src\\learner.cc:740: \n",
      "Parameters: { \"use_label_encoder\" } are not used.\n",
      "\n",
      "  warnings.warn(smsg, UserWarning)\n",
      "C:\\Users\\paulk\\anaconda3\\Lib\\site-packages\\xgboost\\core.py:158: UserWarning: [12:23:25] WARNING: C:\\buildkite-agent\\builds\\buildkite-windows-cpu-autoscaling-group-i-06abd128ca6c1688d-1\\xgboost\\xgboost-ci-windows\\src\\learner.cc:740: \n",
      "Parameters: { \"use_label_encoder\" } are not used.\n",
      "\n",
      "  warnings.warn(smsg, UserWarning)\n",
      "C:\\Users\\paulk\\anaconda3\\Lib\\site-packages\\xgboost\\core.py:158: UserWarning: [12:23:28] WARNING: C:\\buildkite-agent\\builds\\buildkite-windows-cpu-autoscaling-group-i-06abd128ca6c1688d-1\\xgboost\\xgboost-ci-windows\\src\\learner.cc:740: \n",
      "Parameters: { \"use_label_encoder\" } are not used.\n",
      "\n",
      "  warnings.warn(smsg, UserWarning)\n"
     ]
    },
    {
     "name": "stdout",
     "output_type": "stream",
     "text": [
      "| \u001B[30m5         | \u001B[30m0.6749    | \u001B[30m0.837     | \u001B[30m0.02323   | \u001B[30m0.1254    | \u001B[30m4.194     | \u001B[30m1.585     | \u001B[30m287.2     | \u001B[30m0.9863    |\n"
     ]
    },
    {
     "name": "stderr",
     "output_type": "stream",
     "text": [
      "C:\\Users\\paulk\\anaconda3\\Lib\\site-packages\\xgboost\\core.py:158: UserWarning: [12:23:31] WARNING: C:\\buildkite-agent\\builds\\buildkite-windows-cpu-autoscaling-group-i-06abd128ca6c1688d-1\\xgboost\\xgboost-ci-windows\\src\\learner.cc:740: \n",
      "Parameters: { \"use_label_encoder\" } are not used.\n",
      "\n",
      "  warnings.warn(smsg, UserWarning)\n",
      "C:\\Users\\paulk\\anaconda3\\Lib\\site-packages\\xgboost\\core.py:158: UserWarning: [12:23:32] WARNING: C:\\buildkite-agent\\builds\\buildkite-windows-cpu-autoscaling-group-i-06abd128ca6c1688d-1\\xgboost\\xgboost-ci-windows\\src\\learner.cc:740: \n",
      "Parameters: { \"use_label_encoder\" } are not used.\n",
      "\n",
      "  warnings.warn(smsg, UserWarning)\n",
      "C:\\Users\\paulk\\anaconda3\\Lib\\site-packages\\xgboost\\core.py:158: UserWarning: [12:23:34] WARNING: C:\\buildkite-agent\\builds\\buildkite-windows-cpu-autoscaling-group-i-06abd128ca6c1688d-1\\xgboost\\xgboost-ci-windows\\src\\learner.cc:740: \n",
      "Parameters: { \"use_label_encoder\" } are not used.\n",
      "\n",
      "  warnings.warn(smsg, UserWarning)\n",
      "C:\\Users\\paulk\\anaconda3\\Lib\\site-packages\\xgboost\\core.py:158: UserWarning: [12:23:36] WARNING: C:\\buildkite-agent\\builds\\buildkite-windows-cpu-autoscaling-group-i-06abd128ca6c1688d-1\\xgboost\\xgboost-ci-windows\\src\\learner.cc:740: \n",
      "Parameters: { \"use_label_encoder\" } are not used.\n",
      "\n",
      "  warnings.warn(smsg, UserWarning)\n",
      "C:\\Users\\paulk\\anaconda3\\Lib\\site-packages\\xgboost\\core.py:158: UserWarning: [12:23:38] WARNING: C:\\buildkite-agent\\builds\\buildkite-windows-cpu-autoscaling-group-i-06abd128ca6c1688d-1\\xgboost\\xgboost-ci-windows\\src\\learner.cc:740: \n",
      "Parameters: { \"use_label_encoder\" } are not used.\n",
      "\n",
      "  warnings.warn(smsg, UserWarning)\n"
     ]
    },
    {
     "name": "stdout",
     "output_type": "stream",
     "text": [
      "| \u001B[30m6         | \u001B[30m0.6643    | \u001B[30m0.8062    | \u001B[30m0.2257    | \u001B[30m0.2       | \u001B[30m6.807     | \u001B[30m5.022     | \u001B[30m122.9     | \u001B[30m0.9782    |\n"
     ]
    },
    {
     "name": "stderr",
     "output_type": "stream",
     "text": [
      "C:\\Users\\paulk\\anaconda3\\Lib\\site-packages\\xgboost\\core.py:158: UserWarning: [12:23:40] WARNING: C:\\buildkite-agent\\builds\\buildkite-windows-cpu-autoscaling-group-i-06abd128ca6c1688d-1\\xgboost\\xgboost-ci-windows\\src\\learner.cc:740: \n",
      "Parameters: { \"use_label_encoder\" } are not used.\n",
      "\n",
      "  warnings.warn(smsg, UserWarning)\n",
      "C:\\Users\\paulk\\anaconda3\\Lib\\site-packages\\xgboost\\core.py:158: UserWarning: [12:23:41] WARNING: C:\\buildkite-agent\\builds\\buildkite-windows-cpu-autoscaling-group-i-06abd128ca6c1688d-1\\xgboost\\xgboost-ci-windows\\src\\learner.cc:740: \n",
      "Parameters: { \"use_label_encoder\" } are not used.\n",
      "\n",
      "  warnings.warn(smsg, UserWarning)\n",
      "C:\\Users\\paulk\\anaconda3\\Lib\\site-packages\\xgboost\\core.py:158: UserWarning: [12:23:43] WARNING: C:\\buildkite-agent\\builds\\buildkite-windows-cpu-autoscaling-group-i-06abd128ca6c1688d-1\\xgboost\\xgboost-ci-windows\\src\\learner.cc:740: \n",
      "Parameters: { \"use_label_encoder\" } are not used.\n",
      "\n",
      "  warnings.warn(smsg, UserWarning)\n",
      "C:\\Users\\paulk\\anaconda3\\Lib\\site-packages\\xgboost\\core.py:158: UserWarning: [12:23:45] WARNING: C:\\buildkite-agent\\builds\\buildkite-windows-cpu-autoscaling-group-i-06abd128ca6c1688d-1\\xgboost\\xgboost-ci-windows\\src\\learner.cc:740: \n",
      "Parameters: { \"use_label_encoder\" } are not used.\n",
      "\n",
      "  warnings.warn(smsg, UserWarning)\n",
      "C:\\Users\\paulk\\anaconda3\\Lib\\site-packages\\xgboost\\core.py:158: UserWarning: [12:23:47] WARNING: C:\\buildkite-agent\\builds\\buildkite-windows-cpu-autoscaling-group-i-06abd128ca6c1688d-1\\xgboost\\xgboost-ci-windows\\src\\learner.cc:740: \n",
      "Parameters: { \"use_label_encoder\" } are not used.\n",
      "\n",
      "  warnings.warn(smsg, UserWarning)\n"
     ]
    },
    {
     "name": "stdout",
     "output_type": "stream",
     "text": [
      "| \u001B[30m7         | \u001B[30m0.6701    | \u001B[30m0.6648    | \u001B[30m0.2192    | \u001B[30m0.09394   | \u001B[30m8.771     | \u001B[30m1.189     | \u001B[30m72.66     | \u001B[30m0.7353    |\n"
     ]
    },
    {
     "name": "stderr",
     "output_type": "stream",
     "text": [
      "C:\\Users\\paulk\\anaconda3\\Lib\\site-packages\\xgboost\\core.py:158: UserWarning: [12:23:49] WARNING: C:\\buildkite-agent\\builds\\buildkite-windows-cpu-autoscaling-group-i-06abd128ca6c1688d-1\\xgboost\\xgboost-ci-windows\\src\\learner.cc:740: \n",
      "Parameters: { \"use_label_encoder\" } are not used.\n",
      "\n",
      "  warnings.warn(smsg, UserWarning)\n",
      "C:\\Users\\paulk\\anaconda3\\Lib\\site-packages\\xgboost\\core.py:158: UserWarning: [12:23:51] WARNING: C:\\buildkite-agent\\builds\\buildkite-windows-cpu-autoscaling-group-i-06abd128ca6c1688d-1\\xgboost\\xgboost-ci-windows\\src\\learner.cc:740: \n",
      "Parameters: { \"use_label_encoder\" } are not used.\n",
      "\n",
      "  warnings.warn(smsg, UserWarning)\n",
      "C:\\Users\\paulk\\anaconda3\\Lib\\site-packages\\xgboost\\core.py:158: UserWarning: [12:23:53] WARNING: C:\\buildkite-agent\\builds\\buildkite-windows-cpu-autoscaling-group-i-06abd128ca6c1688d-1\\xgboost\\xgboost-ci-windows\\src\\learner.cc:740: \n",
      "Parameters: { \"use_label_encoder\" } are not used.\n",
      "\n",
      "  warnings.warn(smsg, UserWarning)\n",
      "C:\\Users\\paulk\\anaconda3\\Lib\\site-packages\\xgboost\\core.py:158: UserWarning: [12:23:56] WARNING: C:\\buildkite-agent\\builds\\buildkite-windows-cpu-autoscaling-group-i-06abd128ca6c1688d-1\\xgboost\\xgboost-ci-windows\\src\\learner.cc:740: \n",
      "Parameters: { \"use_label_encoder\" } are not used.\n",
      "\n",
      "  warnings.warn(smsg, UserWarning)\n",
      "C:\\Users\\paulk\\anaconda3\\Lib\\site-packages\\xgboost\\core.py:158: UserWarning: [12:23:58] WARNING: C:\\buildkite-agent\\builds\\buildkite-windows-cpu-autoscaling-group-i-06abd128ca6c1688d-1\\xgboost\\xgboost-ci-windows\\src\\learner.cc:740: \n",
      "Parameters: { \"use_label_encoder\" } are not used.\n",
      "\n",
      "  warnings.warn(smsg, UserWarning)\n"
     ]
    },
    {
     "name": "stdout",
     "output_type": "stream",
     "text": [
      "| \u001B[35m8         | \u001B[35m0.6809    | \u001B[35m0.7861    | \u001B[35m0.4473    | \u001B[35m0.01895   | \u001B[35m3.119     | \u001B[35m5.464     | \u001B[35m284.7     | \u001B[35m0.8314    |\n"
     ]
    },
    {
     "name": "stderr",
     "output_type": "stream",
     "text": [
      "C:\\Users\\paulk\\anaconda3\\Lib\\site-packages\\xgboost\\core.py:158: UserWarning: [12:24:00] WARNING: C:\\buildkite-agent\\builds\\buildkite-windows-cpu-autoscaling-group-i-06abd128ca6c1688d-1\\xgboost\\xgboost-ci-windows\\src\\learner.cc:740: \n",
      "Parameters: { \"use_label_encoder\" } are not used.\n",
      "\n",
      "  warnings.warn(smsg, UserWarning)\n",
      "C:\\Users\\paulk\\anaconda3\\Lib\\site-packages\\xgboost\\core.py:158: UserWarning: [12:24:02] WARNING: C:\\buildkite-agent\\builds\\buildkite-windows-cpu-autoscaling-group-i-06abd128ca6c1688d-1\\xgboost\\xgboost-ci-windows\\src\\learner.cc:740: \n",
      "Parameters: { \"use_label_encoder\" } are not used.\n",
      "\n",
      "  warnings.warn(smsg, UserWarning)\n",
      "C:\\Users\\paulk\\anaconda3\\Lib\\site-packages\\xgboost\\core.py:158: UserWarning: [12:24:05] WARNING: C:\\buildkite-agent\\builds\\buildkite-windows-cpu-autoscaling-group-i-06abd128ca6c1688d-1\\xgboost\\xgboost-ci-windows\\src\\learner.cc:740: \n",
      "Parameters: { \"use_label_encoder\" } are not used.\n",
      "\n",
      "  warnings.warn(smsg, UserWarning)\n",
      "C:\\Users\\paulk\\anaconda3\\Lib\\site-packages\\xgboost\\core.py:158: UserWarning: [12:24:07] WARNING: C:\\buildkite-agent\\builds\\buildkite-windows-cpu-autoscaling-group-i-06abd128ca6c1688d-1\\xgboost\\xgboost-ci-windows\\src\\learner.cc:740: \n",
      "Parameters: { \"use_label_encoder\" } are not used.\n",
      "\n",
      "  warnings.warn(smsg, UserWarning)\n",
      "C:\\Users\\paulk\\anaconda3\\Lib\\site-packages\\xgboost\\core.py:158: UserWarning: [12:24:09] WARNING: C:\\buildkite-agent\\builds\\buildkite-windows-cpu-autoscaling-group-i-06abd128ca6c1688d-1\\xgboost\\xgboost-ci-windows\\src\\learner.cc:740: \n",
      "Parameters: { \"use_label_encoder\" } are not used.\n",
      "\n",
      "  warnings.warn(smsg, UserWarning)\n"
     ]
    },
    {
     "name": "stdout",
     "output_type": "stream",
     "text": [
      "| \u001B[35m9         | \u001B[35m0.6832    | \u001B[35m0.6794    | \u001B[35m0.3814    | \u001B[35m0.03434   | \u001B[35m4.823     | \u001B[35m1.491     | \u001B[35m250.6     | \u001B[35m0.852     |\n"
     ]
    },
    {
     "name": "stderr",
     "output_type": "stream",
     "text": [
      "C:\\Users\\paulk\\anaconda3\\Lib\\site-packages\\xgboost\\core.py:158: UserWarning: [12:24:12] WARNING: C:\\buildkite-agent\\builds\\buildkite-windows-cpu-autoscaling-group-i-06abd128ca6c1688d-1\\xgboost\\xgboost-ci-windows\\src\\learner.cc:740: \n",
      "Parameters: { \"use_label_encoder\" } are not used.\n",
      "\n",
      "  warnings.warn(smsg, UserWarning)\n",
      "C:\\Users\\paulk\\anaconda3\\Lib\\site-packages\\xgboost\\core.py:158: UserWarning: [12:24:16] WARNING: C:\\buildkite-agent\\builds\\buildkite-windows-cpu-autoscaling-group-i-06abd128ca6c1688d-1\\xgboost\\xgboost-ci-windows\\src\\learner.cc:740: \n",
      "Parameters: { \"use_label_encoder\" } are not used.\n",
      "\n",
      "  warnings.warn(smsg, UserWarning)\n",
      "C:\\Users\\paulk\\anaconda3\\Lib\\site-packages\\xgboost\\core.py:158: UserWarning: [12:24:20] WARNING: C:\\buildkite-agent\\builds\\buildkite-windows-cpu-autoscaling-group-i-06abd128ca6c1688d-1\\xgboost\\xgboost-ci-windows\\src\\learner.cc:740: \n",
      "Parameters: { \"use_label_encoder\" } are not used.\n",
      "\n",
      "  warnings.warn(smsg, UserWarning)\n",
      "C:\\Users\\paulk\\anaconda3\\Lib\\site-packages\\xgboost\\core.py:158: UserWarning: [12:24:24] WARNING: C:\\buildkite-agent\\builds\\buildkite-windows-cpu-autoscaling-group-i-06abd128ca6c1688d-1\\xgboost\\xgboost-ci-windows\\src\\learner.cc:740: \n",
      "Parameters: { \"use_label_encoder\" } are not used.\n",
      "\n",
      "  warnings.warn(smsg, UserWarning)\n",
      "C:\\Users\\paulk\\anaconda3\\Lib\\site-packages\\xgboost\\core.py:158: UserWarning: [12:24:28] WARNING: C:\\buildkite-agent\\builds\\buildkite-windows-cpu-autoscaling-group-i-06abd128ca6c1688d-1\\xgboost\\xgboost-ci-windows\\src\\learner.cc:740: \n",
      "Parameters: { \"use_label_encoder\" } are not used.\n",
      "\n",
      "  warnings.warn(smsg, UserWarning)\n"
     ]
    },
    {
     "name": "stdout",
     "output_type": "stream",
     "text": [
      "| \u001B[30m10        | \u001B[30m0.6814    | \u001B[30m0.9705    | \u001B[30m0.4923    | \u001B[30m0.01916   | \u001B[30m6.602     | \u001B[30m3.725     | \u001B[30m286.6     | \u001B[30m0.6469    |\n"
     ]
    },
    {
     "name": "stderr",
     "output_type": "stream",
     "text": [
      "C:\\Users\\paulk\\anaconda3\\Lib\\site-packages\\xgboost\\core.py:158: UserWarning: [12:24:33] WARNING: C:\\buildkite-agent\\builds\\buildkite-windows-cpu-autoscaling-group-i-06abd128ca6c1688d-1\\xgboost\\xgboost-ci-windows\\src\\learner.cc:740: \n",
      "Parameters: { \"use_label_encoder\" } are not used.\n",
      "\n",
      "  warnings.warn(smsg, UserWarning)\n",
      "C:\\Users\\paulk\\anaconda3\\Lib\\site-packages\\xgboost\\core.py:158: UserWarning: [12:24:36] WARNING: C:\\buildkite-agent\\builds\\buildkite-windows-cpu-autoscaling-group-i-06abd128ca6c1688d-1\\xgboost\\xgboost-ci-windows\\src\\learner.cc:740: \n",
      "Parameters: { \"use_label_encoder\" } are not used.\n",
      "\n",
      "  warnings.warn(smsg, UserWarning)\n",
      "C:\\Users\\paulk\\anaconda3\\Lib\\site-packages\\xgboost\\core.py:158: UserWarning: [12:24:39] WARNING: C:\\buildkite-agent\\builds\\buildkite-windows-cpu-autoscaling-group-i-06abd128ca6c1688d-1\\xgboost\\xgboost-ci-windows\\src\\learner.cc:740: \n",
      "Parameters: { \"use_label_encoder\" } are not used.\n",
      "\n",
      "  warnings.warn(smsg, UserWarning)\n",
      "C:\\Users\\paulk\\anaconda3\\Lib\\site-packages\\xgboost\\core.py:158: UserWarning: [12:24:42] WARNING: C:\\buildkite-agent\\builds\\buildkite-windows-cpu-autoscaling-group-i-06abd128ca6c1688d-1\\xgboost\\xgboost-ci-windows\\src\\learner.cc:740: \n",
      "Parameters: { \"use_label_encoder\" } are not used.\n",
      "\n",
      "  warnings.warn(smsg, UserWarning)\n",
      "C:\\Users\\paulk\\anaconda3\\Lib\\site-packages\\xgboost\\core.py:158: UserWarning: [12:24:47] WARNING: C:\\buildkite-agent\\builds\\buildkite-windows-cpu-autoscaling-group-i-06abd128ca6c1688d-1\\xgboost\\xgboost-ci-windows\\src\\learner.cc:740: \n",
      "Parameters: { \"use_label_encoder\" } are not used.\n",
      "\n",
      "  warnings.warn(smsg, UserWarning)\n"
     ]
    },
    {
     "name": "stdout",
     "output_type": "stream",
     "text": [
      "| \u001B[30m11        | \u001B[30m0.6813    | \u001B[30m0.8036    | \u001B[30m0.1257    | \u001B[30m0.01252   | \u001B[30m7.874     | \u001B[30m7.838     | \u001B[30m169.9     | \u001B[30m0.6386    |\n"
     ]
    },
    {
     "name": "stderr",
     "output_type": "stream",
     "text": [
      "C:\\Users\\paulk\\anaconda3\\Lib\\site-packages\\xgboost\\core.py:158: UserWarning: [12:24:51] WARNING: C:\\buildkite-agent\\builds\\buildkite-windows-cpu-autoscaling-group-i-06abd128ca6c1688d-1\\xgboost\\xgboost-ci-windows\\src\\learner.cc:740: \n",
      "Parameters: { \"use_label_encoder\" } are not used.\n",
      "\n",
      "  warnings.warn(smsg, UserWarning)\n",
      "C:\\Users\\paulk\\anaconda3\\Lib\\site-packages\\xgboost\\core.py:158: UserWarning: [12:24:52] WARNING: C:\\buildkite-agent\\builds\\buildkite-windows-cpu-autoscaling-group-i-06abd128ca6c1688d-1\\xgboost\\xgboost-ci-windows\\src\\learner.cc:740: \n",
      "Parameters: { \"use_label_encoder\" } are not used.\n",
      "\n",
      "  warnings.warn(smsg, UserWarning)\n",
      "C:\\Users\\paulk\\anaconda3\\Lib\\site-packages\\xgboost\\core.py:158: UserWarning: [12:24:54] WARNING: C:\\buildkite-agent\\builds\\buildkite-windows-cpu-autoscaling-group-i-06abd128ca6c1688d-1\\xgboost\\xgboost-ci-windows\\src\\learner.cc:740: \n",
      "Parameters: { \"use_label_encoder\" } are not used.\n",
      "\n",
      "  warnings.warn(smsg, UserWarning)\n",
      "C:\\Users\\paulk\\anaconda3\\Lib\\site-packages\\xgboost\\core.py:158: UserWarning: [12:24:56] WARNING: C:\\buildkite-agent\\builds\\buildkite-windows-cpu-autoscaling-group-i-06abd128ca6c1688d-1\\xgboost\\xgboost-ci-windows\\src\\learner.cc:740: \n",
      "Parameters: { \"use_label_encoder\" } are not used.\n",
      "\n",
      "  warnings.warn(smsg, UserWarning)\n",
      "C:\\Users\\paulk\\anaconda3\\Lib\\site-packages\\xgboost\\core.py:158: UserWarning: [12:24:57] WARNING: C:\\buildkite-agent\\builds\\buildkite-windows-cpu-autoscaling-group-i-06abd128ca6c1688d-1\\xgboost\\xgboost-ci-windows\\src\\learner.cc:740: \n",
      "Parameters: { \"use_label_encoder\" } are not used.\n",
      "\n",
      "  warnings.warn(smsg, UserWarning)\n"
     ]
    },
    {
     "name": "stdout",
     "output_type": "stream",
     "text": [
      "| \u001B[30m12        | \u001B[30m0.678     | \u001B[30m0.9287    | \u001B[30m0.11      | \u001B[30m0.09522   | \u001B[30m4.568     | \u001B[30m8.374     | \u001B[30m138.4     | \u001B[30m0.8202    |\n"
     ]
    },
    {
     "name": "stderr",
     "output_type": "stream",
     "text": [
      "C:\\Users\\paulk\\anaconda3\\Lib\\site-packages\\xgboost\\core.py:158: UserWarning: [12:24:59] WARNING: C:\\buildkite-agent\\builds\\buildkite-windows-cpu-autoscaling-group-i-06abd128ca6c1688d-1\\xgboost\\xgboost-ci-windows\\src\\learner.cc:740: \n",
      "Parameters: { \"use_label_encoder\" } are not used.\n",
      "\n",
      "  warnings.warn(smsg, UserWarning)\n",
      "C:\\Users\\paulk\\anaconda3\\Lib\\site-packages\\xgboost\\core.py:158: UserWarning: [12:25:01] WARNING: C:\\buildkite-agent\\builds\\buildkite-windows-cpu-autoscaling-group-i-06abd128ca6c1688d-1\\xgboost\\xgboost-ci-windows\\src\\learner.cc:740: \n",
      "Parameters: { \"use_label_encoder\" } are not used.\n",
      "\n",
      "  warnings.warn(smsg, UserWarning)\n",
      "C:\\Users\\paulk\\anaconda3\\Lib\\site-packages\\xgboost\\core.py:158: UserWarning: [12:25:04] WARNING: C:\\buildkite-agent\\builds\\buildkite-windows-cpu-autoscaling-group-i-06abd128ca6c1688d-1\\xgboost\\xgboost-ci-windows\\src\\learner.cc:740: \n",
      "Parameters: { \"use_label_encoder\" } are not used.\n",
      "\n",
      "  warnings.warn(smsg, UserWarning)\n",
      "C:\\Users\\paulk\\anaconda3\\Lib\\site-packages\\xgboost\\core.py:158: UserWarning: [12:25:07] WARNING: C:\\buildkite-agent\\builds\\buildkite-windows-cpu-autoscaling-group-i-06abd128ca6c1688d-1\\xgboost\\xgboost-ci-windows\\src\\learner.cc:740: \n",
      "Parameters: { \"use_label_encoder\" } are not used.\n",
      "\n",
      "  warnings.warn(smsg, UserWarning)\n",
      "C:\\Users\\paulk\\anaconda3\\Lib\\site-packages\\xgboost\\core.py:158: UserWarning: [12:25:10] WARNING: C:\\buildkite-agent\\builds\\buildkite-windows-cpu-autoscaling-group-i-06abd128ca6c1688d-1\\xgboost\\xgboost-ci-windows\\src\\learner.cc:740: \n",
      "Parameters: { \"use_label_encoder\" } are not used.\n",
      "\n",
      "  warnings.warn(smsg, UserWarning)\n"
     ]
    },
    {
     "name": "stdout",
     "output_type": "stream",
     "text": [
      "| \u001B[30m13        | \u001B[30m0.6678    | \u001B[30m0.7133    | \u001B[30m0.3       | \u001B[30m0.08507   | \u001B[30m8.512     | \u001B[30m8.579     | \u001B[30m164.7     | \u001B[30m0.8289    |\n"
     ]
    },
    {
     "name": "stderr",
     "output_type": "stream",
     "text": [
      "C:\\Users\\paulk\\anaconda3\\Lib\\site-packages\\xgboost\\core.py:158: UserWarning: [12:25:13] WARNING: C:\\buildkite-agent\\builds\\buildkite-windows-cpu-autoscaling-group-i-06abd128ca6c1688d-1\\xgboost\\xgboost-ci-windows\\src\\learner.cc:740: \n",
      "Parameters: { \"use_label_encoder\" } are not used.\n",
      "\n",
      "  warnings.warn(smsg, UserWarning)\n",
      "C:\\Users\\paulk\\anaconda3\\Lib\\site-packages\\xgboost\\core.py:158: UserWarning: [12:25:16] WARNING: C:\\buildkite-agent\\builds\\buildkite-windows-cpu-autoscaling-group-i-06abd128ca6c1688d-1\\xgboost\\xgboost-ci-windows\\src\\learner.cc:740: \n",
      "Parameters: { \"use_label_encoder\" } are not used.\n",
      "\n",
      "  warnings.warn(smsg, UserWarning)\n",
      "C:\\Users\\paulk\\anaconda3\\Lib\\site-packages\\xgboost\\core.py:158: UserWarning: [12:25:19] WARNING: C:\\buildkite-agent\\builds\\buildkite-windows-cpu-autoscaling-group-i-06abd128ca6c1688d-1\\xgboost\\xgboost-ci-windows\\src\\learner.cc:740: \n",
      "Parameters: { \"use_label_encoder\" } are not used.\n",
      "\n",
      "  warnings.warn(smsg, UserWarning)\n",
      "C:\\Users\\paulk\\anaconda3\\Lib\\site-packages\\xgboost\\core.py:158: UserWarning: [12:25:22] WARNING: C:\\buildkite-agent\\builds\\buildkite-windows-cpu-autoscaling-group-i-06abd128ca6c1688d-1\\xgboost\\xgboost-ci-windows\\src\\learner.cc:740: \n",
      "Parameters: { \"use_label_encoder\" } are not used.\n",
      "\n",
      "  warnings.warn(smsg, UserWarning)\n",
      "C:\\Users\\paulk\\anaconda3\\Lib\\site-packages\\xgboost\\core.py:158: UserWarning: [12:25:25] WARNING: C:\\buildkite-agent\\builds\\buildkite-windows-cpu-autoscaling-group-i-06abd128ca6c1688d-1\\xgboost\\xgboost-ci-windows\\src\\learner.cc:740: \n",
      "Parameters: { \"use_label_encoder\" } are not used.\n",
      "\n",
      "  warnings.warn(smsg, UserWarning)\n"
     ]
    },
    {
     "name": "stdout",
     "output_type": "stream",
     "text": [
      "| \u001B[30m14        | \u001B[30m0.6548    | \u001B[30m0.7119    | \u001B[30m0.106     | \u001B[30m0.1651    | \u001B[30m5.631     | \u001B[30m1.897     | \u001B[30m284.1     | \u001B[30m0.6014    |\n"
     ]
    },
    {
     "name": "stderr",
     "output_type": "stream",
     "text": [
      "C:\\Users\\paulk\\anaconda3\\Lib\\site-packages\\xgboost\\core.py:158: UserWarning: [12:25:28] WARNING: C:\\buildkite-agent\\builds\\buildkite-windows-cpu-autoscaling-group-i-06abd128ca6c1688d-1\\xgboost\\xgboost-ci-windows\\src\\learner.cc:740: \n",
      "Parameters: { \"use_label_encoder\" } are not used.\n",
      "\n",
      "  warnings.warn(smsg, UserWarning)\n",
      "C:\\Users\\paulk\\anaconda3\\Lib\\site-packages\\xgboost\\core.py:158: UserWarning: [12:25:31] WARNING: C:\\buildkite-agent\\builds\\buildkite-windows-cpu-autoscaling-group-i-06abd128ca6c1688d-1\\xgboost\\xgboost-ci-windows\\src\\learner.cc:740: \n",
      "Parameters: { \"use_label_encoder\" } are not used.\n",
      "\n",
      "  warnings.warn(smsg, UserWarning)\n",
      "C:\\Users\\paulk\\anaconda3\\Lib\\site-packages\\xgboost\\core.py:158: UserWarning: [12:25:34] WARNING: C:\\buildkite-agent\\builds\\buildkite-windows-cpu-autoscaling-group-i-06abd128ca6c1688d-1\\xgboost\\xgboost-ci-windows\\src\\learner.cc:740: \n",
      "Parameters: { \"use_label_encoder\" } are not used.\n",
      "\n",
      "  warnings.warn(smsg, UserWarning)\n",
      "C:\\Users\\paulk\\anaconda3\\Lib\\site-packages\\xgboost\\core.py:158: UserWarning: [12:25:36] WARNING: C:\\buildkite-agent\\builds\\buildkite-windows-cpu-autoscaling-group-i-06abd128ca6c1688d-1\\xgboost\\xgboost-ci-windows\\src\\learner.cc:740: \n",
      "Parameters: { \"use_label_encoder\" } are not used.\n",
      "\n",
      "  warnings.warn(smsg, UserWarning)\n",
      "C:\\Users\\paulk\\anaconda3\\Lib\\site-packages\\xgboost\\core.py:158: UserWarning: [12:25:39] WARNING: C:\\buildkite-agent\\builds\\buildkite-windows-cpu-autoscaling-group-i-06abd128ca6c1688d-1\\xgboost\\xgboost-ci-windows\\src\\learner.cc:740: \n",
      "Parameters: { \"use_label_encoder\" } are not used.\n",
      "\n",
      "  warnings.warn(smsg, UserWarning)\n"
     ]
    },
    {
     "name": "stdout",
     "output_type": "stream",
     "text": [
      "| \u001B[30m15        | \u001B[30m0.6498    | \u001B[30m0.9657    | \u001B[30m0.2847    | \u001B[30m0.1872    | \u001B[30m9.219     | \u001B[30m1.744     | \u001B[30m90.3      | \u001B[30m0.8109    |\n"
     ]
    },
    {
     "name": "stderr",
     "output_type": "stream",
     "text": [
      "C:\\Users\\paulk\\anaconda3\\Lib\\site-packages\\xgboost\\core.py:158: UserWarning: [12:25:42] WARNING: C:\\buildkite-agent\\builds\\buildkite-windows-cpu-autoscaling-group-i-06abd128ca6c1688d-1\\xgboost\\xgboost-ci-windows\\src\\learner.cc:740: \n",
      "Parameters: { \"use_label_encoder\" } are not used.\n",
      "\n",
      "  warnings.warn(smsg, UserWarning)\n",
      "C:\\Users\\paulk\\anaconda3\\Lib\\site-packages\\xgboost\\core.py:158: UserWarning: [12:25:43] WARNING: C:\\buildkite-agent\\builds\\buildkite-windows-cpu-autoscaling-group-i-06abd128ca6c1688d-1\\xgboost\\xgboost-ci-windows\\src\\learner.cc:740: \n",
      "Parameters: { \"use_label_encoder\" } are not used.\n",
      "\n",
      "  warnings.warn(smsg, UserWarning)\n",
      "C:\\Users\\paulk\\anaconda3\\Lib\\site-packages\\xgboost\\core.py:158: UserWarning: [12:25:45] WARNING: C:\\buildkite-agent\\builds\\buildkite-windows-cpu-autoscaling-group-i-06abd128ca6c1688d-1\\xgboost\\xgboost-ci-windows\\src\\learner.cc:740: \n",
      "Parameters: { \"use_label_encoder\" } are not used.\n",
      "\n",
      "  warnings.warn(smsg, UserWarning)\n",
      "C:\\Users\\paulk\\anaconda3\\Lib\\site-packages\\xgboost\\core.py:158: UserWarning: [12:25:46] WARNING: C:\\buildkite-agent\\builds\\buildkite-windows-cpu-autoscaling-group-i-06abd128ca6c1688d-1\\xgboost\\xgboost-ci-windows\\src\\learner.cc:740: \n",
      "Parameters: { \"use_label_encoder\" } are not used.\n",
      "\n",
      "  warnings.warn(smsg, UserWarning)\n",
      "C:\\Users\\paulk\\anaconda3\\Lib\\site-packages\\xgboost\\core.py:158: UserWarning: [12:25:48] WARNING: C:\\buildkite-agent\\builds\\buildkite-windows-cpu-autoscaling-group-i-06abd128ca6c1688d-1\\xgboost\\xgboost-ci-windows\\src\\learner.cc:740: \n",
      "Parameters: { \"use_label_encoder\" } are not used.\n",
      "\n",
      "  warnings.warn(smsg, UserWarning)\n"
     ]
    },
    {
     "name": "stdout",
     "output_type": "stream",
     "text": [
      "| \u001B[30m16        | \u001B[30m0.6656    | \u001B[30m0.653     | \u001B[30m0.3839    | \u001B[30m0.1683    | \u001B[30m8.383     | \u001B[30m6.061     | \u001B[30m76.42     | \u001B[30m0.9292    |\n"
     ]
    },
    {
     "name": "stderr",
     "output_type": "stream",
     "text": [
      "C:\\Users\\paulk\\anaconda3\\Lib\\site-packages\\xgboost\\core.py:158: UserWarning: [12:25:49] WARNING: C:\\buildkite-agent\\builds\\buildkite-windows-cpu-autoscaling-group-i-06abd128ca6c1688d-1\\xgboost\\xgboost-ci-windows\\src\\learner.cc:740: \n",
      "Parameters: { \"use_label_encoder\" } are not used.\n",
      "\n",
      "  warnings.warn(smsg, UserWarning)\n",
      "C:\\Users\\paulk\\anaconda3\\Lib\\site-packages\\xgboost\\core.py:158: UserWarning: [12:25:51] WARNING: C:\\buildkite-agent\\builds\\buildkite-windows-cpu-autoscaling-group-i-06abd128ca6c1688d-1\\xgboost\\xgboost-ci-windows\\src\\learner.cc:740: \n",
      "Parameters: { \"use_label_encoder\" } are not used.\n",
      "\n",
      "  warnings.warn(smsg, UserWarning)\n",
      "C:\\Users\\paulk\\anaconda3\\Lib\\site-packages\\xgboost\\core.py:158: UserWarning: [12:25:53] WARNING: C:\\buildkite-agent\\builds\\buildkite-windows-cpu-autoscaling-group-i-06abd128ca6c1688d-1\\xgboost\\xgboost-ci-windows\\src\\learner.cc:740: \n",
      "Parameters: { \"use_label_encoder\" } are not used.\n",
      "\n",
      "  warnings.warn(smsg, UserWarning)\n",
      "C:\\Users\\paulk\\anaconda3\\Lib\\site-packages\\xgboost\\core.py:158: UserWarning: [12:25:54] WARNING: C:\\buildkite-agent\\builds\\buildkite-windows-cpu-autoscaling-group-i-06abd128ca6c1688d-1\\xgboost\\xgboost-ci-windows\\src\\learner.cc:740: \n",
      "Parameters: { \"use_label_encoder\" } are not used.\n",
      "\n",
      "  warnings.warn(smsg, UserWarning)\n",
      "C:\\Users\\paulk\\anaconda3\\Lib\\site-packages\\xgboost\\core.py:158: UserWarning: [12:25:56] WARNING: C:\\buildkite-agent\\builds\\buildkite-windows-cpu-autoscaling-group-i-06abd128ca6c1688d-1\\xgboost\\xgboost-ci-windows\\src\\learner.cc:740: \n",
      "Parameters: { \"use_label_encoder\" } are not used.\n",
      "\n",
      "  warnings.warn(smsg, UserWarning)\n"
     ]
    },
    {
     "name": "stdout",
     "output_type": "stream",
     "text": [
      "| \u001B[30m17        | \u001B[30m0.6735    | \u001B[30m0.8704    | \u001B[30m0.49      | \u001B[30m0.1957    | \u001B[30m3.092     | \u001B[30m5.536     | \u001B[30m167.1     | \u001B[30m0.644     |\n"
     ]
    },
    {
     "name": "stderr",
     "output_type": "stream",
     "text": [
      "C:\\Users\\paulk\\anaconda3\\Lib\\site-packages\\xgboost\\core.py:158: UserWarning: [12:25:57] WARNING: C:\\buildkite-agent\\builds\\buildkite-windows-cpu-autoscaling-group-i-06abd128ca6c1688d-1\\xgboost\\xgboost-ci-windows\\src\\learner.cc:740: \n",
      "Parameters: { \"use_label_encoder\" } are not used.\n",
      "\n",
      "  warnings.warn(smsg, UserWarning)\n",
      "C:\\Users\\paulk\\anaconda3\\Lib\\site-packages\\xgboost\\core.py:158: UserWarning: [12:26:00] WARNING: C:\\buildkite-agent\\builds\\buildkite-windows-cpu-autoscaling-group-i-06abd128ca6c1688d-1\\xgboost\\xgboost-ci-windows\\src\\learner.cc:740: \n",
      "Parameters: { \"use_label_encoder\" } are not used.\n",
      "\n",
      "  warnings.warn(smsg, UserWarning)\n",
      "C:\\Users\\paulk\\anaconda3\\Lib\\site-packages\\xgboost\\core.py:158: UserWarning: [12:26:02] WARNING: C:\\buildkite-agent\\builds\\buildkite-windows-cpu-autoscaling-group-i-06abd128ca6c1688d-1\\xgboost\\xgboost-ci-windows\\src\\learner.cc:740: \n",
      "Parameters: { \"use_label_encoder\" } are not used.\n",
      "\n",
      "  warnings.warn(smsg, UserWarning)\n",
      "C:\\Users\\paulk\\anaconda3\\Lib\\site-packages\\xgboost\\core.py:158: UserWarning: [12:26:04] WARNING: C:\\buildkite-agent\\builds\\buildkite-windows-cpu-autoscaling-group-i-06abd128ca6c1688d-1\\xgboost\\xgboost-ci-windows\\src\\learner.cc:740: \n",
      "Parameters: { \"use_label_encoder\" } are not used.\n",
      "\n",
      "  warnings.warn(smsg, UserWarning)\n",
      "C:\\Users\\paulk\\anaconda3\\Lib\\site-packages\\xgboost\\core.py:158: UserWarning: [12:26:06] WARNING: C:\\buildkite-agent\\builds\\buildkite-windows-cpu-autoscaling-group-i-06abd128ca6c1688d-1\\xgboost\\xgboost-ci-windows\\src\\learner.cc:740: \n",
      "Parameters: { \"use_label_encoder\" } are not used.\n",
      "\n",
      "  warnings.warn(smsg, UserWarning)\n"
     ]
    },
    {
     "name": "stdout",
     "output_type": "stream",
     "text": [
      "| \u001B[30m18        | \u001B[30m0.6823    | \u001B[30m0.7816    | \u001B[30m0.4559    | \u001B[30m0.0316    | \u001B[30m4.925     | \u001B[30m1.499     | \u001B[30m235.0     | \u001B[30m0.806     |\n"
     ]
    },
    {
     "name": "stderr",
     "output_type": "stream",
     "text": [
      "C:\\Users\\paulk\\anaconda3\\Lib\\site-packages\\xgboost\\core.py:158: UserWarning: [12:26:09] WARNING: C:\\buildkite-agent\\builds\\buildkite-windows-cpu-autoscaling-group-i-06abd128ca6c1688d-1\\xgboost\\xgboost-ci-windows\\src\\learner.cc:740: \n",
      "Parameters: { \"use_label_encoder\" } are not used.\n",
      "\n",
      "  warnings.warn(smsg, UserWarning)\n",
      "C:\\Users\\paulk\\anaconda3\\Lib\\site-packages\\xgboost\\core.py:158: UserWarning: [12:26:11] WARNING: C:\\buildkite-agent\\builds\\buildkite-windows-cpu-autoscaling-group-i-06abd128ca6c1688d-1\\xgboost\\xgboost-ci-windows\\src\\learner.cc:740: \n",
      "Parameters: { \"use_label_encoder\" } are not used.\n",
      "\n",
      "  warnings.warn(smsg, UserWarning)\n",
      "C:\\Users\\paulk\\anaconda3\\Lib\\site-packages\\xgboost\\core.py:158: UserWarning: [12:26:13] WARNING: C:\\buildkite-agent\\builds\\buildkite-windows-cpu-autoscaling-group-i-06abd128ca6c1688d-1\\xgboost\\xgboost-ci-windows\\src\\learner.cc:740: \n",
      "Parameters: { \"use_label_encoder\" } are not used.\n",
      "\n",
      "  warnings.warn(smsg, UserWarning)\n",
      "C:\\Users\\paulk\\anaconda3\\Lib\\site-packages\\xgboost\\core.py:158: UserWarning: [12:26:14] WARNING: C:\\buildkite-agent\\builds\\buildkite-windows-cpu-autoscaling-group-i-06abd128ca6c1688d-1\\xgboost\\xgboost-ci-windows\\src\\learner.cc:740: \n",
      "Parameters: { \"use_label_encoder\" } are not used.\n",
      "\n",
      "  warnings.warn(smsg, UserWarning)\n",
      "C:\\Users\\paulk\\anaconda3\\Lib\\site-packages\\xgboost\\core.py:158: UserWarning: [12:26:16] WARNING: C:\\buildkite-agent\\builds\\buildkite-windows-cpu-autoscaling-group-i-06abd128ca6c1688d-1\\xgboost\\xgboost-ci-windows\\src\\learner.cc:740: \n",
      "Parameters: { \"use_label_encoder\" } are not used.\n",
      "\n",
      "  warnings.warn(smsg, UserWarning)\n"
     ]
    },
    {
     "name": "stdout",
     "output_type": "stream",
     "text": [
      "| \u001B[30m19        | \u001B[30m0.6808    | \u001B[30m0.6985    | \u001B[30m0.0384    | \u001B[30m0.04418   | \u001B[30m6.438     | \u001B[30m2.578     | \u001B[30m112.3     | \u001B[30m0.8973    |\n"
     ]
    },
    {
     "name": "stderr",
     "output_type": "stream",
     "text": [
      "C:\\Users\\paulk\\anaconda3\\Lib\\site-packages\\xgboost\\core.py:158: UserWarning: [12:26:18] WARNING: C:\\buildkite-agent\\builds\\buildkite-windows-cpu-autoscaling-group-i-06abd128ca6c1688d-1\\xgboost\\xgboost-ci-windows\\src\\learner.cc:740: \n",
      "Parameters: { \"use_label_encoder\" } are not used.\n",
      "\n",
      "  warnings.warn(smsg, UserWarning)\n",
      "C:\\Users\\paulk\\anaconda3\\Lib\\site-packages\\xgboost\\core.py:158: UserWarning: [12:26:23] WARNING: C:\\buildkite-agent\\builds\\buildkite-windows-cpu-autoscaling-group-i-06abd128ca6c1688d-1\\xgboost\\xgboost-ci-windows\\src\\learner.cc:740: \n",
      "Parameters: { \"use_label_encoder\" } are not used.\n",
      "\n",
      "  warnings.warn(smsg, UserWarning)\n",
      "C:\\Users\\paulk\\anaconda3\\Lib\\site-packages\\xgboost\\core.py:158: UserWarning: [12:26:27] WARNING: C:\\buildkite-agent\\builds\\buildkite-windows-cpu-autoscaling-group-i-06abd128ca6c1688d-1\\xgboost\\xgboost-ci-windows\\src\\learner.cc:740: \n",
      "Parameters: { \"use_label_encoder\" } are not used.\n",
      "\n",
      "  warnings.warn(smsg, UserWarning)\n",
      "C:\\Users\\paulk\\anaconda3\\Lib\\site-packages\\xgboost\\core.py:158: UserWarning: [12:26:32] WARNING: C:\\buildkite-agent\\builds\\buildkite-windows-cpu-autoscaling-group-i-06abd128ca6c1688d-1\\xgboost\\xgboost-ci-windows\\src\\learner.cc:740: \n",
      "Parameters: { \"use_label_encoder\" } are not used.\n",
      "\n",
      "  warnings.warn(smsg, UserWarning)\n",
      "C:\\Users\\paulk\\anaconda3\\Lib\\site-packages\\xgboost\\core.py:158: UserWarning: [12:26:37] WARNING: C:\\buildkite-agent\\builds\\buildkite-windows-cpu-autoscaling-group-i-06abd128ca6c1688d-1\\xgboost\\xgboost-ci-windows\\src\\learner.cc:740: \n",
      "Parameters: { \"use_label_encoder\" } are not used.\n",
      "\n",
      "  warnings.warn(smsg, UserWarning)\n"
     ]
    },
    {
     "name": "stdout",
     "output_type": "stream",
     "text": [
      "| \u001B[30m20        | \u001B[30m0.6615    | \u001B[30m0.8979    | \u001B[30m0.2772    | \u001B[30m0.07367   | \u001B[30m9.03      | \u001B[30m7.926     | \u001B[30m258.6     | \u001B[30m0.8671    |\n"
     ]
    },
    {
     "name": "stderr",
     "output_type": "stream",
     "text": [
      "C:\\Users\\paulk\\anaconda3\\Lib\\site-packages\\xgboost\\core.py:158: UserWarning: [12:26:42] WARNING: C:\\buildkite-agent\\builds\\buildkite-windows-cpu-autoscaling-group-i-06abd128ca6c1688d-1\\xgboost\\xgboost-ci-windows\\src\\learner.cc:740: \n",
      "Parameters: { \"use_label_encoder\" } are not used.\n",
      "\n",
      "  warnings.warn(smsg, UserWarning)\n",
      "C:\\Users\\paulk\\anaconda3\\Lib\\site-packages\\xgboost\\core.py:158: UserWarning: [12:26:45] WARNING: C:\\buildkite-agent\\builds\\buildkite-windows-cpu-autoscaling-group-i-06abd128ca6c1688d-1\\xgboost\\xgboost-ci-windows\\src\\learner.cc:740: \n",
      "Parameters: { \"use_label_encoder\" } are not used.\n",
      "\n",
      "  warnings.warn(smsg, UserWarning)\n",
      "C:\\Users\\paulk\\anaconda3\\Lib\\site-packages\\xgboost\\core.py:158: UserWarning: [12:26:47] WARNING: C:\\buildkite-agent\\builds\\buildkite-windows-cpu-autoscaling-group-i-06abd128ca6c1688d-1\\xgboost\\xgboost-ci-windows\\src\\learner.cc:740: \n",
      "Parameters: { \"use_label_encoder\" } are not used.\n",
      "\n",
      "  warnings.warn(smsg, UserWarning)\n",
      "C:\\Users\\paulk\\anaconda3\\Lib\\site-packages\\xgboost\\core.py:158: UserWarning: [12:26:49] WARNING: C:\\buildkite-agent\\builds\\buildkite-windows-cpu-autoscaling-group-i-06abd128ca6c1688d-1\\xgboost\\xgboost-ci-windows\\src\\learner.cc:740: \n",
      "Parameters: { \"use_label_encoder\" } are not used.\n",
      "\n",
      "  warnings.warn(smsg, UserWarning)\n",
      "C:\\Users\\paulk\\anaconda3\\Lib\\site-packages\\xgboost\\core.py:158: UserWarning: [12:26:50] WARNING: C:\\buildkite-agent\\builds\\buildkite-windows-cpu-autoscaling-group-i-06abd128ca6c1688d-1\\xgboost\\xgboost-ci-windows\\src\\learner.cc:740: \n",
      "Parameters: { \"use_label_encoder\" } are not used.\n",
      "\n",
      "  warnings.warn(smsg, UserWarning)\n"
     ]
    },
    {
     "name": "stdout",
     "output_type": "stream",
     "text": [
      "| \u001B[30m21        | \u001B[30m0.6786    | \u001B[30m0.9126    | \u001B[30m0.1548    | \u001B[30m0.1352    | \u001B[30m3.541     | \u001B[30m1.197     | \u001B[30m291.3     | \u001B[30m0.8049    |\n"
     ]
    },
    {
     "name": "stderr",
     "output_type": "stream",
     "text": [
      "C:\\Users\\paulk\\anaconda3\\Lib\\site-packages\\xgboost\\core.py:158: UserWarning: [12:26:53] WARNING: C:\\buildkite-agent\\builds\\buildkite-windows-cpu-autoscaling-group-i-06abd128ca6c1688d-1\\xgboost\\xgboost-ci-windows\\src\\learner.cc:740: \n",
      "Parameters: { \"use_label_encoder\" } are not used.\n",
      "\n",
      "  warnings.warn(smsg, UserWarning)\n",
      "C:\\Users\\paulk\\anaconda3\\Lib\\site-packages\\xgboost\\core.py:158: UserWarning: [12:26:56] WARNING: C:\\buildkite-agent\\builds\\buildkite-windows-cpu-autoscaling-group-i-06abd128ca6c1688d-1\\xgboost\\xgboost-ci-windows\\src\\learner.cc:740: \n",
      "Parameters: { \"use_label_encoder\" } are not used.\n",
      "\n",
      "  warnings.warn(smsg, UserWarning)\n",
      "C:\\Users\\paulk\\anaconda3\\Lib\\site-packages\\xgboost\\core.py:158: UserWarning: [12:26:59] WARNING: C:\\buildkite-agent\\builds\\buildkite-windows-cpu-autoscaling-group-i-06abd128ca6c1688d-1\\xgboost\\xgboost-ci-windows\\src\\learner.cc:740: \n",
      "Parameters: { \"use_label_encoder\" } are not used.\n",
      "\n",
      "  warnings.warn(smsg, UserWarning)\n",
      "C:\\Users\\paulk\\anaconda3\\Lib\\site-packages\\xgboost\\core.py:158: UserWarning: [12:27:02] WARNING: C:\\buildkite-agent\\builds\\buildkite-windows-cpu-autoscaling-group-i-06abd128ca6c1688d-1\\xgboost\\xgboost-ci-windows\\src\\learner.cc:740: \n",
      "Parameters: { \"use_label_encoder\" } are not used.\n",
      "\n",
      "  warnings.warn(smsg, UserWarning)\n",
      "C:\\Users\\paulk\\anaconda3\\Lib\\site-packages\\xgboost\\core.py:158: UserWarning: [12:27:05] WARNING: C:\\buildkite-agent\\builds\\buildkite-windows-cpu-autoscaling-group-i-06abd128ca6c1688d-1\\xgboost\\xgboost-ci-windows\\src\\learner.cc:740: \n",
      "Parameters: { \"use_label_encoder\" } are not used.\n",
      "\n",
      "  warnings.warn(smsg, UserWarning)\n"
     ]
    },
    {
     "name": "stdout",
     "output_type": "stream",
     "text": [
      "| \u001B[30m22        | \u001B[30m0.6613    | \u001B[30m0.7417    | \u001B[30m0.3209    | \u001B[30m0.1193    | \u001B[30m5.918     | \u001B[30m9.37      | \u001B[30m293.8     | \u001B[30m0.6595    |\n"
     ]
    },
    {
     "name": "stderr",
     "output_type": "stream",
     "text": [
      "C:\\Users\\paulk\\anaconda3\\Lib\\site-packages\\xgboost\\core.py:158: UserWarning: [12:27:08] WARNING: C:\\buildkite-agent\\builds\\buildkite-windows-cpu-autoscaling-group-i-06abd128ca6c1688d-1\\xgboost\\xgboost-ci-windows\\src\\learner.cc:740: \n",
      "Parameters: { \"use_label_encoder\" } are not used.\n",
      "\n",
      "  warnings.warn(smsg, UserWarning)\n",
      "C:\\Users\\paulk\\anaconda3\\Lib\\site-packages\\xgboost\\core.py:158: UserWarning: [12:27:10] WARNING: C:\\buildkite-agent\\builds\\buildkite-windows-cpu-autoscaling-group-i-06abd128ca6c1688d-1\\xgboost\\xgboost-ci-windows\\src\\learner.cc:740: \n",
      "Parameters: { \"use_label_encoder\" } are not used.\n",
      "\n",
      "  warnings.warn(smsg, UserWarning)\n",
      "C:\\Users\\paulk\\anaconda3\\Lib\\site-packages\\xgboost\\core.py:158: UserWarning: [12:27:12] WARNING: C:\\buildkite-agent\\builds\\buildkite-windows-cpu-autoscaling-group-i-06abd128ca6c1688d-1\\xgboost\\xgboost-ci-windows\\src\\learner.cc:740: \n",
      "Parameters: { \"use_label_encoder\" } are not used.\n",
      "\n",
      "  warnings.warn(smsg, UserWarning)\n",
      "C:\\Users\\paulk\\anaconda3\\Lib\\site-packages\\xgboost\\core.py:158: UserWarning: [12:27:14] WARNING: C:\\buildkite-agent\\builds\\buildkite-windows-cpu-autoscaling-group-i-06abd128ca6c1688d-1\\xgboost\\xgboost-ci-windows\\src\\learner.cc:740: \n",
      "Parameters: { \"use_label_encoder\" } are not used.\n",
      "\n",
      "  warnings.warn(smsg, UserWarning)\n",
      "C:\\Users\\paulk\\anaconda3\\Lib\\site-packages\\xgboost\\core.py:158: UserWarning: [12:27:16] WARNING: C:\\buildkite-agent\\builds\\buildkite-windows-cpu-autoscaling-group-i-06abd128ca6c1688d-1\\xgboost\\xgboost-ci-windows\\src\\learner.cc:740: \n",
      "Parameters: { \"use_label_encoder\" } are not used.\n",
      "\n",
      "  warnings.warn(smsg, UserWarning)\n"
     ]
    },
    {
     "name": "stdout",
     "output_type": "stream",
     "text": [
      "| \u001B[30m23        | \u001B[30m0.6735    | \u001B[30m0.6263    | \u001B[30m0.3761    | \u001B[30m0.1178    | \u001B[30m6.308     | \u001B[30m1.11      | \u001B[30m107.1     | \u001B[30m0.9206    |\n"
     ]
    },
    {
     "name": "stderr",
     "output_type": "stream",
     "text": [
      "C:\\Users\\paulk\\anaconda3\\Lib\\site-packages\\xgboost\\core.py:158: UserWarning: [12:27:17] WARNING: C:\\buildkite-agent\\builds\\buildkite-windows-cpu-autoscaling-group-i-06abd128ca6c1688d-1\\xgboost\\xgboost-ci-windows\\src\\learner.cc:740: \n",
      "Parameters: { \"use_label_encoder\" } are not used.\n",
      "\n",
      "  warnings.warn(smsg, UserWarning)\n",
      "C:\\Users\\paulk\\anaconda3\\Lib\\site-packages\\xgboost\\core.py:158: UserWarning: [12:27:20] WARNING: C:\\buildkite-agent\\builds\\buildkite-windows-cpu-autoscaling-group-i-06abd128ca6c1688d-1\\xgboost\\xgboost-ci-windows\\src\\learner.cc:740: \n",
      "Parameters: { \"use_label_encoder\" } are not used.\n",
      "\n",
      "  warnings.warn(smsg, UserWarning)\n",
      "C:\\Users\\paulk\\anaconda3\\Lib\\site-packages\\xgboost\\core.py:158: UserWarning: [12:27:22] WARNING: C:\\buildkite-agent\\builds\\buildkite-windows-cpu-autoscaling-group-i-06abd128ca6c1688d-1\\xgboost\\xgboost-ci-windows\\src\\learner.cc:740: \n",
      "Parameters: { \"use_label_encoder\" } are not used.\n",
      "\n",
      "  warnings.warn(smsg, UserWarning)\n",
      "C:\\Users\\paulk\\anaconda3\\Lib\\site-packages\\xgboost\\core.py:158: UserWarning: [12:27:25] WARNING: C:\\buildkite-agent\\builds\\buildkite-windows-cpu-autoscaling-group-i-06abd128ca6c1688d-1\\xgboost\\xgboost-ci-windows\\src\\learner.cc:740: \n",
      "Parameters: { \"use_label_encoder\" } are not used.\n",
      "\n",
      "  warnings.warn(smsg, UserWarning)\n",
      "C:\\Users\\paulk\\anaconda3\\Lib\\site-packages\\xgboost\\core.py:158: UserWarning: [12:27:27] WARNING: C:\\buildkite-agent\\builds\\buildkite-windows-cpu-autoscaling-group-i-06abd128ca6c1688d-1\\xgboost\\xgboost-ci-windows\\src\\learner.cc:740: \n",
      "Parameters: { \"use_label_encoder\" } are not used.\n",
      "\n",
      "  warnings.warn(smsg, UserWarning)\n"
     ]
    },
    {
     "name": "stdout",
     "output_type": "stream",
     "text": [
      "| \u001B[30m24        | \u001B[30m0.6613    | \u001B[30m0.7073    | \u001B[30m0.04139   | \u001B[30m0.1119    | \u001B[30m8.764     | \u001B[30m4.128     | \u001B[30m116.5     | \u001B[30m0.6598    |\n"
     ]
    },
    {
     "name": "stderr",
     "output_type": "stream",
     "text": [
      "C:\\Users\\paulk\\anaconda3\\Lib\\site-packages\\xgboost\\core.py:158: UserWarning: [12:27:31] WARNING: C:\\buildkite-agent\\builds\\buildkite-windows-cpu-autoscaling-group-i-06abd128ca6c1688d-1\\xgboost\\xgboost-ci-windows\\src\\learner.cc:740: \n",
      "Parameters: { \"use_label_encoder\" } are not used.\n",
      "\n",
      "  warnings.warn(smsg, UserWarning)\n",
      "C:\\Users\\paulk\\anaconda3\\Lib\\site-packages\\xgboost\\core.py:158: UserWarning: [12:27:32] WARNING: C:\\buildkite-agent\\builds\\buildkite-windows-cpu-autoscaling-group-i-06abd128ca6c1688d-1\\xgboost\\xgboost-ci-windows\\src\\learner.cc:740: \n",
      "Parameters: { \"use_label_encoder\" } are not used.\n",
      "\n",
      "  warnings.warn(smsg, UserWarning)\n",
      "C:\\Users\\paulk\\anaconda3\\Lib\\site-packages\\xgboost\\core.py:158: UserWarning: [12:27:33] WARNING: C:\\buildkite-agent\\builds\\buildkite-windows-cpu-autoscaling-group-i-06abd128ca6c1688d-1\\xgboost\\xgboost-ci-windows\\src\\learner.cc:740: \n",
      "Parameters: { \"use_label_encoder\" } are not used.\n",
      "\n",
      "  warnings.warn(smsg, UserWarning)\n",
      "C:\\Users\\paulk\\anaconda3\\Lib\\site-packages\\xgboost\\core.py:158: UserWarning: [12:27:35] WARNING: C:\\buildkite-agent\\builds\\buildkite-windows-cpu-autoscaling-group-i-06abd128ca6c1688d-1\\xgboost\\xgboost-ci-windows\\src\\learner.cc:740: \n",
      "Parameters: { \"use_label_encoder\" } are not used.\n",
      "\n",
      "  warnings.warn(smsg, UserWarning)\n",
      "C:\\Users\\paulk\\anaconda3\\Lib\\site-packages\\xgboost\\core.py:158: UserWarning: [12:27:36] WARNING: C:\\buildkite-agent\\builds\\buildkite-windows-cpu-autoscaling-group-i-06abd128ca6c1688d-1\\xgboost\\xgboost-ci-windows\\src\\learner.cc:740: \n",
      "Parameters: { \"use_label_encoder\" } are not used.\n",
      "\n",
      "  warnings.warn(smsg, UserWarning)\n"
     ]
    },
    {
     "name": "stdout",
     "output_type": "stream",
     "text": [
      "| \u001B[30m25        | \u001B[30m0.6771    | \u001B[30m0.7414    | \u001B[30m0.2178    | \u001B[30m0.178     | \u001B[30m3.4       | \u001B[30m1.356     | \u001B[30m135.5     | \u001B[30m0.7324    |\n"
     ]
    },
    {
     "name": "stderr",
     "output_type": "stream",
     "text": [
      "C:\\Users\\paulk\\anaconda3\\Lib\\site-packages\\xgboost\\core.py:158: UserWarning: [12:27:37] WARNING: C:\\buildkite-agent\\builds\\buildkite-windows-cpu-autoscaling-group-i-06abd128ca6c1688d-1\\xgboost\\xgboost-ci-windows\\src\\learner.cc:740: \n",
      "Parameters: { \"use_label_encoder\" } are not used.\n",
      "\n",
      "  warnings.warn(smsg, UserWarning)\n",
      "C:\\Users\\paulk\\anaconda3\\Lib\\site-packages\\xgboost\\core.py:158: UserWarning: [12:27:40] WARNING: C:\\buildkite-agent\\builds\\buildkite-windows-cpu-autoscaling-group-i-06abd128ca6c1688d-1\\xgboost\\xgboost-ci-windows\\src\\learner.cc:740: \n",
      "Parameters: { \"use_label_encoder\" } are not used.\n",
      "\n",
      "  warnings.warn(smsg, UserWarning)\n",
      "C:\\Users\\paulk\\anaconda3\\Lib\\site-packages\\xgboost\\core.py:158: UserWarning: [12:27:42] WARNING: C:\\buildkite-agent\\builds\\buildkite-windows-cpu-autoscaling-group-i-06abd128ca6c1688d-1\\xgboost\\xgboost-ci-windows\\src\\learner.cc:740: \n",
      "Parameters: { \"use_label_encoder\" } are not used.\n",
      "\n",
      "  warnings.warn(smsg, UserWarning)\n",
      "C:\\Users\\paulk\\anaconda3\\Lib\\site-packages\\xgboost\\core.py:158: UserWarning: [12:27:44] WARNING: C:\\buildkite-agent\\builds\\buildkite-windows-cpu-autoscaling-group-i-06abd128ca6c1688d-1\\xgboost\\xgboost-ci-windows\\src\\learner.cc:740: \n",
      "Parameters: { \"use_label_encoder\" } are not used.\n",
      "\n",
      "  warnings.warn(smsg, UserWarning)\n",
      "C:\\Users\\paulk\\anaconda3\\Lib\\site-packages\\xgboost\\core.py:158: UserWarning: [12:27:47] WARNING: C:\\buildkite-agent\\builds\\buildkite-windows-cpu-autoscaling-group-i-06abd128ca6c1688d-1\\xgboost\\xgboost-ci-windows\\src\\learner.cc:740: \n",
      "Parameters: { \"use_label_encoder\" } are not used.\n",
      "\n",
      "  warnings.warn(smsg, UserWarning)\n"
     ]
    },
    {
     "name": "stdout",
     "output_type": "stream",
     "text": [
      "| \u001B[30m26        | \u001B[30m0.6793    | \u001B[30m0.8829    | \u001B[30m0.0985    | \u001B[30m0.06172   | \u001B[30m4.108     | \u001B[30m9.813     | \u001B[30m223.8     | \u001B[30m0.621     |\n"
     ]
    },
    {
     "name": "stderr",
     "output_type": "stream",
     "text": [
      "C:\\Users\\paulk\\anaconda3\\Lib\\site-packages\\xgboost\\core.py:158: UserWarning: [12:27:49] WARNING: C:\\buildkite-agent\\builds\\buildkite-windows-cpu-autoscaling-group-i-06abd128ca6c1688d-1\\xgboost\\xgboost-ci-windows\\src\\learner.cc:740: \n",
      "Parameters: { \"use_label_encoder\" } are not used.\n",
      "\n",
      "  warnings.warn(smsg, UserWarning)\n",
      "C:\\Users\\paulk\\anaconda3\\Lib\\site-packages\\xgboost\\core.py:158: UserWarning: [12:27:50] WARNING: C:\\buildkite-agent\\builds\\buildkite-windows-cpu-autoscaling-group-i-06abd128ca6c1688d-1\\xgboost\\xgboost-ci-windows\\src\\learner.cc:740: \n",
      "Parameters: { \"use_label_encoder\" } are not used.\n",
      "\n",
      "  warnings.warn(smsg, UserWarning)\n",
      "C:\\Users\\paulk\\anaconda3\\Lib\\site-packages\\xgboost\\core.py:158: UserWarning: [12:27:52] WARNING: C:\\buildkite-agent\\builds\\buildkite-windows-cpu-autoscaling-group-i-06abd128ca6c1688d-1\\xgboost\\xgboost-ci-windows\\src\\learner.cc:740: \n",
      "Parameters: { \"use_label_encoder\" } are not used.\n",
      "\n",
      "  warnings.warn(smsg, UserWarning)\n",
      "C:\\Users\\paulk\\anaconda3\\Lib\\site-packages\\xgboost\\core.py:158: UserWarning: [12:27:53] WARNING: C:\\buildkite-agent\\builds\\buildkite-windows-cpu-autoscaling-group-i-06abd128ca6c1688d-1\\xgboost\\xgboost-ci-windows\\src\\learner.cc:740: \n",
      "Parameters: { \"use_label_encoder\" } are not used.\n",
      "\n",
      "  warnings.warn(smsg, UserWarning)\n",
      "C:\\Users\\paulk\\anaconda3\\Lib\\site-packages\\xgboost\\core.py:158: UserWarning: [12:27:54] WARNING: C:\\buildkite-agent\\builds\\buildkite-windows-cpu-autoscaling-group-i-06abd128ca6c1688d-1\\xgboost\\xgboost-ci-windows\\src\\learner.cc:740: \n",
      "Parameters: { \"use_label_encoder\" } are not used.\n",
      "\n",
      "  warnings.warn(smsg, UserWarning)\n"
     ]
    },
    {
     "name": "stdout",
     "output_type": "stream",
     "text": [
      "| \u001B[30m27        | \u001B[30m0.6778    | \u001B[30m0.6299    | \u001B[30m0.4438    | \u001B[30m0.01714   | \u001B[30m3.103     | \u001B[30m1.602     | \u001B[30m145.5     | \u001B[30m0.6929    |\n"
     ]
    },
    {
     "name": "stderr",
     "output_type": "stream",
     "text": [
      "C:\\Users\\paulk\\anaconda3\\Lib\\site-packages\\xgboost\\core.py:158: UserWarning: [12:27:56] WARNING: C:\\buildkite-agent\\builds\\buildkite-windows-cpu-autoscaling-group-i-06abd128ca6c1688d-1\\xgboost\\xgboost-ci-windows\\src\\learner.cc:740: \n",
      "Parameters: { \"use_label_encoder\" } are not used.\n",
      "\n",
      "  warnings.warn(smsg, UserWarning)\n",
      "C:\\Users\\paulk\\anaconda3\\Lib\\site-packages\\xgboost\\core.py:158: UserWarning: [12:28:00] WARNING: C:\\buildkite-agent\\builds\\buildkite-windows-cpu-autoscaling-group-i-06abd128ca6c1688d-1\\xgboost\\xgboost-ci-windows\\src\\learner.cc:740: \n",
      "Parameters: { \"use_label_encoder\" } are not used.\n",
      "\n",
      "  warnings.warn(smsg, UserWarning)\n",
      "C:\\Users\\paulk\\anaconda3\\Lib\\site-packages\\xgboost\\core.py:158: UserWarning: [12:28:04] WARNING: C:\\buildkite-agent\\builds\\buildkite-windows-cpu-autoscaling-group-i-06abd128ca6c1688d-1\\xgboost\\xgboost-ci-windows\\src\\learner.cc:740: \n",
      "Parameters: { \"use_label_encoder\" } are not used.\n",
      "\n",
      "  warnings.warn(smsg, UserWarning)\n",
      "C:\\Users\\paulk\\anaconda3\\Lib\\site-packages\\xgboost\\core.py:158: UserWarning: [12:28:08] WARNING: C:\\buildkite-agent\\builds\\buildkite-windows-cpu-autoscaling-group-i-06abd128ca6c1688d-1\\xgboost\\xgboost-ci-windows\\src\\learner.cc:740: \n",
      "Parameters: { \"use_label_encoder\" } are not used.\n",
      "\n",
      "  warnings.warn(smsg, UserWarning)\n",
      "C:\\Users\\paulk\\anaconda3\\Lib\\site-packages\\xgboost\\core.py:158: UserWarning: [12:28:12] WARNING: C:\\buildkite-agent\\builds\\buildkite-windows-cpu-autoscaling-group-i-06abd128ca6c1688d-1\\xgboost\\xgboost-ci-windows\\src\\learner.cc:740: \n",
      "Parameters: { \"use_label_encoder\" } are not used.\n",
      "\n",
      "  warnings.warn(smsg, UserWarning)\n"
     ]
    },
    {
     "name": "stdout",
     "output_type": "stream",
     "text": [
      "| \u001B[30m28        | \u001B[30m0.6638    | \u001B[30m0.7242    | \u001B[30m0.1345    | \u001B[30m0.08628   | \u001B[30m8.261     | \u001B[30m9.496     | \u001B[30m286.8     | \u001B[30m0.9379    |\n"
     ]
    },
    {
     "name": "stderr",
     "output_type": "stream",
     "text": [
      "C:\\Users\\paulk\\anaconda3\\Lib\\site-packages\\xgboost\\core.py:158: UserWarning: [12:28:16] WARNING: C:\\buildkite-agent\\builds\\buildkite-windows-cpu-autoscaling-group-i-06abd128ca6c1688d-1\\xgboost\\xgboost-ci-windows\\src\\learner.cc:740: \n",
      "Parameters: { \"use_label_encoder\" } are not used.\n",
      "\n",
      "  warnings.warn(smsg, UserWarning)\n",
      "C:\\Users\\paulk\\anaconda3\\Lib\\site-packages\\xgboost\\core.py:158: UserWarning: [12:28:20] WARNING: C:\\buildkite-agent\\builds\\buildkite-windows-cpu-autoscaling-group-i-06abd128ca6c1688d-1\\xgboost\\xgboost-ci-windows\\src\\learner.cc:740: \n",
      "Parameters: { \"use_label_encoder\" } are not used.\n",
      "\n",
      "  warnings.warn(smsg, UserWarning)\n",
      "C:\\Users\\paulk\\anaconda3\\Lib\\site-packages\\xgboost\\core.py:158: UserWarning: [12:28:24] WARNING: C:\\buildkite-agent\\builds\\buildkite-windows-cpu-autoscaling-group-i-06abd128ca6c1688d-1\\xgboost\\xgboost-ci-windows\\src\\learner.cc:740: \n",
      "Parameters: { \"use_label_encoder\" } are not used.\n",
      "\n",
      "  warnings.warn(smsg, UserWarning)\n",
      "C:\\Users\\paulk\\anaconda3\\Lib\\site-packages\\xgboost\\core.py:158: UserWarning: [12:28:28] WARNING: C:\\buildkite-agent\\builds\\buildkite-windows-cpu-autoscaling-group-i-06abd128ca6c1688d-1\\xgboost\\xgboost-ci-windows\\src\\learner.cc:740: \n",
      "Parameters: { \"use_label_encoder\" } are not used.\n",
      "\n",
      "  warnings.warn(smsg, UserWarning)\n",
      "C:\\Users\\paulk\\anaconda3\\Lib\\site-packages\\xgboost\\core.py:158: UserWarning: [12:28:32] WARNING: C:\\buildkite-agent\\builds\\buildkite-windows-cpu-autoscaling-group-i-06abd128ca6c1688d-1\\xgboost\\xgboost-ci-windows\\src\\learner.cc:740: \n",
      "Parameters: { \"use_label_encoder\" } are not used.\n",
      "\n",
      "  warnings.warn(smsg, UserWarning)\n"
     ]
    },
    {
     "name": "stdout",
     "output_type": "stream",
     "text": [
      "| \u001B[30m29        | \u001B[30m0.6808    | \u001B[30m0.763     | \u001B[30m0.467     | \u001B[30m0.01324   | \u001B[30m7.257     | \u001B[30m5.729     | \u001B[30m261.1     | \u001B[30m0.9204    |\n"
     ]
    },
    {
     "name": "stderr",
     "output_type": "stream",
     "text": [
      "C:\\Users\\paulk\\anaconda3\\Lib\\site-packages\\xgboost\\core.py:158: UserWarning: [12:28:36] WARNING: C:\\buildkite-agent\\builds\\buildkite-windows-cpu-autoscaling-group-i-06abd128ca6c1688d-1\\xgboost\\xgboost-ci-windows\\src\\learner.cc:740: \n",
      "Parameters: { \"use_label_encoder\" } are not used.\n",
      "\n",
      "  warnings.warn(smsg, UserWarning)\n",
      "C:\\Users\\paulk\\anaconda3\\Lib\\site-packages\\xgboost\\core.py:158: UserWarning: [12:28:40] WARNING: C:\\buildkite-agent\\builds\\buildkite-windows-cpu-autoscaling-group-i-06abd128ca6c1688d-1\\xgboost\\xgboost-ci-windows\\src\\learner.cc:740: \n",
      "Parameters: { \"use_label_encoder\" } are not used.\n",
      "\n",
      "  warnings.warn(smsg, UserWarning)\n",
      "C:\\Users\\paulk\\anaconda3\\Lib\\site-packages\\xgboost\\core.py:158: UserWarning: [12:28:45] WARNING: C:\\buildkite-agent\\builds\\buildkite-windows-cpu-autoscaling-group-i-06abd128ca6c1688d-1\\xgboost\\xgboost-ci-windows\\src\\learner.cc:740: \n",
      "Parameters: { \"use_label_encoder\" } are not used.\n",
      "\n",
      "  warnings.warn(smsg, UserWarning)\n",
      "C:\\Users\\paulk\\anaconda3\\Lib\\site-packages\\xgboost\\core.py:158: UserWarning: [12:28:50] WARNING: C:\\buildkite-agent\\builds\\buildkite-windows-cpu-autoscaling-group-i-06abd128ca6c1688d-1\\xgboost\\xgboost-ci-windows\\src\\learner.cc:740: \n",
      "Parameters: { \"use_label_encoder\" } are not used.\n",
      "\n",
      "  warnings.warn(smsg, UserWarning)\n",
      "C:\\Users\\paulk\\anaconda3\\Lib\\site-packages\\xgboost\\core.py:158: UserWarning: [12:28:54] WARNING: C:\\buildkite-agent\\builds\\buildkite-windows-cpu-autoscaling-group-i-06abd128ca6c1688d-1\\xgboost\\xgboost-ci-windows\\src\\learner.cc:740: \n",
      "Parameters: { \"use_label_encoder\" } are not used.\n",
      "\n",
      "  warnings.warn(smsg, UserWarning)\n"
     ]
    },
    {
     "name": "stdout",
     "output_type": "stream",
     "text": [
      "| \u001B[30m30        | \u001B[30m0.6675    | \u001B[30m0.7106    | \u001B[30m0.126     | \u001B[30m0.06177   | \u001B[30m8.061     | \u001B[30m5.292     | \u001B[30m285.5     | \u001B[30m0.7394    |\n",
      "=============================================================================================================\n",
      "Best parameters: {'colsample_bytree': 0.6793992884103802, 'gamma': 0.3813904372081965, 'learning_rate': 0.034344247757730775, 'max_depth': 4, 'min_child_weight': 1.4908466147104145, 'n_estimators': 250, 'subsample': 0.852019039100048}\n"
     ]
    },
    {
     "name": "stderr",
     "output_type": "stream",
     "text": [
      "C:\\Users\\paulk\\anaconda3\\Lib\\site-packages\\xgboost\\core.py:158: UserWarning: [12:28:58] WARNING: C:\\buildkite-agent\\builds\\buildkite-windows-cpu-autoscaling-group-i-06abd128ca6c1688d-1\\xgboost\\xgboost-ci-windows\\src\\learner.cc:740: \n",
      "Parameters: { \"use_label_encoder\" } are not used.\n",
      "\n",
      "  warnings.warn(smsg, UserWarning)\n"
     ]
    },
    {
     "name": "stdout",
     "output_type": "stream",
     "text": [
      "Test set accuracy: 0.63\n",
      "Test set ROC AUC score: 0.67\n",
      "Test set precision: 0.66\n",
      "Test set recall: 0.81\n",
      "Test set F1 score: 0.73\n",
      "Confusion Matrix:\n",
      "[[ 790 1426]\n",
      " [ 662 2798]]\n"
     ]
    },
    {
     "data": {
      "text/plain": "<Figure size 1000x700 with 2 Axes>",
      "image/png": "[encoded data removed]"
     },
     "metadata": {},
     "output_type": "display_data"
    }
   ],
   "source": [
    "import pandas as pd\n",
    "from sklearn.model_selection import train_test_split, cross_val_score\n",
    "from sklearn.preprocessing import StandardScaler, OneHotEncoder\n",
    "from sklearn.compose import ColumnTransformer\n",
    "from sklearn.pipeline import Pipeline\n",
    "from sklearn.impute import SimpleImputer\n",
    "from xgboost import XGBClassifier\n",
    "from bayes_opt import BayesianOptimization\n",
    "import numpy as np\n",
    "from itertools import combinations\n",
    "from sklearn.metrics import accuracy_score, roc_auc_score, precision_score, recall_score, f1_score, confusion_matrix\n",
    "import seaborn as sns\n",
    "import matplotlib.pyplot as plt\n",
    "\n",
    "# Load the dataset\n",
    "file_path = 'shotlog0-5.xlsx'  # Use the correct file path\n",
    "data = pd.read_excel(file_path)\n",
    "\n",
    "# Define which columns are numeric and categorical\n",
    "numeric_features = ['SHOT_NUMBER', 'PERIOD', 'FINAL_MARGIN', 'SHOT_CLOCK', 'DRIBBLES', 'TOUCH_TIME', 'SHOT_DIST', 'CLOSE_DEF_DIST', 'FG%_2pts', 'FG%_3pts', 'score', 'PPG', 'EFG']\n",
    "categorical_features = ['W', 'CLOSEST_DEFENDER']\n",
    "\n",
    "# Exclude non-predictive and direct identifiers\n",
    "predictive_features = data.drop(columns=['GAME_ID1', 'MATCHUP', 'player_name', 'player_id', 'FGM', 'PTS'])\n",
    "\n",
    "# Create interaction features\n",
    "def add_interaction_features(X, numeric_features):\n",
    "    interaction_features = pd.DataFrame(index=X.index)\n",
    "    feature_combinations = list(combinations(numeric_features, 2))\n",
    "    for (feature1, feature2) in feature_combinations:\n",
    "        interaction_features[f'{feature1}_{feature2}'] = X[feature1] * X[feature2]\n",
    "    return interaction_features\n",
    "\n",
    "interaction_features = add_interaction_features(predictive_features, numeric_features)\n",
    "predictive_features = pd.concat([predictive_features, interaction_features], axis=1)\n",
    "\n",
    "# Handle missing values and preprocessing\n",
    "preprocessor = ColumnTransformer(\n",
    "    transformers=[\n",
    "        ('num', Pipeline(steps=[\n",
    "            ('imputer', SimpleImputer(strategy='mean')),\n",
    "            ('scaler', StandardScaler())]), numeric_features + list(interaction_features.columns)),\n",
    "        ('cat', Pipeline(steps=[\n",
    "            ('imputer', SimpleImputer(strategy='constant', fill_value='missing')),\n",
    "            ('onehot', OneHotEncoder(handle_unknown='ignore'))]), categorical_features)\n",
    "    ])\n",
    "\n",
    "# Target variable\n",
    "target = data['FGM']\n",
    "\n",
    "# Split data into training and testing sets\n",
    "X_train, X_test, y_train, y_test = train_test_split(predictive_features, target, test_size=0.2, random_state=42)\n",
    "\n",
    "# Define a function to optimize\n",
    "def xgb_evaluate(max_depth, learning_rate, n_estimators, subsample, colsample_bytree, min_child_weight, gamma):\n",
    "    params = {\n",
    "        'max_depth': int(max_depth),\n",
    "        'learning_rate': learning_rate,\n",
    "        'n_estimators': int(n_estimators),\n",
    "        'subsample': subsample,\n",
    "        'colsample_bytree': colsample_bytree,\n",
    "        'min_child_weight': min_child_weight,\n",
    "        'gamma': gamma,\n",
    "        'eval_metric': 'logloss',\n",
    "        'use_label_encoder': False\n",
    "    }\n",
    "    \n",
    "    pipeline = Pipeline([\n",
    "        ('preprocessor', preprocessor),\n",
    "        ('classifier', XGBClassifier(**params))\n",
    "    ])\n",
    "    \n",
    "    cv_scores = cross_val_score(pipeline, X_train, y_train, cv=5, scoring='roc_auc')\n",
    "    return np.mean(cv_scores)\n",
    "\n",
    "# Define the parameter bounds\n",
    "param_bounds = {\n",
    "    'max_depth': (3, 10),\n",
    "    'learning_rate': (0.01, 0.2),\n",
    "    'n_estimators': (50, 300),\n",
    "    'subsample': (0.6, 1.0),\n",
    "    'colsample_bytree': (0.6, 1.0),\n",
    "    'min_child_weight': (1, 10),\n",
    "    'gamma': (0, 0.5)\n",
    "}\n",
    "\n",
    "# Perform Bayesian optimization\n",
    "optimizer = BayesianOptimization(f=xgb_evaluate, pbounds=param_bounds, random_state=42)\n",
    "optimizer.maximize(init_points=5, n_iter=25)\n",
    "\n",
    "# Print the best parameters\n",
    "best_params = optimizer.max['params']\n",
    "best_params['max_depth'] = int(best_params['max_depth'])\n",
    "best_params['n_estimators'] = int(best_params['n_estimators'])\n",
    "print(f\"Best parameters: {best_params}\")\n",
    "\n",
    "# Fit the model with the best parameters\n",
    "best_pipeline = Pipeline([\n",
    "    ('preprocessor', preprocessor),\n",
    "    ('classifier', XGBClassifier(**best_params, eval_metric='logloss', use_label_encoder=False))\n",
    "])\n",
    "best_pipeline.fit(X_train, y_train)\n",
    "\n",
    "# Evaluate the best model on the test set\n",
    "test_predictions = best_pipeline.predict(X_test)\n",
    "test_probabilities = best_pipeline.predict_proba(X_test)[:, 1]\n",
    "\n",
    "test_accuracy = accuracy_score(y_test, test_predictions)\n",
    "test_roc_auc = roc_auc_score(y_test, test_probabilities)\n",
    "test_precision = precision_score(y_test, test_predictions)\n",
    "test_recall = recall_score(y_test, test_predictions)\n",
    "test_f1 = f1_score(y_test, test_predictions)\n",
    "conf_matrix = confusion_matrix(y_test, test_predictions)\n",
    "\n",
    "print(f\"Test set accuracy: {test_accuracy:.2f}\")\n",
    "print(f\"Test set ROC AUC score: {test_roc_auc:.2f}\")\n",
    "print(f\"Test set precision: {test_precision:.2f}\")\n",
    "print(f\"Test set recall: {test_recall:.2f}\")\n",
    "print(f\"Test set F1 score: {test_f1:.2f}\")\n",
    "print(f\"Confusion Matrix:\\n{conf_matrix}\")\n",
    "\n",
    "# Plot the confusion matrix\n",
    "plt.figure(figsize=(10, 7))\n",
    "sns.heatmap(conf_matrix, annot=True, fmt='d', cmap='Blues', xticklabels=['Predicted Miss', 'Predicted Make'], yticklabels=['Actual Miss', 'Actual Make'])\n",
    "plt.xlabel('Predicted')\n",
    "plt.ylabel('Actual')\n",
    "plt.title('Confusion Matrix')\n",
    "plt.show()\n"
   ],
   "metadata": {
    "collapsed": false,
    "ExecuteTime": {
     "end_time": "2024-07-04T17:29:00.894757400Z",
     "start_time": "2024-07-04T17:22:15.472591800Z"
    }
   },
   "id": "527f8951c91e2429",
   "execution_count": 16
  },
  {
   "cell_type": "code",
   "outputs": [
    {
     "name": "stdout",
     "output_type": "stream",
     "text": [
      "Training set accuracy: 0.69\n",
      "Training set ROC AUC score: 0.74\n",
      "Training set precision: 0.70\n",
      "Training set recall: 0.85\n",
      "Training set F1 score: 0.77\n",
      "Confusion Matrix:\n",
      "[[ 3699  5004]\n",
      " [ 2140 11859]]\n"
     ]
    }
   ],
   "source": [
    "# Evaluate the model on the training set\n",
    "train_predictions = best_pipeline.predict(X_train)\n",
    "train_probabilities = best_pipeline.predict_proba(X_train)[:, 1]\n",
    "\n",
    "train_accuracy = accuracy_score(y_train, train_predictions)\n",
    "train_roc_auc = roc_auc_score(y_train, train_probabilities)\n",
    "train_precision = precision_score(y_train, train_predictions)\n",
    "train_recall = recall_score(y_train, train_predictions)\n",
    "train_f1 = f1_score(y_train, train_predictions)\n",
    "train_conf_matrix = confusion_matrix(y_train, train_predictions)\n",
    "\n",
    "print(f\"Training set accuracy: {train_accuracy:.2f}\")\n",
    "print(f\"Training set ROC AUC score: {train_roc_auc:.2f}\")\n",
    "print(f\"Training set precision: {train_precision:.2f}\")\n",
    "print(f\"Training set recall: {train_recall:.2f}\")\n",
    "print(f\"Training set F1 score: {train_f1:.2f}\")\n",
    "print(f\"Confusion Matrix:\\n{train_conf_matrix}\")"
   ],
   "metadata": {
    "collapsed": false,
    "ExecuteTime": {
     "end_time": "2024-07-04T17:31:06.566106500Z",
     "start_time": "2024-07-04T17:31:05.326115700Z"
    }
   },
   "id": "5e079e400c708f11",
   "execution_count": 17
  },
  {
   "cell_type": "code",
   "outputs": [
    {
     "name": "stderr",
     "output_type": "stream",
     "text": [
      "C:\\Users\\paulk\\anaconda3\\Lib\\site-packages\\xgboost\\core.py:158: UserWarning: [12:31:22] WARNING: C:\\buildkite-agent\\builds\\buildkite-windows-cpu-autoscaling-group-i-06abd128ca6c1688d-1\\xgboost\\xgboost-ci-windows\\src\\learner.cc:740: \n",
      "Parameters: { \"use_label_encoder\" } are not used.\n",
      "\n",
      "  warnings.warn(smsg, UserWarning)\n",
      "C:\\Users\\paulk\\anaconda3\\Lib\\site-packages\\xgboost\\core.py:158: UserWarning: [12:31:24] WARNING: C:\\buildkite-agent\\builds\\buildkite-windows-cpu-autoscaling-group-i-06abd128ca6c1688d-1\\xgboost\\xgboost-ci-windows\\src\\learner.cc:740: \n",
      "Parameters: { \"use_label_encoder\" } are not used.\n",
      "\n",
      "  warnings.warn(smsg, UserWarning)\n",
      "C:\\Users\\paulk\\anaconda3\\Lib\\site-packages\\xgboost\\core.py:158: UserWarning: [12:31:26] WARNING: C:\\buildkite-agent\\builds\\buildkite-windows-cpu-autoscaling-group-i-06abd128ca6c1688d-1\\xgboost\\xgboost-ci-windows\\src\\learner.cc:740: \n",
      "Parameters: { \"use_label_encoder\" } are not used.\n",
      "\n",
      "  warnings.warn(smsg, UserWarning)\n",
      "C:\\Users\\paulk\\anaconda3\\Lib\\site-packages\\xgboost\\core.py:158: UserWarning: [12:31:28] WARNING: C:\\buildkite-agent\\builds\\buildkite-windows-cpu-autoscaling-group-i-06abd128ca6c1688d-1\\xgboost\\xgboost-ci-windows\\src\\learner.cc:740: \n",
      "Parameters: { \"use_label_encoder\" } are not used.\n",
      "\n",
      "  warnings.warn(smsg, UserWarning)\n",
      "C:\\Users\\paulk\\anaconda3\\Lib\\site-packages\\xgboost\\core.py:158: UserWarning: [12:31:30] WARNING: C:\\buildkite-agent\\builds\\buildkite-windows-cpu-autoscaling-group-i-06abd128ca6c1688d-1\\xgboost\\xgboost-ci-windows\\src\\learner.cc:740: \n",
      "Parameters: { \"use_label_encoder\" } are not used.\n",
      "\n",
      "  warnings.warn(smsg, UserWarning)\n",
      "C:\\Users\\paulk\\anaconda3\\Lib\\site-packages\\xgboost\\core.py:158: UserWarning: [12:31:32] WARNING: C:\\buildkite-agent\\builds\\buildkite-windows-cpu-autoscaling-group-i-06abd128ca6c1688d-1\\xgboost\\xgboost-ci-windows\\src\\learner.cc:740: \n",
      "Parameters: { \"use_label_encoder\" } are not used.\n",
      "\n",
      "  warnings.warn(smsg, UserWarning)\n",
      "C:\\Users\\paulk\\anaconda3\\Lib\\site-packages\\xgboost\\core.py:158: UserWarning: [12:31:34] WARNING: C:\\buildkite-agent\\builds\\buildkite-windows-cpu-autoscaling-group-i-06abd128ca6c1688d-1\\xgboost\\xgboost-ci-windows\\src\\learner.cc:740: \n",
      "Parameters: { \"use_label_encoder\" } are not used.\n",
      "\n",
      "  warnings.warn(smsg, UserWarning)\n",
      "C:\\Users\\paulk\\anaconda3\\Lib\\site-packages\\xgboost\\core.py:158: UserWarning: [12:31:36] WARNING: C:\\buildkite-agent\\builds\\buildkite-windows-cpu-autoscaling-group-i-06abd128ca6c1688d-1\\xgboost\\xgboost-ci-windows\\src\\learner.cc:740: \n",
      "Parameters: { \"use_label_encoder\" } are not used.\n",
      "\n",
      "  warnings.warn(smsg, UserWarning)\n",
      "C:\\Users\\paulk\\anaconda3\\Lib\\site-packages\\xgboost\\core.py:158: UserWarning: [12:31:38] WARNING: C:\\buildkite-agent\\builds\\buildkite-windows-cpu-autoscaling-group-i-06abd128ca6c1688d-1\\xgboost\\xgboost-ci-windows\\src\\learner.cc:740: \n",
      "Parameters: { \"use_label_encoder\" } are not used.\n",
      "\n",
      "  warnings.warn(smsg, UserWarning)\n",
      "C:\\Users\\paulk\\anaconda3\\Lib\\site-packages\\xgboost\\core.py:158: UserWarning: [12:31:40] WARNING: C:\\buildkite-agent\\builds\\buildkite-windows-cpu-autoscaling-group-i-06abd128ca6c1688d-1\\xgboost\\xgboost-ci-windows\\src\\learner.cc:740: \n",
      "Parameters: { \"use_label_encoder\" } are not used.\n",
      "\n",
      "  warnings.warn(smsg, UserWarning)\n",
      "C:\\Users\\paulk\\anaconda3\\Lib\\site-packages\\xgboost\\core.py:158: UserWarning: [12:31:42] WARNING: C:\\buildkite-agent\\builds\\buildkite-windows-cpu-autoscaling-group-i-06abd128ca6c1688d-1\\xgboost\\xgboost-ci-windows\\src\\learner.cc:740: \n",
      "Parameters: { \"use_label_encoder\" } are not used.\n",
      "\n",
      "  warnings.warn(smsg, UserWarning)\n",
      "C:\\Users\\paulk\\anaconda3\\Lib\\site-packages\\xgboost\\core.py:158: UserWarning: [12:31:44] WARNING: C:\\buildkite-agent\\builds\\buildkite-windows-cpu-autoscaling-group-i-06abd128ca6c1688d-1\\xgboost\\xgboost-ci-windows\\src\\learner.cc:740: \n",
      "Parameters: { \"use_label_encoder\" } are not used.\n",
      "\n",
      "  warnings.warn(smsg, UserWarning)\n",
      "C:\\Users\\paulk\\anaconda3\\Lib\\site-packages\\xgboost\\core.py:158: UserWarning: [12:31:45] WARNING: C:\\buildkite-agent\\builds\\buildkite-windows-cpu-autoscaling-group-i-06abd128ca6c1688d-1\\xgboost\\xgboost-ci-windows\\src\\learner.cc:740: \n",
      "Parameters: { \"use_label_encoder\" } are not used.\n",
      "\n",
      "  warnings.warn(smsg, UserWarning)\n",
      "C:\\Users\\paulk\\anaconda3\\Lib\\site-packages\\xgboost\\core.py:158: UserWarning: [12:31:47] WARNING: C:\\buildkite-agent\\builds\\buildkite-windows-cpu-autoscaling-group-i-06abd128ca6c1688d-1\\xgboost\\xgboost-ci-windows\\src\\learner.cc:740: \n",
      "Parameters: { \"use_label_encoder\" } are not used.\n",
      "\n",
      "  warnings.warn(smsg, UserWarning)\n",
      "C:\\Users\\paulk\\anaconda3\\Lib\\site-packages\\xgboost\\core.py:158: UserWarning: [12:31:49] WARNING: C:\\buildkite-agent\\builds\\buildkite-windows-cpu-autoscaling-group-i-06abd128ca6c1688d-1\\xgboost\\xgboost-ci-windows\\src\\learner.cc:740: \n",
      "Parameters: { \"use_label_encoder\" } are not used.\n",
      "\n",
      "  warnings.warn(smsg, UserWarning)\n",
      "C:\\Users\\paulk\\anaconda3\\Lib\\site-packages\\xgboost\\core.py:158: UserWarning: [12:31:51] WARNING: C:\\buildkite-agent\\builds\\buildkite-windows-cpu-autoscaling-group-i-06abd128ca6c1688d-1\\xgboost\\xgboost-ci-windows\\src\\learner.cc:740: \n",
      "Parameters: { \"use_label_encoder\" } are not used.\n",
      "\n",
      "  warnings.warn(smsg, UserWarning)\n",
      "C:\\Users\\paulk\\anaconda3\\Lib\\site-packages\\xgboost\\core.py:158: UserWarning: [12:31:53] WARNING: C:\\buildkite-agent\\builds\\buildkite-windows-cpu-autoscaling-group-i-06abd128ca6c1688d-1\\xgboost\\xgboost-ci-windows\\src\\learner.cc:740: \n",
      "Parameters: { \"use_label_encoder\" } are not used.\n",
      "\n",
      "  warnings.warn(smsg, UserWarning)\n",
      "C:\\Users\\paulk\\anaconda3\\Lib\\site-packages\\xgboost\\core.py:158: UserWarning: [12:31:54] WARNING: C:\\buildkite-agent\\builds\\buildkite-windows-cpu-autoscaling-group-i-06abd128ca6c1688d-1\\xgboost\\xgboost-ci-windows\\src\\learner.cc:740: \n",
      "Parameters: { \"use_label_encoder\" } are not used.\n",
      "\n",
      "  warnings.warn(smsg, UserWarning)\n",
      "C:\\Users\\paulk\\anaconda3\\Lib\\site-packages\\xgboost\\core.py:158: UserWarning: [12:31:56] WARNING: C:\\buildkite-agent\\builds\\buildkite-windows-cpu-autoscaling-group-i-06abd128ca6c1688d-1\\xgboost\\xgboost-ci-windows\\src\\learner.cc:740: \n",
      "Parameters: { \"use_label_encoder\" } are not used.\n",
      "\n",
      "  warnings.warn(smsg, UserWarning)\n",
      "C:\\Users\\paulk\\anaconda3\\Lib\\site-packages\\xgboost\\core.py:158: UserWarning: [12:31:59] WARNING: C:\\buildkite-agent\\builds\\buildkite-windows-cpu-autoscaling-group-i-06abd128ca6c1688d-1\\xgboost\\xgboost-ci-windows\\src\\learner.cc:740: \n",
      "Parameters: { \"use_label_encoder\" } are not used.\n",
      "\n",
      "  warnings.warn(smsg, UserWarning)\n",
      "C:\\Users\\paulk\\anaconda3\\Lib\\site-packages\\xgboost\\core.py:158: UserWarning: [12:32:01] WARNING: C:\\buildkite-agent\\builds\\buildkite-windows-cpu-autoscaling-group-i-06abd128ca6c1688d-1\\xgboost\\xgboost-ci-windows\\src\\learner.cc:740: \n",
      "Parameters: { \"use_label_encoder\" } are not used.\n",
      "\n",
      "  warnings.warn(smsg, UserWarning)\n",
      "C:\\Users\\paulk\\anaconda3\\Lib\\site-packages\\xgboost\\core.py:158: UserWarning: [12:32:02] WARNING: C:\\buildkite-agent\\builds\\buildkite-windows-cpu-autoscaling-group-i-06abd128ca6c1688d-1\\xgboost\\xgboost-ci-windows\\src\\learner.cc:740: \n",
      "Parameters: { \"use_label_encoder\" } are not used.\n",
      "\n",
      "  warnings.warn(smsg, UserWarning)\n",
      "C:\\Users\\paulk\\anaconda3\\Lib\\site-packages\\xgboost\\core.py:158: UserWarning: [12:32:04] WARNING: C:\\buildkite-agent\\builds\\buildkite-windows-cpu-autoscaling-group-i-06abd128ca6c1688d-1\\xgboost\\xgboost-ci-windows\\src\\learner.cc:740: \n",
      "Parameters: { \"use_label_encoder\" } are not used.\n",
      "\n",
      "  warnings.warn(smsg, UserWarning)\n",
      "C:\\Users\\paulk\\anaconda3\\Lib\\site-packages\\xgboost\\core.py:158: UserWarning: [12:32:06] WARNING: C:\\buildkite-agent\\builds\\buildkite-windows-cpu-autoscaling-group-i-06abd128ca6c1688d-1\\xgboost\\xgboost-ci-windows\\src\\learner.cc:740: \n",
      "Parameters: { \"use_label_encoder\" } are not used.\n",
      "\n",
      "  warnings.warn(smsg, UserWarning)\n",
      "C:\\Users\\paulk\\anaconda3\\Lib\\site-packages\\xgboost\\core.py:158: UserWarning: [12:32:08] WARNING: C:\\buildkite-agent\\builds\\buildkite-windows-cpu-autoscaling-group-i-06abd128ca6c1688d-1\\xgboost\\xgboost-ci-windows\\src\\learner.cc:740: \n",
      "Parameters: { \"use_label_encoder\" } are not used.\n",
      "\n",
      "  warnings.warn(smsg, UserWarning)\n"
     ]
    },
    {
     "data": {
      "text/plain": "<Figure size 640x480 with 1 Axes>",
      "image/png": "[encoded data removed]"
     },
     "metadata": {},
     "output_type": "display_data"
    }
   ],
   "source": [
    "from sklearn.model_selection import learning_curve\n",
    "import matplotlib.pyplot as plt\n",
    "\n",
    "def plot_learning_curve(estimator, title, X, y, cv=None, n_jobs=None, train_sizes=np.linspace(0.1, 1.0, 5), scoring='roc_auc'):\n",
    "    plt.figure()\n",
    "    plt.title(title)\n",
    "    plt.xlabel(\"Training examples\")\n",
    "    plt.ylabel(\"Score\")\n",
    "    \n",
    "    train_sizes, train_scores, test_scores = learning_curve(estimator, X, y, cv=cv, n_jobs=n_jobs, train_sizes=train_sizes, scoring=scoring)\n",
    "    \n",
    "    train_scores_mean = np.mean(train_scores, axis=1)\n",
    "    train_scores_std = np.std(train_scores, axis=1)\n",
    "    test_scores_mean = np.mean(test_scores, axis=1)\n",
    "    test_scores_std = np.std(test_scores, axis=1)\n",
    "    \n",
    "    plt.grid()\n",
    "    \n",
    "    plt.fill_between(train_sizes, train_scores_mean - train_scores_std, train_scores_mean + train_scores_std, alpha=0.1, color=\"r\")\n",
    "    plt.fill_between(train_sizes, test_scores_mean - test_scores_std, test_scores_mean + test_scores_std, alpha=0.1, color=\"g\")\n",
    "    plt.plot(train_sizes, train_scores_mean, 'o-', color=\"r\", label=\"Training score\")\n",
    "    plt.plot(train_sizes, test_scores_mean, 'o-', color=\"g\", label=\"Cross-validation score\")\n",
    "    \n",
    "    plt.legend(loc=\"best\")\n",
    "    return plt\n",
    "\n",
    "# Plot learning curves\n",
    "plot_learning_curve(best_pipeline, \"Learning Curves (XGBoost)\", X_train, y_train, cv=5)\n",
    "plt.show()\n"
   ],
   "metadata": {
    "collapsed": false,
    "ExecuteTime": {
     "end_time": "2024-07-04T17:32:10.773397800Z",
     "start_time": "2024-07-04T17:31:22.286863Z"
    }
   },
   "id": "80026077a75f90b8",
   "execution_count": 18
  },
  {
   "cell_type": "code",
   "outputs": [
    {
     "ename": "TypeError",
     "evalue": "XGBClassifier.fit() got an unexpected keyword argument 'early_stopping_rounds'",
     "output_type": "error",
     "traceback": [
      "\u001B[1;31m---------------------------------------------------------------------------\u001B[0m",
      "\u001B[1;31mTypeError\u001B[0m                                 Traceback (most recent call last)",
      "Cell \u001B[1;32mIn[24], line 63\u001B[0m\n\u001B[0;32m     60\u001B[0m model \u001B[38;5;241m=\u001B[39m XGBClassifier(\u001B[38;5;241m*\u001B[39m\u001B[38;5;241m*\u001B[39mparams)\n\u001B[0;32m     62\u001B[0m \u001B[38;5;66;03m# Fit the model with early stopping\u001B[39;00m\n\u001B[1;32m---> 63\u001B[0m model\u001B[38;5;241m.\u001B[39mfit(X_train_transformed, y_train, \n\u001B[0;32m     64\u001B[0m           early_stopping_rounds\u001B[38;5;241m=\u001B[39m\u001B[38;5;241m10\u001B[39m, \n\u001B[0;32m     65\u001B[0m           eval_set\u001B[38;5;241m=\u001B[39m[(X_test_transformed, y_test)], \n\u001B[0;32m     66\u001B[0m           verbose\u001B[38;5;241m=\u001B[39m\u001B[38;5;28;01mFalse\u001B[39;00m)\n\u001B[0;32m     68\u001B[0m \u001B[38;5;66;03m# Evaluate the model on the test set\u001B[39;00m\n\u001B[0;32m     69\u001B[0m test_predictions \u001B[38;5;241m=\u001B[39m model\u001B[38;5;241m.\u001B[39mpredict(X_test_transformed)\n",
      "File \u001B[1;32m~\\anaconda3\\Lib\\site-packages\\xgboost\\core.py:726\u001B[0m, in \u001B[0;36mrequire_keyword_args.<locals>.throw_if.<locals>.inner_f\u001B[1;34m(*args, **kwargs)\u001B[0m\n\u001B[0;32m    724\u001B[0m \u001B[38;5;28;01mfor\u001B[39;00m k, arg \u001B[38;5;129;01min\u001B[39;00m \u001B[38;5;28mzip\u001B[39m(sig\u001B[38;5;241m.\u001B[39mparameters, args):\n\u001B[0;32m    725\u001B[0m     kwargs[k] \u001B[38;5;241m=\u001B[39m arg\n\u001B[1;32m--> 726\u001B[0m \u001B[38;5;28;01mreturn\u001B[39;00m func(\u001B[38;5;241m*\u001B[39m\u001B[38;5;241m*\u001B[39mkwargs)\n",
      "\u001B[1;31mTypeError\u001B[0m: XGBClassifier.fit() got an unexpected keyword argument 'early_stopping_rounds'"
     ]
    }
   ],
   "source": [
    "import pandas as pd\n",
    "from sklearn.model_selection import train_test_split, cross_val_score\n",
    "from sklearn.preprocessing import StandardScaler, OneHotEncoder\n",
    "from sklearn.compose import ColumnTransformer\n",
    "from sklearn.pipeline import Pipeline\n",
    "from sklearn.impute import SimpleImputer\n",
    "from xgboost import XGBClassifier\n",
    "from bayes_opt import BayesianOptimization\n",
    "import numpy as np\n",
    "from sklearn.metrics import accuracy_score, roc_auc_score, precision_score, recall_score, f1_score, confusion_matrix\n",
    "\n",
    "# Load the dataset\n",
    "file_path = 'shotlog0-5.xlsx'  # Use the correct file path\n",
    "data = pd.read_excel(file_path)\n",
    "\n",
    "# Define which columns are numeric and categorical\n",
    "numeric_features = ['SHOT_NUMBER', 'PERIOD', 'FINAL_MARGIN', 'SHOT_CLOCK', 'DRIBBLES', 'TOUCH_TIME', 'SHOT_DIST', 'CLOSE_DEF_DIST', 'FG%_2pts', 'FG%_3pts', 'score', 'PPG', 'EFG']\n",
    "categorical_features = ['W', 'CLOSEST_DEFENDER']\n",
    "\n",
    "# Exclude non-predictive and direct identifiers\n",
    "predictive_features = data.drop(columns=['GAME_ID1', 'MATCHUP', 'player_name', 'player_id', 'FGM', 'PTS'])\n",
    "\n",
    "# Handle missing values and preprocessing\n",
    "preprocessor = ColumnTransformer(\n",
    "    transformers=[\n",
    "        ('num', Pipeline(steps=[\n",
    "            ('imputer', SimpleImputer(strategy='mean')),\n",
    "            ('scaler', StandardScaler())]), numeric_features),\n",
    "        ('cat', Pipeline(steps=[\n",
    "            ('imputer', SimpleImputer(strategy='constant', fill_value='missing')),\n",
    "            ('onehot', OneHotEncoder(handle_unknown='ignore'))]), categorical_features)\n",
    "    ])\n",
    "\n",
    "# Target variable\n",
    "target = data['FGM']\n",
    "\n",
    "# Split data into training and testing sets\n",
    "X_train, X_test, y_train, y_test = train_test_split(predictive_features, target, test_size=0.2, random_state=42)\n",
    "\n",
    "# Transform the data\n",
    "X_train_transformed = preprocessor.fit_transform(X_train)\n",
    "X_test_transformed = preprocessor.transform(X_test)\n",
    "\n",
    "# Define XGBoost parameters including regularization and subsampling\n",
    "params = {\n",
    "    'max_depth': 3,\n",
    "    'learning_rate': 0.034,\n",
    "    'n_estimators': 250,\n",
    "    'subsample': 0.8,\n",
    "    'colsample_bytree': 0.8,\n",
    "    'gamma': 0.38,\n",
    "    'min_child_weight': 2,\n",
    "    'reg_alpha': 0.5,  # Increased L1 regularization term on weights\n",
    "    'reg_lambda': 0.5,  # Increased L2 regularization term on weights\n",
    "    'eval_metric': 'logloss',\n",
    "    'use_label_encoder': False\n",
    "}\n",
    "\n",
    "# Create the model\n",
    "model = XGBClassifier(**params)\n",
    "\n",
    "# Fit the model with early stopping\n",
    "model.fit(X_train_transformed, y_train, \n",
    "          early_stopping_rounds=10, \n",
    "          eval_set=[(X_test_transformed, y_test)], \n",
    "          verbose=False)\n",
    "\n",
    "# Evaluate the model on the test set\n",
    "test_predictions = model.predict(X_test_transformed)\n",
    "test_probabilities = model.predict_proba(X_test_transformed)[:, 1]\n",
    "\n",
    "test_accuracy = accuracy_score(y_test, test_predictions)\n",
    "test_roc_auc = roc_auc_score(y_test, test_probabilities)\n",
    "test_precision = precision_score(y_test, test_predictions)\n",
    "test_recall = recall_score(y_test, test_predictions)\n",
    "test_f1 = f1_score(y_test, test_predictions)\n",
    "conf_matrix = confusion_matrix(y_test, test_predictions)\n",
    "\n",
    "print(f\"Test set accuracy: {test_accuracy:.2f}\")\n",
    "print(f\"Test set ROC AUC score: {test_roc_auc:.2f}\")\n",
    "print(f\"Test set precision: {test_precision:.2f}\")\n",
    "print(f\"Test set recall: {test_recall:.2f}\")\n",
    "print(f\"Test set F1 score: {test_f1:.2f}\")\n",
    "print(f\"Confusion Matrix:\\n{conf_matrix}\")\n",
    "\n",
    "# Plot the confusion matrix\n",
    "import seaborn as sns\n",
    "import matplotlib.pyplot as plt\n",
    "\n",
    "plt.figure(figsize=(10, 7))\n",
    "sns.heatmap(conf_matrix, annot=True, fmt='d', cmap='Blues', xticklabels=['Predicted Miss', 'Predicted Make'], yticklabels=['Actual Miss', 'Actual Make'])\n",
    "plt.xlabel('Predicted')\n",
    "plt.ylabel('Actual')\n",
    "plt.title('Confusion Matrix')\n",
    "plt.show()"
   ],
   "metadata": {
    "collapsed": false,
    "ExecuteTime": {
     "end_time": "2024-07-04T17:41:45.434800400Z",
     "start_time": "2024-07-04T17:41:34.217508Z"
    }
   },
   "id": "824385fdba885902",
   "execution_count": 24
  },
  {
   "cell_type": "code",
   "outputs": [
    {
     "name": "stdout",
     "output_type": "stream",
     "text": [
      "|   iter    |  target   | colsam... | learni... | max_depth | n_esti... | subsample |\n",
      "-------------------------------------------------------------------------------------\n"
     ]
    },
    {
     "name": "stderr",
     "output_type": "stream",
     "text": [
      "C:\\Users\\paulk\\anaconda3\\Lib\\site-packages\\xgboost\\core.py:158: UserWarning: [12:47:18] WARNING: C:\\buildkite-agent\\builds\\buildkite-windows-cpu-autoscaling-group-i-06abd128ca6c1688d-1\\xgboost\\xgboost-ci-windows\\src\\learner.cc:740: \n",
      "Parameters: { \"use_label_encoder\" } are not used.\n",
      "\n",
      "  warnings.warn(smsg, UserWarning)\n",
      "C:\\Users\\paulk\\anaconda3\\Lib\\site-packages\\xgboost\\core.py:158: UserWarning: [12:47:20] WARNING: C:\\buildkite-agent\\builds\\buildkite-windows-cpu-autoscaling-group-i-06abd128ca6c1688d-1\\xgboost\\xgboost-ci-windows\\src\\learner.cc:740: \n",
      "Parameters: { \"use_label_encoder\" } are not used.\n",
      "\n",
      "  warnings.warn(smsg, UserWarning)\n",
      "C:\\Users\\paulk\\anaconda3\\Lib\\site-packages\\xgboost\\core.py:158: UserWarning: [12:47:21] WARNING: C:\\buildkite-agent\\builds\\buildkite-windows-cpu-autoscaling-group-i-06abd128ca6c1688d-1\\xgboost\\xgboost-ci-windows\\src\\learner.cc:740: \n",
      "Parameters: { \"use_label_encoder\" } are not used.\n",
      "\n",
      "  warnings.warn(smsg, UserWarning)\n",
      "C:\\Users\\paulk\\anaconda3\\Lib\\site-packages\\xgboost\\core.py:158: UserWarning: [12:47:21] WARNING: C:\\buildkite-agent\\builds\\buildkite-windows-cpu-autoscaling-group-i-06abd128ca6c1688d-1\\xgboost\\xgboost-ci-windows\\src\\learner.cc:740: \n",
      "Parameters: { \"use_label_encoder\" } are not used.\n",
      "\n",
      "  warnings.warn(smsg, UserWarning)\n",
      "C:\\Users\\paulk\\anaconda3\\Lib\\site-packages\\xgboost\\core.py:158: UserWarning: [12:47:22] WARNING: C:\\buildkite-agent\\builds\\buildkite-windows-cpu-autoscaling-group-i-06abd128ca6c1688d-1\\xgboost\\xgboost-ci-windows\\src\\learner.cc:740: \n",
      "Parameters: { \"use_label_encoder\" } are not used.\n",
      "\n",
      "  warnings.warn(smsg, UserWarning)\n"
     ]
    },
    {
     "name": "stdout",
     "output_type": "stream",
     "text": [
      "| \u001B[30m1         | \u001B[30m0.6257    | \u001B[30m0.7498    | \u001B[30m0.1906    | \u001B[30m8.124     | \u001B[30m199.7     | \u001B[30m0.6624    |\n"
     ]
    },
    {
     "name": "stderr",
     "output_type": "stream",
     "text": [
      "C:\\Users\\paulk\\anaconda3\\Lib\\site-packages\\xgboost\\core.py:158: UserWarning: [12:47:23] WARNING: C:\\buildkite-agent\\builds\\buildkite-windows-cpu-autoscaling-group-i-06abd128ca6c1688d-1\\xgboost\\xgboost-ci-windows\\src\\learner.cc:740: \n",
      "Parameters: { \"use_label_encoder\" } are not used.\n",
      "\n",
      "  warnings.warn(smsg, UserWarning)\n",
      "C:\\Users\\paulk\\anaconda3\\Lib\\site-packages\\xgboost\\core.py:158: UserWarning: [12:47:24] WARNING: C:\\buildkite-agent\\builds\\buildkite-windows-cpu-autoscaling-group-i-06abd128ca6c1688d-1\\xgboost\\xgboost-ci-windows\\src\\learner.cc:740: \n",
      "Parameters: { \"use_label_encoder\" } are not used.\n",
      "\n",
      "  warnings.warn(smsg, UserWarning)\n",
      "C:\\Users\\paulk\\anaconda3\\Lib\\site-packages\\xgboost\\core.py:158: UserWarning: [12:47:26] WARNING: C:\\buildkite-agent\\builds\\buildkite-windows-cpu-autoscaling-group-i-06abd128ca6c1688d-1\\xgboost\\xgboost-ci-windows\\src\\learner.cc:740: \n",
      "Parameters: { \"use_label_encoder\" } are not used.\n",
      "\n",
      "  warnings.warn(smsg, UserWarning)\n",
      "C:\\Users\\paulk\\anaconda3\\Lib\\site-packages\\xgboost\\core.py:158: UserWarning: [12:47:27] WARNING: C:\\buildkite-agent\\builds\\buildkite-windows-cpu-autoscaling-group-i-06abd128ca6c1688d-1\\xgboost\\xgboost-ci-windows\\src\\learner.cc:740: \n",
      "Parameters: { \"use_label_encoder\" } are not used.\n",
      "\n",
      "  warnings.warn(smsg, UserWarning)\n",
      "C:\\Users\\paulk\\anaconda3\\Lib\\site-packages\\xgboost\\core.py:158: UserWarning: [12:47:28] WARNING: C:\\buildkite-agent\\builds\\buildkite-windows-cpu-autoscaling-group-i-06abd128ca6c1688d-1\\xgboost\\xgboost-ci-windows\\src\\learner.cc:740: \n",
      "Parameters: { \"use_label_encoder\" } are not used.\n",
      "\n",
      "  warnings.warn(smsg, UserWarning)\n"
     ]
    },
    {
     "name": "stdout",
     "output_type": "stream",
     "text": [
      "| \u001B[35m2         | \u001B[35m0.6477    | \u001B[35m0.6624    | \u001B[35m0.02104   | \u001B[35m9.063     | \u001B[35m200.3     | \u001B[35m0.8832    |\n"
     ]
    },
    {
     "name": "stderr",
     "output_type": "stream",
     "text": [
      "C:\\Users\\paulk\\anaconda3\\Lib\\site-packages\\xgboost\\core.py:158: UserWarning: [12:47:30] WARNING: C:\\buildkite-agent\\builds\\buildkite-windows-cpu-autoscaling-group-i-06abd128ca6c1688d-1\\xgboost\\xgboost-ci-windows\\src\\learner.cc:740: \n",
      "Parameters: { \"use_label_encoder\" } are not used.\n",
      "\n",
      "  warnings.warn(smsg, UserWarning)\n",
      "C:\\Users\\paulk\\anaconda3\\Lib\\site-packages\\xgboost\\core.py:158: UserWarning: [12:47:30] WARNING: C:\\buildkite-agent\\builds\\buildkite-windows-cpu-autoscaling-group-i-06abd128ca6c1688d-1\\xgboost\\xgboost-ci-windows\\src\\learner.cc:740: \n",
      "Parameters: { \"use_label_encoder\" } are not used.\n",
      "\n",
      "  warnings.warn(smsg, UserWarning)\n",
      "C:\\Users\\paulk\\anaconda3\\Lib\\site-packages\\xgboost\\core.py:158: UserWarning: [12:47:31] WARNING: C:\\buildkite-agent\\builds\\buildkite-windows-cpu-autoscaling-group-i-06abd128ca6c1688d-1\\xgboost\\xgboost-ci-windows\\src\\learner.cc:740: \n",
      "Parameters: { \"use_label_encoder\" } are not used.\n",
      "\n",
      "  warnings.warn(smsg, UserWarning)\n",
      "C:\\Users\\paulk\\anaconda3\\Lib\\site-packages\\xgboost\\core.py:158: UserWarning: [12:47:32] WARNING: C:\\buildkite-agent\\builds\\buildkite-windows-cpu-autoscaling-group-i-06abd128ca6c1688d-1\\xgboost\\xgboost-ci-windows\\src\\learner.cc:740: \n",
      "Parameters: { \"use_label_encoder\" } are not used.\n",
      "\n",
      "  warnings.warn(smsg, UserWarning)\n",
      "C:\\Users\\paulk\\anaconda3\\Lib\\site-packages\\xgboost\\core.py:158: UserWarning: [12:47:33] WARNING: C:\\buildkite-agent\\builds\\buildkite-windows-cpu-autoscaling-group-i-06abd128ca6c1688d-1\\xgboost\\xgboost-ci-windows\\src\\learner.cc:740: \n",
      "Parameters: { \"use_label_encoder\" } are not used.\n",
      "\n",
      "  warnings.warn(smsg, UserWarning)\n"
     ]
    },
    {
     "name": "stdout",
     "output_type": "stream",
     "text": [
      "| \u001B[30m3         | \u001B[30m0.6339    | \u001B[30m0.6082    | \u001B[30m0.1943    | \u001B[30m8.827     | \u001B[30m103.1     | \u001B[30m0.6727    |\n"
     ]
    },
    {
     "name": "stderr",
     "output_type": "stream",
     "text": [
      "C:\\Users\\paulk\\anaconda3\\Lib\\site-packages\\xgboost\\core.py:158: UserWarning: [12:47:34] WARNING: C:\\buildkite-agent\\builds\\buildkite-windows-cpu-autoscaling-group-i-06abd128ca6c1688d-1\\xgboost\\xgboost-ci-windows\\src\\learner.cc:740: \n",
      "Parameters: { \"use_label_encoder\" } are not used.\n",
      "\n",
      "  warnings.warn(smsg, UserWarning)\n",
      "C:\\Users\\paulk\\anaconda3\\Lib\\site-packages\\xgboost\\core.py:158: UserWarning: [12:47:35] WARNING: C:\\buildkite-agent\\builds\\buildkite-windows-cpu-autoscaling-group-i-06abd128ca6c1688d-1\\xgboost\\xgboost-ci-windows\\src\\learner.cc:740: \n",
      "Parameters: { \"use_label_encoder\" } are not used.\n",
      "\n",
      "  warnings.warn(smsg, UserWarning)\n",
      "C:\\Users\\paulk\\anaconda3\\Lib\\site-packages\\xgboost\\core.py:158: UserWarning: [12:47:35] WARNING: C:\\buildkite-agent\\builds\\buildkite-windows-cpu-autoscaling-group-i-06abd128ca6c1688d-1\\xgboost\\xgboost-ci-windows\\src\\learner.cc:740: \n",
      "Parameters: { \"use_label_encoder\" } are not used.\n",
      "\n",
      "  warnings.warn(smsg, UserWarning)\n",
      "C:\\Users\\paulk\\anaconda3\\Lib\\site-packages\\xgboost\\core.py:158: UserWarning: [12:47:36] WARNING: C:\\buildkite-agent\\builds\\buildkite-windows-cpu-autoscaling-group-i-06abd128ca6c1688d-1\\xgboost\\xgboost-ci-windows\\src\\learner.cc:740: \n",
      "Parameters: { \"use_label_encoder\" } are not used.\n",
      "\n",
      "  warnings.warn(smsg, UserWarning)\n",
      "C:\\Users\\paulk\\anaconda3\\Lib\\site-packages\\xgboost\\core.py:158: UserWarning: [12:47:37] WARNING: C:\\buildkite-agent\\builds\\buildkite-windows-cpu-autoscaling-group-i-06abd128ca6c1688d-1\\xgboost\\xgboost-ci-windows\\src\\learner.cc:740: \n",
      "Parameters: { \"use_label_encoder\" } are not used.\n",
      "\n",
      "  warnings.warn(smsg, UserWarning)\n"
     ]
    },
    {
     "name": "stdout",
     "output_type": "stream",
     "text": [
      "| \u001B[30m4         | \u001B[30m0.6475    | \u001B[30m0.6734    | \u001B[30m0.06781   | \u001B[30m6.673     | \u001B[30m158.0     | \u001B[30m0.7165    |\n"
     ]
    },
    {
     "name": "stderr",
     "output_type": "stream",
     "text": [
      "C:\\Users\\paulk\\anaconda3\\Lib\\site-packages\\xgboost\\core.py:158: UserWarning: [12:47:38] WARNING: C:\\buildkite-agent\\builds\\buildkite-windows-cpu-autoscaling-group-i-06abd128ca6c1688d-1\\xgboost\\xgboost-ci-windows\\src\\learner.cc:740: \n",
      "Parameters: { \"use_label_encoder\" } are not used.\n",
      "\n",
      "  warnings.warn(smsg, UserWarning)\n",
      "C:\\Users\\paulk\\anaconda3\\Lib\\site-packages\\xgboost\\core.py:158: UserWarning: [12:47:39] WARNING: C:\\buildkite-agent\\builds\\buildkite-windows-cpu-autoscaling-group-i-06abd128ca6c1688d-1\\xgboost\\xgboost-ci-windows\\src\\learner.cc:740: \n",
      "Parameters: { \"use_label_encoder\" } are not used.\n",
      "\n",
      "  warnings.warn(smsg, UserWarning)\n",
      "C:\\Users\\paulk\\anaconda3\\Lib\\site-packages\\xgboost\\core.py:158: UserWarning: [12:47:40] WARNING: C:\\buildkite-agent\\builds\\buildkite-windows-cpu-autoscaling-group-i-06abd128ca6c1688d-1\\xgboost\\xgboost-ci-windows\\src\\learner.cc:740: \n",
      "Parameters: { \"use_label_encoder\" } are not used.\n",
      "\n",
      "  warnings.warn(smsg, UserWarning)\n",
      "C:\\Users\\paulk\\anaconda3\\Lib\\site-packages\\xgboost\\core.py:158: UserWarning: [12:47:40] WARNING: C:\\buildkite-agent\\builds\\buildkite-windows-cpu-autoscaling-group-i-06abd128ca6c1688d-1\\xgboost\\xgboost-ci-windows\\src\\learner.cc:740: \n",
      "Parameters: { \"use_label_encoder\" } are not used.\n",
      "\n",
      "  warnings.warn(smsg, UserWarning)\n",
      "C:\\Users\\paulk\\anaconda3\\Lib\\site-packages\\xgboost\\core.py:158: UserWarning: [12:47:41] WARNING: C:\\buildkite-agent\\builds\\buildkite-windows-cpu-autoscaling-group-i-06abd128ca6c1688d-1\\xgboost\\xgboost-ci-windows\\src\\learner.cc:740: \n",
      "Parameters: { \"use_label_encoder\" } are not used.\n",
      "\n",
      "  warnings.warn(smsg, UserWarning)\n"
     ]
    },
    {
     "name": "stdout",
     "output_type": "stream",
     "text": [
      "| \u001B[35m5         | \u001B[35m0.65      | \u001B[35m0.8447    | \u001B[35m0.0365    | \u001B[35m5.045     | \u001B[35m141.6     | \u001B[35m0.7824    |\n"
     ]
    },
    {
     "name": "stderr",
     "output_type": "stream",
     "text": [
      "C:\\Users\\paulk\\anaconda3\\Lib\\site-packages\\xgboost\\core.py:158: UserWarning: [12:47:42] WARNING: C:\\buildkite-agent\\builds\\buildkite-windows-cpu-autoscaling-group-i-06abd128ca6c1688d-1\\xgboost\\xgboost-ci-windows\\src\\learner.cc:740: \n",
      "Parameters: { \"use_label_encoder\" } are not used.\n",
      "\n",
      "  warnings.warn(smsg, UserWarning)\n",
      "C:\\Users\\paulk\\anaconda3\\Lib\\site-packages\\xgboost\\core.py:158: UserWarning: [12:47:43] WARNING: C:\\buildkite-agent\\builds\\buildkite-windows-cpu-autoscaling-group-i-06abd128ca6c1688d-1\\xgboost\\xgboost-ci-windows\\src\\learner.cc:740: \n",
      "Parameters: { \"use_label_encoder\" } are not used.\n",
      "\n",
      "  warnings.warn(smsg, UserWarning)\n",
      "C:\\Users\\paulk\\anaconda3\\Lib\\site-packages\\xgboost\\core.py:158: UserWarning: [12:47:44] WARNING: C:\\buildkite-agent\\builds\\buildkite-windows-cpu-autoscaling-group-i-06abd128ca6c1688d-1\\xgboost\\xgboost-ci-windows\\src\\learner.cc:740: \n",
      "Parameters: { \"use_label_encoder\" } are not used.\n",
      "\n",
      "  warnings.warn(smsg, UserWarning)\n",
      "C:\\Users\\paulk\\anaconda3\\Lib\\site-packages\\xgboost\\core.py:158: UserWarning: [12:47:45] WARNING: C:\\buildkite-agent\\builds\\buildkite-windows-cpu-autoscaling-group-i-06abd128ca6c1688d-1\\xgboost\\xgboost-ci-windows\\src\\learner.cc:740: \n",
      "Parameters: { \"use_label_encoder\" } are not used.\n",
      "\n",
      "  warnings.warn(smsg, UserWarning)\n",
      "C:\\Users\\paulk\\anaconda3\\Lib\\site-packages\\xgboost\\core.py:158: UserWarning: [12:47:45] WARNING: C:\\buildkite-agent\\builds\\buildkite-windows-cpu-autoscaling-group-i-06abd128ca6c1688d-1\\xgboost\\xgboost-ci-windows\\src\\learner.cc:740: \n",
      "Parameters: { \"use_label_encoder\" } are not used.\n",
      "\n",
      "  warnings.warn(smsg, UserWarning)\n"
     ]
    },
    {
     "name": "stdout",
     "output_type": "stream",
     "text": [
      "| \u001B[30m6         | \u001B[30m0.6494    | \u001B[30m0.8721    | \u001B[30m0.02021   | \u001B[30m5.062     | \u001B[30m141.5     | \u001B[30m0.819     |\n"
     ]
    },
    {
     "name": "stderr",
     "output_type": "stream",
     "text": [
      "C:\\Users\\paulk\\anaconda3\\Lib\\site-packages\\xgboost\\core.py:158: UserWarning: [12:47:46] WARNING: C:\\buildkite-agent\\builds\\buildkite-windows-cpu-autoscaling-group-i-06abd128ca6c1688d-1\\xgboost\\xgboost-ci-windows\\src\\learner.cc:740: \n",
      "Parameters: { \"use_label_encoder\" } are not used.\n",
      "\n",
      "  warnings.warn(smsg, UserWarning)\n",
      "C:\\Users\\paulk\\anaconda3\\Lib\\site-packages\\xgboost\\core.py:158: UserWarning: [12:47:47] WARNING: C:\\buildkite-agent\\builds\\buildkite-windows-cpu-autoscaling-group-i-06abd128ca6c1688d-1\\xgboost\\xgboost-ci-windows\\src\\learner.cc:740: \n",
      "Parameters: { \"use_label_encoder\" } are not used.\n",
      "\n",
      "  warnings.warn(smsg, UserWarning)\n",
      "C:\\Users\\paulk\\anaconda3\\Lib\\site-packages\\xgboost\\core.py:158: UserWarning: [12:47:48] WARNING: C:\\buildkite-agent\\builds\\buildkite-windows-cpu-autoscaling-group-i-06abd128ca6c1688d-1\\xgboost\\xgboost-ci-windows\\src\\learner.cc:740: \n",
      "Parameters: { \"use_label_encoder\" } are not used.\n",
      "\n",
      "  warnings.warn(smsg, UserWarning)\n",
      "C:\\Users\\paulk\\anaconda3\\Lib\\site-packages\\xgboost\\core.py:158: UserWarning: [12:47:48] WARNING: C:\\buildkite-agent\\builds\\buildkite-windows-cpu-autoscaling-group-i-06abd128ca6c1688d-1\\xgboost\\xgboost-ci-windows\\src\\learner.cc:740: \n",
      "Parameters: { \"use_label_encoder\" } are not used.\n",
      "\n",
      "  warnings.warn(smsg, UserWarning)\n",
      "C:\\Users\\paulk\\anaconda3\\Lib\\site-packages\\xgboost\\core.py:158: UserWarning: [12:47:49] WARNING: C:\\buildkite-agent\\builds\\buildkite-windows-cpu-autoscaling-group-i-06abd128ca6c1688d-1\\xgboost\\xgboost-ci-windows\\src\\learner.cc:740: \n",
      "Parameters: { \"use_label_encoder\" } are not used.\n",
      "\n",
      "  warnings.warn(smsg, UserWarning)\n"
     ]
    },
    {
     "name": "stdout",
     "output_type": "stream",
     "text": [
      "| \u001B[30m7         | \u001B[30m0.6493    | \u001B[30m0.7649    | \u001B[30m0.07639   | \u001B[30m5.389     | \u001B[30m142.4     | \u001B[30m1.0       |\n"
     ]
    },
    {
     "name": "stderr",
     "output_type": "stream",
     "text": [
      "C:\\Users\\paulk\\anaconda3\\Lib\\site-packages\\xgboost\\core.py:158: UserWarning: [12:47:50] WARNING: C:\\buildkite-agent\\builds\\buildkite-windows-cpu-autoscaling-group-i-06abd128ca6c1688d-1\\xgboost\\xgboost-ci-windows\\src\\learner.cc:740: \n",
      "Parameters: { \"use_label_encoder\" } are not used.\n",
      "\n",
      "  warnings.warn(smsg, UserWarning)\n",
      "C:\\Users\\paulk\\anaconda3\\Lib\\site-packages\\xgboost\\core.py:158: UserWarning: [12:47:50] WARNING: C:\\buildkite-agent\\builds\\buildkite-windows-cpu-autoscaling-group-i-06abd128ca6c1688d-1\\xgboost\\xgboost-ci-windows\\src\\learner.cc:740: \n",
      "Parameters: { \"use_label_encoder\" } are not used.\n",
      "\n",
      "  warnings.warn(smsg, UserWarning)\n",
      "C:\\Users\\paulk\\anaconda3\\Lib\\site-packages\\xgboost\\core.py:158: UserWarning: [12:47:51] WARNING: C:\\buildkite-agent\\builds\\buildkite-windows-cpu-autoscaling-group-i-06abd128ca6c1688d-1\\xgboost\\xgboost-ci-windows\\src\\learner.cc:740: \n",
      "Parameters: { \"use_label_encoder\" } are not used.\n",
      "\n",
      "  warnings.warn(smsg, UserWarning)\n",
      "C:\\Users\\paulk\\anaconda3\\Lib\\site-packages\\xgboost\\core.py:158: UserWarning: [12:47:52] WARNING: C:\\buildkite-agent\\builds\\buildkite-windows-cpu-autoscaling-group-i-06abd128ca6c1688d-1\\xgboost\\xgboost-ci-windows\\src\\learner.cc:740: \n",
      "Parameters: { \"use_label_encoder\" } are not used.\n",
      "\n",
      "  warnings.warn(smsg, UserWarning)\n",
      "C:\\Users\\paulk\\anaconda3\\Lib\\site-packages\\xgboost\\core.py:158: UserWarning: [12:47:52] WARNING: C:\\buildkite-agent\\builds\\buildkite-windows-cpu-autoscaling-group-i-06abd128ca6c1688d-1\\xgboost\\xgboost-ci-windows\\src\\learner.cc:740: \n",
      "Parameters: { \"use_label_encoder\" } are not used.\n",
      "\n",
      "  warnings.warn(smsg, UserWarning)\n"
     ]
    },
    {
     "name": "stdout",
     "output_type": "stream",
     "text": [
      "| \u001B[30m8         | \u001B[30m0.6465    | \u001B[30m0.7578    | \u001B[30m0.1964    | \u001B[30m4.189     | \u001B[30m142.3     | \u001B[30m0.8639    |\n"
     ]
    },
    {
     "name": "stderr",
     "output_type": "stream",
     "text": [
      "C:\\Users\\paulk\\anaconda3\\Lib\\site-packages\\xgboost\\core.py:158: UserWarning: [12:47:53] WARNING: C:\\buildkite-agent\\builds\\buildkite-windows-cpu-autoscaling-group-i-06abd128ca6c1688d-1\\xgboost\\xgboost-ci-windows\\src\\learner.cc:740: \n",
      "Parameters: { \"use_label_encoder\" } are not used.\n",
      "\n",
      "  warnings.warn(smsg, UserWarning)\n",
      "C:\\Users\\paulk\\anaconda3\\Lib\\site-packages\\xgboost\\core.py:158: UserWarning: [12:47:55] WARNING: C:\\buildkite-agent\\builds\\buildkite-windows-cpu-autoscaling-group-i-06abd128ca6c1688d-1\\xgboost\\xgboost-ci-windows\\src\\learner.cc:740: \n",
      "Parameters: { \"use_label_encoder\" } are not used.\n",
      "\n",
      "  warnings.warn(smsg, UserWarning)\n",
      "C:\\Users\\paulk\\anaconda3\\Lib\\site-packages\\xgboost\\core.py:158: UserWarning: [12:47:57] WARNING: C:\\buildkite-agent\\builds\\buildkite-windows-cpu-autoscaling-group-i-06abd128ca6c1688d-1\\xgboost\\xgboost-ci-windows\\src\\learner.cc:740: \n",
      "Parameters: { \"use_label_encoder\" } are not used.\n",
      "\n",
      "  warnings.warn(smsg, UserWarning)\n",
      "C:\\Users\\paulk\\anaconda3\\Lib\\site-packages\\xgboost\\core.py:158: UserWarning: [12:47:59] WARNING: C:\\buildkite-agent\\builds\\buildkite-windows-cpu-autoscaling-group-i-06abd128ca6c1688d-1\\xgboost\\xgboost-ci-windows\\src\\learner.cc:740: \n",
      "Parameters: { \"use_label_encoder\" } are not used.\n",
      "\n",
      "  warnings.warn(smsg, UserWarning)\n",
      "C:\\Users\\paulk\\anaconda3\\Lib\\site-packages\\xgboost\\core.py:158: UserWarning: [12:48:01] WARNING: C:\\buildkite-agent\\builds\\buildkite-windows-cpu-autoscaling-group-i-06abd128ca6c1688d-1\\xgboost\\xgboost-ci-windows\\src\\learner.cc:740: \n",
      "Parameters: { \"use_label_encoder\" } are not used.\n",
      "\n",
      "  warnings.warn(smsg, UserWarning)\n"
     ]
    },
    {
     "name": "stdout",
     "output_type": "stream",
     "text": [
      "| \u001B[30m9         | \u001B[30m0.6462    | \u001B[30m0.6       | \u001B[30m0.01      | \u001B[30m9.984     | \u001B[30m200.9     | \u001B[30m1.0       |\n"
     ]
    },
    {
     "name": "stderr",
     "output_type": "stream",
     "text": [
      "C:\\Users\\paulk\\anaconda3\\Lib\\site-packages\\xgboost\\core.py:158: UserWarning: [12:48:03] WARNING: C:\\buildkite-agent\\builds\\buildkite-windows-cpu-autoscaling-group-i-06abd128ca6c1688d-1\\xgboost\\xgboost-ci-windows\\src\\learner.cc:740: \n",
      "Parameters: { \"use_label_encoder\" } are not used.\n",
      "\n",
      "  warnings.warn(smsg, UserWarning)\n",
      "C:\\Users\\paulk\\anaconda3\\Lib\\site-packages\\xgboost\\core.py:158: UserWarning: [12:48:04] WARNING: C:\\buildkite-agent\\builds\\buildkite-windows-cpu-autoscaling-group-i-06abd128ca6c1688d-1\\xgboost\\xgboost-ci-windows\\src\\learner.cc:740: \n",
      "Parameters: { \"use_label_encoder\" } are not used.\n",
      "\n",
      "  warnings.warn(smsg, UserWarning)\n",
      "C:\\Users\\paulk\\anaconda3\\Lib\\site-packages\\xgboost\\core.py:158: UserWarning: [12:48:04] WARNING: C:\\buildkite-agent\\builds\\buildkite-windows-cpu-autoscaling-group-i-06abd128ca6c1688d-1\\xgboost\\xgboost-ci-windows\\src\\learner.cc:740: \n",
      "Parameters: { \"use_label_encoder\" } are not used.\n",
      "\n",
      "  warnings.warn(smsg, UserWarning)\n",
      "C:\\Users\\paulk\\anaconda3\\Lib\\site-packages\\xgboost\\core.py:158: UserWarning: [12:48:05] WARNING: C:\\buildkite-agent\\builds\\buildkite-windows-cpu-autoscaling-group-i-06abd128ca6c1688d-1\\xgboost\\xgboost-ci-windows\\src\\learner.cc:740: \n",
      "Parameters: { \"use_label_encoder\" } are not used.\n",
      "\n",
      "  warnings.warn(smsg, UserWarning)\n",
      "C:\\Users\\paulk\\anaconda3\\Lib\\site-packages\\xgboost\\core.py:158: UserWarning: [12:48:06] WARNING: C:\\buildkite-agent\\builds\\buildkite-windows-cpu-autoscaling-group-i-06abd128ca6c1688d-1\\xgboost\\xgboost-ci-windows\\src\\learner.cc:740: \n",
      "Parameters: { \"use_label_encoder\" } are not used.\n",
      "\n",
      "  warnings.warn(smsg, UserWarning)\n"
     ]
    },
    {
     "name": "stdout",
     "output_type": "stream",
     "text": [
      "| \u001B[30m10        | \u001B[30m0.6353    | \u001B[30m0.6       | \u001B[30m0.2       | \u001B[30m6.173     | \u001B[30m141.7     | \u001B[30m0.6       |\n"
     ]
    },
    {
     "name": "stderr",
     "output_type": "stream",
     "text": [
      "C:\\Users\\paulk\\anaconda3\\Lib\\site-packages\\xgboost\\core.py:158: UserWarning: [12:48:07] WARNING: C:\\buildkite-agent\\builds\\buildkite-windows-cpu-autoscaling-group-i-06abd128ca6c1688d-1\\xgboost\\xgboost-ci-windows\\src\\learner.cc:740: \n",
      "Parameters: { \"use_label_encoder\" } are not used.\n",
      "\n",
      "  warnings.warn(smsg, UserWarning)\n",
      "C:\\Users\\paulk\\anaconda3\\Lib\\site-packages\\xgboost\\core.py:158: UserWarning: [12:48:08] WARNING: C:\\buildkite-agent\\builds\\buildkite-windows-cpu-autoscaling-group-i-06abd128ca6c1688d-1\\xgboost\\xgboost-ci-windows\\src\\learner.cc:740: \n",
      "Parameters: { \"use_label_encoder\" } are not used.\n",
      "\n",
      "  warnings.warn(smsg, UserWarning)\n",
      "C:\\Users\\paulk\\anaconda3\\Lib\\site-packages\\xgboost\\core.py:158: UserWarning: [12:48:08] WARNING: C:\\buildkite-agent\\builds\\buildkite-windows-cpu-autoscaling-group-i-06abd128ca6c1688d-1\\xgboost\\xgboost-ci-windows\\src\\learner.cc:740: \n",
      "Parameters: { \"use_label_encoder\" } are not used.\n",
      "\n",
      "  warnings.warn(smsg, UserWarning)\n",
      "C:\\Users\\paulk\\anaconda3\\Lib\\site-packages\\xgboost\\core.py:158: UserWarning: [12:48:09] WARNING: C:\\buildkite-agent\\builds\\buildkite-windows-cpu-autoscaling-group-i-06abd128ca6c1688d-1\\xgboost\\xgboost-ci-windows\\src\\learner.cc:740: \n",
      "Parameters: { \"use_label_encoder\" } are not used.\n",
      "\n",
      "  warnings.warn(smsg, UserWarning)\n",
      "C:\\Users\\paulk\\anaconda3\\Lib\\site-packages\\xgboost\\core.py:158: UserWarning: [12:48:10] WARNING: C:\\buildkite-agent\\builds\\buildkite-windows-cpu-autoscaling-group-i-06abd128ca6c1688d-1\\xgboost\\xgboost-ci-windows\\src\\learner.cc:740: \n",
      "Parameters: { \"use_label_encoder\" } are not used.\n",
      "\n",
      "  warnings.warn(smsg, UserWarning)\n"
     ]
    },
    {
     "name": "stdout",
     "output_type": "stream",
     "text": [
      "| \u001B[30m11        | \u001B[30m0.6499    | \u001B[30m0.6       | \u001B[30m0.09287   | \u001B[30m4.251     | \u001B[30m141.3     | \u001B[30m0.6       |\n"
     ]
    },
    {
     "name": "stderr",
     "output_type": "stream",
     "text": [
      "C:\\Users\\paulk\\anaconda3\\Lib\\site-packages\\xgboost\\core.py:158: UserWarning: [12:48:10] WARNING: C:\\buildkite-agent\\builds\\buildkite-windows-cpu-autoscaling-group-i-06abd128ca6c1688d-1\\xgboost\\xgboost-ci-windows\\src\\learner.cc:740: \n",
      "Parameters: { \"use_label_encoder\" } are not used.\n",
      "\n",
      "  warnings.warn(smsg, UserWarning)\n",
      "C:\\Users\\paulk\\anaconda3\\Lib\\site-packages\\xgboost\\core.py:158: UserWarning: [12:48:11] WARNING: C:\\buildkite-agent\\builds\\buildkite-windows-cpu-autoscaling-group-i-06abd128ca6c1688d-1\\xgboost\\xgboost-ci-windows\\src\\learner.cc:740: \n",
      "Parameters: { \"use_label_encoder\" } are not used.\n",
      "\n",
      "  warnings.warn(smsg, UserWarning)\n",
      "C:\\Users\\paulk\\anaconda3\\Lib\\site-packages\\xgboost\\core.py:158: UserWarning: [12:48:12] WARNING: C:\\buildkite-agent\\builds\\buildkite-windows-cpu-autoscaling-group-i-06abd128ca6c1688d-1\\xgboost\\xgboost-ci-windows\\src\\learner.cc:740: \n",
      "Parameters: { \"use_label_encoder\" } are not used.\n",
      "\n",
      "  warnings.warn(smsg, UserWarning)\n",
      "C:\\Users\\paulk\\anaconda3\\Lib\\site-packages\\xgboost\\core.py:158: UserWarning: [12:48:13] WARNING: C:\\buildkite-agent\\builds\\buildkite-windows-cpu-autoscaling-group-i-06abd128ca6c1688d-1\\xgboost\\xgboost-ci-windows\\src\\learner.cc:740: \n",
      "Parameters: { \"use_label_encoder\" } are not used.\n",
      "\n",
      "  warnings.warn(smsg, UserWarning)\n",
      "C:\\Users\\paulk\\anaconda3\\Lib\\site-packages\\xgboost\\core.py:158: UserWarning: [12:48:14] WARNING: C:\\buildkite-agent\\builds\\buildkite-windows-cpu-autoscaling-group-i-06abd128ca6c1688d-1\\xgboost\\xgboost-ci-windows\\src\\learner.cc:740: \n",
      "Parameters: { \"use_label_encoder\" } are not used.\n",
      "\n",
      "  warnings.warn(smsg, UserWarning)\n"
     ]
    },
    {
     "name": "stdout",
     "output_type": "stream",
     "text": [
      "| \u001B[30m12        | \u001B[30m0.6474    | \u001B[30m1.0       | \u001B[30m0.01      | \u001B[30m5.056     | \u001B[30m143.4     | \u001B[30m0.6       |\n"
     ]
    },
    {
     "name": "stderr",
     "output_type": "stream",
     "text": [
      "C:\\Users\\paulk\\anaconda3\\Lib\\site-packages\\xgboost\\core.py:158: UserWarning: [12:48:15] WARNING: C:\\buildkite-agent\\builds\\buildkite-windows-cpu-autoscaling-group-i-06abd128ca6c1688d-1\\xgboost\\xgboost-ci-windows\\src\\learner.cc:740: \n",
      "Parameters: { \"use_label_encoder\" } are not used.\n",
      "\n",
      "  warnings.warn(smsg, UserWarning)\n",
      "C:\\Users\\paulk\\anaconda3\\Lib\\site-packages\\xgboost\\core.py:158: UserWarning: [12:48:15] WARNING: C:\\buildkite-agent\\builds\\buildkite-windows-cpu-autoscaling-group-i-06abd128ca6c1688d-1\\xgboost\\xgboost-ci-windows\\src\\learner.cc:740: \n",
      "Parameters: { \"use_label_encoder\" } are not used.\n",
      "\n",
      "  warnings.warn(smsg, UserWarning)\n",
      "C:\\Users\\paulk\\anaconda3\\Lib\\site-packages\\xgboost\\core.py:158: UserWarning: [12:48:16] WARNING: C:\\buildkite-agent\\builds\\buildkite-windows-cpu-autoscaling-group-i-06abd128ca6c1688d-1\\xgboost\\xgboost-ci-windows\\src\\learner.cc:740: \n",
      "Parameters: { \"use_label_encoder\" } are not used.\n",
      "\n",
      "  warnings.warn(smsg, UserWarning)\n",
      "C:\\Users\\paulk\\anaconda3\\Lib\\site-packages\\xgboost\\core.py:158: UserWarning: [12:48:16] WARNING: C:\\buildkite-agent\\builds\\buildkite-windows-cpu-autoscaling-group-i-06abd128ca6c1688d-1\\xgboost\\xgboost-ci-windows\\src\\learner.cc:740: \n",
      "Parameters: { \"use_label_encoder\" } are not used.\n",
      "\n",
      "  warnings.warn(smsg, UserWarning)\n",
      "C:\\Users\\paulk\\anaconda3\\Lib\\site-packages\\xgboost\\core.py:158: UserWarning: [12:48:17] WARNING: C:\\buildkite-agent\\builds\\buildkite-windows-cpu-autoscaling-group-i-06abd128ca6c1688d-1\\xgboost\\xgboost-ci-windows\\src\\learner.cc:740: \n",
      "Parameters: { \"use_label_encoder\" } are not used.\n",
      "\n",
      "  warnings.warn(smsg, UserWarning)\n"
     ]
    },
    {
     "name": "stdout",
     "output_type": "stream",
     "text": [
      "| \u001B[30m13        | \u001B[30m0.6479    | \u001B[30m1.0       | \u001B[30m0.2       | \u001B[30m3.791     | \u001B[30m140.4     | \u001B[30m1.0       |\n"
     ]
    },
    {
     "name": "stderr",
     "output_type": "stream",
     "text": [
      "C:\\Users\\paulk\\anaconda3\\Lib\\site-packages\\xgboost\\core.py:158: UserWarning: [12:48:17] WARNING: C:\\buildkite-agent\\builds\\buildkite-windows-cpu-autoscaling-group-i-06abd128ca6c1688d-1\\xgboost\\xgboost-ci-windows\\src\\learner.cc:740: \n",
      "Parameters: { \"use_label_encoder\" } are not used.\n",
      "\n",
      "  warnings.warn(smsg, UserWarning)\n",
      "C:\\Users\\paulk\\anaconda3\\Lib\\site-packages\\xgboost\\core.py:158: UserWarning: [12:48:18] WARNING: C:\\buildkite-agent\\builds\\buildkite-windows-cpu-autoscaling-group-i-06abd128ca6c1688d-1\\xgboost\\xgboost-ci-windows\\src\\learner.cc:740: \n",
      "Parameters: { \"use_label_encoder\" } are not used.\n",
      "\n",
      "  warnings.warn(smsg, UserWarning)\n",
      "C:\\Users\\paulk\\anaconda3\\Lib\\site-packages\\xgboost\\core.py:158: UserWarning: [12:48:19] WARNING: C:\\buildkite-agent\\builds\\buildkite-windows-cpu-autoscaling-group-i-06abd128ca6c1688d-1\\xgboost\\xgboost-ci-windows\\src\\learner.cc:740: \n",
      "Parameters: { \"use_label_encoder\" } are not used.\n",
      "\n",
      "  warnings.warn(smsg, UserWarning)\n",
      "C:\\Users\\paulk\\anaconda3\\Lib\\site-packages\\xgboost\\core.py:158: UserWarning: [12:48:19] WARNING: C:\\buildkite-agent\\builds\\buildkite-windows-cpu-autoscaling-group-i-06abd128ca6c1688d-1\\xgboost\\xgboost-ci-windows\\src\\learner.cc:740: \n",
      "Parameters: { \"use_label_encoder\" } are not used.\n",
      "\n",
      "  warnings.warn(smsg, UserWarning)\n",
      "C:\\Users\\paulk\\anaconda3\\Lib\\site-packages\\xgboost\\core.py:158: UserWarning: [12:48:20] WARNING: C:\\buildkite-agent\\builds\\buildkite-windows-cpu-autoscaling-group-i-06abd128ca6c1688d-1\\xgboost\\xgboost-ci-windows\\src\\learner.cc:740: \n",
      "Parameters: { \"use_label_encoder\" } are not used.\n",
      "\n",
      "  warnings.warn(smsg, UserWarning)\n"
     ]
    },
    {
     "name": "stdout",
     "output_type": "stream",
     "text": [
      "| \u001B[30m14        | \u001B[30m0.6414    | \u001B[30m0.6       | \u001B[30m0.01      | \u001B[30m3.008     | \u001B[30m141.2     | \u001B[30m0.6       |\n"
     ]
    },
    {
     "name": "stderr",
     "output_type": "stream",
     "text": [
      "C:\\Users\\paulk\\anaconda3\\Lib\\site-packages\\xgboost\\core.py:158: UserWarning: [12:48:21] WARNING: C:\\buildkite-agent\\builds\\buildkite-windows-cpu-autoscaling-group-i-06abd128ca6c1688d-1\\xgboost\\xgboost-ci-windows\\src\\learner.cc:740: \n",
      "Parameters: { \"use_label_encoder\" } are not used.\n",
      "\n",
      "  warnings.warn(smsg, UserWarning)\n",
      "C:\\Users\\paulk\\anaconda3\\Lib\\site-packages\\xgboost\\core.py:158: UserWarning: [12:48:21] WARNING: C:\\buildkite-agent\\builds\\buildkite-windows-cpu-autoscaling-group-i-06abd128ca6c1688d-1\\xgboost\\xgboost-ci-windows\\src\\learner.cc:740: \n",
      "Parameters: { \"use_label_encoder\" } are not used.\n",
      "\n",
      "  warnings.warn(smsg, UserWarning)\n",
      "C:\\Users\\paulk\\anaconda3\\Lib\\site-packages\\xgboost\\core.py:158: UserWarning: [12:48:22] WARNING: C:\\buildkite-agent\\builds\\buildkite-windows-cpu-autoscaling-group-i-06abd128ca6c1688d-1\\xgboost\\xgboost-ci-windows\\src\\learner.cc:740: \n",
      "Parameters: { \"use_label_encoder\" } are not used.\n",
      "\n",
      "  warnings.warn(smsg, UserWarning)\n",
      "C:\\Users\\paulk\\anaconda3\\Lib\\site-packages\\xgboost\\core.py:158: UserWarning: [12:48:23] WARNING: C:\\buildkite-agent\\builds\\buildkite-windows-cpu-autoscaling-group-i-06abd128ca6c1688d-1\\xgboost\\xgboost-ci-windows\\src\\learner.cc:740: \n",
      "Parameters: { \"use_label_encoder\" } are not used.\n",
      "\n",
      "  warnings.warn(smsg, UserWarning)\n",
      "C:\\Users\\paulk\\anaconda3\\Lib\\site-packages\\xgboost\\core.py:158: UserWarning: [12:48:23] WARNING: C:\\buildkite-agent\\builds\\buildkite-windows-cpu-autoscaling-group-i-06abd128ca6c1688d-1\\xgboost\\xgboost-ci-windows\\src\\learner.cc:740: \n",
      "Parameters: { \"use_label_encoder\" } are not used.\n",
      "\n",
      "  warnings.warn(smsg, UserWarning)\n"
     ]
    },
    {
     "name": "stdout",
     "output_type": "stream",
     "text": [
      "| \u001B[30m15        | \u001B[30m0.6448    | \u001B[30m0.6       | \u001B[30m0.2       | \u001B[30m4.707     | \u001B[30m140.3     | \u001B[30m0.6       |\n"
     ]
    },
    {
     "name": "stderr",
     "output_type": "stream",
     "text": [
      "C:\\Users\\paulk\\anaconda3\\Lib\\site-packages\\xgboost\\core.py:158: UserWarning: [12:48:24] WARNING: C:\\buildkite-agent\\builds\\buildkite-windows-cpu-autoscaling-group-i-06abd128ca6c1688d-1\\xgboost\\xgboost-ci-windows\\src\\learner.cc:740: \n",
      "Parameters: { \"use_label_encoder\" } are not used.\n",
      "\n",
      "  warnings.warn(smsg, UserWarning)\n",
      "C:\\Users\\paulk\\anaconda3\\Lib\\site-packages\\xgboost\\core.py:158: UserWarning: [12:48:26] WARNING: C:\\buildkite-agent\\builds\\buildkite-windows-cpu-autoscaling-group-i-06abd128ca6c1688d-1\\xgboost\\xgboost-ci-windows\\src\\learner.cc:740: \n",
      "Parameters: { \"use_label_encoder\" } are not used.\n",
      "\n",
      "  warnings.warn(smsg, UserWarning)\n",
      "C:\\Users\\paulk\\anaconda3\\Lib\\site-packages\\xgboost\\core.py:158: UserWarning: [12:48:27] WARNING: C:\\buildkite-agent\\builds\\buildkite-windows-cpu-autoscaling-group-i-06abd128ca6c1688d-1\\xgboost\\xgboost-ci-windows\\src\\learner.cc:740: \n",
      "Parameters: { \"use_label_encoder\" } are not used.\n",
      "\n",
      "  warnings.warn(smsg, UserWarning)\n",
      "C:\\Users\\paulk\\anaconda3\\Lib\\site-packages\\xgboost\\core.py:158: UserWarning: [12:48:29] WARNING: C:\\buildkite-agent\\builds\\buildkite-windows-cpu-autoscaling-group-i-06abd128ca6c1688d-1\\xgboost\\xgboost-ci-windows\\src\\learner.cc:740: \n",
      "Parameters: { \"use_label_encoder\" } are not used.\n",
      "\n",
      "  warnings.warn(smsg, UserWarning)\n",
      "C:\\Users\\paulk\\anaconda3\\Lib\\site-packages\\xgboost\\core.py:158: UserWarning: [12:48:30] WARNING: C:\\buildkite-agent\\builds\\buildkite-windows-cpu-autoscaling-group-i-06abd128ca6c1688d-1\\xgboost\\xgboost-ci-windows\\src\\learner.cc:740: \n",
      "Parameters: { \"use_label_encoder\" } are not used.\n",
      "\n",
      "  warnings.warn(smsg, UserWarning)\n"
     ]
    },
    {
     "name": "stdout",
     "output_type": "stream",
     "text": [
      "| \u001B[30m16        | \u001B[30m0.6472    | \u001B[30m0.6       | \u001B[30m0.01      | \u001B[30m8.914     | \u001B[30m201.4     | \u001B[30m1.0       |\n"
     ]
    },
    {
     "name": "stderr",
     "output_type": "stream",
     "text": [
      "C:\\Users\\paulk\\anaconda3\\Lib\\site-packages\\xgboost\\core.py:158: UserWarning: [12:48:32] WARNING: C:\\buildkite-agent\\builds\\buildkite-windows-cpu-autoscaling-group-i-06abd128ca6c1688d-1\\xgboost\\xgboost-ci-windows\\src\\learner.cc:740: \n",
      "Parameters: { \"use_label_encoder\" } are not used.\n",
      "\n",
      "  warnings.warn(smsg, UserWarning)\n",
      "C:\\Users\\paulk\\anaconda3\\Lib\\site-packages\\xgboost\\core.py:158: UserWarning: [12:48:33] WARNING: C:\\buildkite-agent\\builds\\buildkite-windows-cpu-autoscaling-group-i-06abd128ca6c1688d-1\\xgboost\\xgboost-ci-windows\\src\\learner.cc:740: \n",
      "Parameters: { \"use_label_encoder\" } are not used.\n",
      "\n",
      "  warnings.warn(smsg, UserWarning)\n",
      "C:\\Users\\paulk\\anaconda3\\Lib\\site-packages\\xgboost\\core.py:158: UserWarning: [12:48:34] WARNING: C:\\buildkite-agent\\builds\\buildkite-windows-cpu-autoscaling-group-i-06abd128ca6c1688d-1\\xgboost\\xgboost-ci-windows\\src\\learner.cc:740: \n",
      "Parameters: { \"use_label_encoder\" } are not used.\n",
      "\n",
      "  warnings.warn(smsg, UserWarning)\n",
      "C:\\Users\\paulk\\anaconda3\\Lib\\site-packages\\xgboost\\core.py:158: UserWarning: [12:48:34] WARNING: C:\\buildkite-agent\\builds\\buildkite-windows-cpu-autoscaling-group-i-06abd128ca6c1688d-1\\xgboost\\xgboost-ci-windows\\src\\learner.cc:740: \n",
      "Parameters: { \"use_label_encoder\" } are not used.\n",
      "\n",
      "  warnings.warn(smsg, UserWarning)\n",
      "C:\\Users\\paulk\\anaconda3\\Lib\\site-packages\\xgboost\\core.py:158: UserWarning: [12:48:35] WARNING: C:\\buildkite-agent\\builds\\buildkite-windows-cpu-autoscaling-group-i-06abd128ca6c1688d-1\\xgboost\\xgboost-ci-windows\\src\\learner.cc:740: \n",
      "Parameters: { \"use_label_encoder\" } are not used.\n",
      "\n",
      "  warnings.warn(smsg, UserWarning)\n"
     ]
    },
    {
     "name": "stdout",
     "output_type": "stream",
     "text": [
      "| \u001B[30m17        | \u001B[30m0.641     | \u001B[30m0.8765    | \u001B[30m0.1639    | \u001B[30m5.733     | \u001B[30m158.8     | \u001B[30m0.6294    |\n"
     ]
    },
    {
     "name": "stderr",
     "output_type": "stream",
     "text": [
      "C:\\Users\\paulk\\anaconda3\\Lib\\site-packages\\xgboost\\core.py:158: UserWarning: [12:48:36] WARNING: C:\\buildkite-agent\\builds\\buildkite-windows-cpu-autoscaling-group-i-06abd128ca6c1688d-1\\xgboost\\xgboost-ci-windows\\src\\learner.cc:740: \n",
      "Parameters: { \"use_label_encoder\" } are not used.\n",
      "\n",
      "  warnings.warn(smsg, UserWarning)\n",
      "C:\\Users\\paulk\\anaconda3\\Lib\\site-packages\\xgboost\\core.py:158: UserWarning: [12:48:37] WARNING: C:\\buildkite-agent\\builds\\buildkite-windows-cpu-autoscaling-group-i-06abd128ca6c1688d-1\\xgboost\\xgboost-ci-windows\\src\\learner.cc:740: \n",
      "Parameters: { \"use_label_encoder\" } are not used.\n",
      "\n",
      "  warnings.warn(smsg, UserWarning)\n",
      "C:\\Users\\paulk\\anaconda3\\Lib\\site-packages\\xgboost\\core.py:158: UserWarning: [12:48:38] WARNING: C:\\buildkite-agent\\builds\\buildkite-windows-cpu-autoscaling-group-i-06abd128ca6c1688d-1\\xgboost\\xgboost-ci-windows\\src\\learner.cc:740: \n",
      "Parameters: { \"use_label_encoder\" } are not used.\n",
      "\n",
      "  warnings.warn(smsg, UserWarning)\n",
      "C:\\Users\\paulk\\anaconda3\\Lib\\site-packages\\xgboost\\core.py:158: UserWarning: [12:48:39] WARNING: C:\\buildkite-agent\\builds\\buildkite-windows-cpu-autoscaling-group-i-06abd128ca6c1688d-1\\xgboost\\xgboost-ci-windows\\src\\learner.cc:740: \n",
      "Parameters: { \"use_label_encoder\" } are not used.\n",
      "\n",
      "  warnings.warn(smsg, UserWarning)\n",
      "C:\\Users\\paulk\\anaconda3\\Lib\\site-packages\\xgboost\\core.py:158: UserWarning: [12:48:40] WARNING: C:\\buildkite-agent\\builds\\buildkite-windows-cpu-autoscaling-group-i-06abd128ca6c1688d-1\\xgboost\\xgboost-ci-windows\\src\\learner.cc:740: \n",
      "Parameters: { \"use_label_encoder\" } are not used.\n",
      "\n",
      "  warnings.warn(smsg, UserWarning)\n"
     ]
    },
    {
     "name": "stdout",
     "output_type": "stream",
     "text": [
      "| \u001B[30m18        | \u001B[30m0.6467    | \u001B[30m0.7263    | \u001B[30m0.06392   | \u001B[30m7.599     | \u001B[30m157.3     | \u001B[30m0.881     |\n"
     ]
    },
    {
     "name": "stderr",
     "output_type": "stream",
     "text": [
      "C:\\Users\\paulk\\anaconda3\\Lib\\site-packages\\xgboost\\core.py:158: UserWarning: [12:48:41] WARNING: C:\\buildkite-agent\\builds\\buildkite-windows-cpu-autoscaling-group-i-06abd128ca6c1688d-1\\xgboost\\xgboost-ci-windows\\src\\learner.cc:740: \n",
      "Parameters: { \"use_label_encoder\" } are not used.\n",
      "\n",
      "  warnings.warn(smsg, UserWarning)\n",
      "C:\\Users\\paulk\\anaconda3\\Lib\\site-packages\\xgboost\\core.py:158: UserWarning: [12:48:42] WARNING: C:\\buildkite-agent\\builds\\buildkite-windows-cpu-autoscaling-group-i-06abd128ca6c1688d-1\\xgboost\\xgboost-ci-windows\\src\\learner.cc:740: \n",
      "Parameters: { \"use_label_encoder\" } are not used.\n",
      "\n",
      "  warnings.warn(smsg, UserWarning)\n",
      "C:\\Users\\paulk\\anaconda3\\Lib\\site-packages\\xgboost\\core.py:158: UserWarning: [12:48:44] WARNING: C:\\buildkite-agent\\builds\\buildkite-windows-cpu-autoscaling-group-i-06abd128ca6c1688d-1\\xgboost\\xgboost-ci-windows\\src\\learner.cc:740: \n",
      "Parameters: { \"use_label_encoder\" } are not used.\n",
      "\n",
      "  warnings.warn(smsg, UserWarning)\n",
      "C:\\Users\\paulk\\anaconda3\\Lib\\site-packages\\xgboost\\core.py:158: UserWarning: [12:48:45] WARNING: C:\\buildkite-agent\\builds\\buildkite-windows-cpu-autoscaling-group-i-06abd128ca6c1688d-1\\xgboost\\xgboost-ci-windows\\src\\learner.cc:740: \n",
      "Parameters: { \"use_label_encoder\" } are not used.\n",
      "\n",
      "  warnings.warn(smsg, UserWarning)\n",
      "C:\\Users\\paulk\\anaconda3\\Lib\\site-packages\\xgboost\\core.py:158: UserWarning: [12:48:46] WARNING: C:\\buildkite-agent\\builds\\buildkite-windows-cpu-autoscaling-group-i-06abd128ca6c1688d-1\\xgboost\\xgboost-ci-windows\\src\\learner.cc:740: \n",
      "Parameters: { \"use_label_encoder\" } are not used.\n",
      "\n",
      "  warnings.warn(smsg, UserWarning)\n"
     ]
    },
    {
     "name": "stdout",
     "output_type": "stream",
     "text": [
      "| \u001B[30m19        | \u001B[30m0.648     | \u001B[30m0.6       | \u001B[30m0.01      | \u001B[30m7.731     | \u001B[30m158.6     | \u001B[30m0.6       |\n"
     ]
    },
    {
     "name": "stderr",
     "output_type": "stream",
     "text": [
      "C:\\Users\\paulk\\anaconda3\\Lib\\site-packages\\xgboost\\core.py:158: UserWarning: [12:48:47] WARNING: C:\\buildkite-agent\\builds\\buildkite-windows-cpu-autoscaling-group-i-06abd128ca6c1688d-1\\xgboost\\xgboost-ci-windows\\src\\learner.cc:740: \n",
      "Parameters: { \"use_label_encoder\" } are not used.\n",
      "\n",
      "  warnings.warn(smsg, UserWarning)\n",
      "C:\\Users\\paulk\\anaconda3\\Lib\\site-packages\\xgboost\\core.py:158: UserWarning: [12:48:48] WARNING: C:\\buildkite-agent\\builds\\buildkite-windows-cpu-autoscaling-group-i-06abd128ca6c1688d-1\\xgboost\\xgboost-ci-windows\\src\\learner.cc:740: \n",
      "Parameters: { \"use_label_encoder\" } are not used.\n",
      "\n",
      "  warnings.warn(smsg, UserWarning)\n",
      "C:\\Users\\paulk\\anaconda3\\Lib\\site-packages\\xgboost\\core.py:158: UserWarning: [12:48:49] WARNING: C:\\buildkite-agent\\builds\\buildkite-windows-cpu-autoscaling-group-i-06abd128ca6c1688d-1\\xgboost\\xgboost-ci-windows\\src\\learner.cc:740: \n",
      "Parameters: { \"use_label_encoder\" } are not used.\n",
      "\n",
      "  warnings.warn(smsg, UserWarning)\n",
      "C:\\Users\\paulk\\anaconda3\\Lib\\site-packages\\xgboost\\core.py:158: UserWarning: [12:48:50] WARNING: C:\\buildkite-agent\\builds\\buildkite-windows-cpu-autoscaling-group-i-06abd128ca6c1688d-1\\xgboost\\xgboost-ci-windows\\src\\learner.cc:740: \n",
      "Parameters: { \"use_label_encoder\" } are not used.\n",
      "\n",
      "  warnings.warn(smsg, UserWarning)\n",
      "C:\\Users\\paulk\\anaconda3\\Lib\\site-packages\\xgboost\\core.py:158: UserWarning: [12:48:51] WARNING: C:\\buildkite-agent\\builds\\buildkite-windows-cpu-autoscaling-group-i-06abd128ca6c1688d-1\\xgboost\\xgboost-ci-windows\\src\\learner.cc:740: \n",
      "Parameters: { \"use_label_encoder\" } are not used.\n",
      "\n",
      "  warnings.warn(smsg, UserWarning)\n"
     ]
    },
    {
     "name": "stdout",
     "output_type": "stream",
     "text": [
      "| \u001B[30m20        | \u001B[30m0.6285    | \u001B[30m0.7071    | \u001B[30m0.2       | \u001B[30m8.794     | \u001B[30m158.1     | \u001B[30m0.77      |\n"
     ]
    },
    {
     "name": "stderr",
     "output_type": "stream",
     "text": [
      "C:\\Users\\paulk\\anaconda3\\Lib\\site-packages\\xgboost\\core.py:158: UserWarning: [12:48:52] WARNING: C:\\buildkite-agent\\builds\\buildkite-windows-cpu-autoscaling-group-i-06abd128ca6c1688d-1\\xgboost\\xgboost-ci-windows\\src\\learner.cc:740: \n",
      "Parameters: { \"use_label_encoder\" } are not used.\n",
      "\n",
      "  warnings.warn(smsg, UserWarning)\n",
      "C:\\Users\\paulk\\anaconda3\\Lib\\site-packages\\xgboost\\core.py:158: UserWarning: [12:48:53] WARNING: C:\\buildkite-agent\\builds\\buildkite-windows-cpu-autoscaling-group-i-06abd128ca6c1688d-1\\xgboost\\xgboost-ci-windows\\src\\learner.cc:740: \n",
      "Parameters: { \"use_label_encoder\" } are not used.\n",
      "\n",
      "  warnings.warn(smsg, UserWarning)\n",
      "C:\\Users\\paulk\\anaconda3\\Lib\\site-packages\\xgboost\\core.py:158: UserWarning: [12:48:54] WARNING: C:\\buildkite-agent\\builds\\buildkite-windows-cpu-autoscaling-group-i-06abd128ca6c1688d-1\\xgboost\\xgboost-ci-windows\\src\\learner.cc:740: \n",
      "Parameters: { \"use_label_encoder\" } are not used.\n",
      "\n",
      "  warnings.warn(smsg, UserWarning)\n",
      "C:\\Users\\paulk\\anaconda3\\Lib\\site-packages\\xgboost\\core.py:158: UserWarning: [12:48:54] WARNING: C:\\buildkite-agent\\builds\\buildkite-windows-cpu-autoscaling-group-i-06abd128ca6c1688d-1\\xgboost\\xgboost-ci-windows\\src\\learner.cc:740: \n",
      "Parameters: { \"use_label_encoder\" } are not used.\n",
      "\n",
      "  warnings.warn(smsg, UserWarning)\n",
      "C:\\Users\\paulk\\anaconda3\\Lib\\site-packages\\xgboost\\core.py:158: UserWarning: [12:48:55] WARNING: C:\\buildkite-agent\\builds\\buildkite-windows-cpu-autoscaling-group-i-06abd128ca6c1688d-1\\xgboost\\xgboost-ci-windows\\src\\learner.cc:740: \n",
      "Parameters: { \"use_label_encoder\" } are not used.\n",
      "\n",
      "  warnings.warn(smsg, UserWarning)\n"
     ]
    },
    {
     "name": "stdout",
     "output_type": "stream",
     "text": [
      "| \u001B[30m21        | \u001B[30m0.6435    | \u001B[30m1.0       | \u001B[30m0.01      | \u001B[30m4.379     | \u001B[30m141.6     | \u001B[30m1.0       |\n"
     ]
    },
    {
     "name": "stderr",
     "output_type": "stream",
     "text": [
      "C:\\Users\\paulk\\anaconda3\\Lib\\site-packages\\xgboost\\core.py:158: UserWarning: [12:48:56] WARNING: C:\\buildkite-agent\\builds\\buildkite-windows-cpu-autoscaling-group-i-06abd128ca6c1688d-1\\xgboost\\xgboost-ci-windows\\src\\learner.cc:740: \n",
      "Parameters: { \"use_label_encoder\" } are not used.\n",
      "\n",
      "  warnings.warn(smsg, UserWarning)\n",
      "C:\\Users\\paulk\\anaconda3\\Lib\\site-packages\\xgboost\\core.py:158: UserWarning: [12:48:57] WARNING: C:\\buildkite-agent\\builds\\buildkite-windows-cpu-autoscaling-group-i-06abd128ca6c1688d-1\\xgboost\\xgboost-ci-windows\\src\\learner.cc:740: \n",
      "Parameters: { \"use_label_encoder\" } are not used.\n",
      "\n",
      "  warnings.warn(smsg, UserWarning)\n",
      "C:\\Users\\paulk\\anaconda3\\Lib\\site-packages\\xgboost\\core.py:158: UserWarning: [12:48:58] WARNING: C:\\buildkite-agent\\builds\\buildkite-windows-cpu-autoscaling-group-i-06abd128ca6c1688d-1\\xgboost\\xgboost-ci-windows\\src\\learner.cc:740: \n",
      "Parameters: { \"use_label_encoder\" } are not used.\n",
      "\n",
      "  warnings.warn(smsg, UserWarning)\n",
      "C:\\Users\\paulk\\anaconda3\\Lib\\site-packages\\xgboost\\core.py:158: UserWarning: [12:48:59] WARNING: C:\\buildkite-agent\\builds\\buildkite-windows-cpu-autoscaling-group-i-06abd128ca6c1688d-1\\xgboost\\xgboost-ci-windows\\src\\learner.cc:740: \n",
      "Parameters: { \"use_label_encoder\" } are not used.\n",
      "\n",
      "  warnings.warn(smsg, UserWarning)\n",
      "C:\\Users\\paulk\\anaconda3\\Lib\\site-packages\\xgboost\\core.py:158: UserWarning: [12:49:00] WARNING: C:\\buildkite-agent\\builds\\buildkite-windows-cpu-autoscaling-group-i-06abd128ca6c1688d-1\\xgboost\\xgboost-ci-windows\\src\\learner.cc:740: \n",
      "Parameters: { \"use_label_encoder\" } are not used.\n",
      "\n",
      "  warnings.warn(smsg, UserWarning)\n"
     ]
    },
    {
     "name": "stdout",
     "output_type": "stream",
     "text": [
      "| \u001B[30m22        | \u001B[30m0.6473    | \u001B[30m0.6       | \u001B[30m0.01      | \u001B[30m7.09      | \u001B[30m158.8     | \u001B[30m1.0       |\n"
     ]
    },
    {
     "name": "stderr",
     "output_type": "stream",
     "text": [
      "C:\\Users\\paulk\\anaconda3\\Lib\\site-packages\\xgboost\\core.py:158: UserWarning: [12:49:01] WARNING: C:\\buildkite-agent\\builds\\buildkite-windows-cpu-autoscaling-group-i-06abd128ca6c1688d-1\\xgboost\\xgboost-ci-windows\\src\\learner.cc:740: \n",
      "Parameters: { \"use_label_encoder\" } are not used.\n",
      "\n",
      "  warnings.warn(smsg, UserWarning)\n",
      "C:\\Users\\paulk\\anaconda3\\Lib\\site-packages\\xgboost\\core.py:158: UserWarning: [12:49:02] WARNING: C:\\buildkite-agent\\builds\\buildkite-windows-cpu-autoscaling-group-i-06abd128ca6c1688d-1\\xgboost\\xgboost-ci-windows\\src\\learner.cc:740: \n",
      "Parameters: { \"use_label_encoder\" } are not used.\n",
      "\n",
      "  warnings.warn(smsg, UserWarning)\n",
      "C:\\Users\\paulk\\anaconda3\\Lib\\site-packages\\xgboost\\core.py:158: UserWarning: [12:49:03] WARNING: C:\\buildkite-agent\\builds\\buildkite-windows-cpu-autoscaling-group-i-06abd128ca6c1688d-1\\xgboost\\xgboost-ci-windows\\src\\learner.cc:740: \n",
      "Parameters: { \"use_label_encoder\" } are not used.\n",
      "\n",
      "  warnings.warn(smsg, UserWarning)\n",
      "C:\\Users\\paulk\\anaconda3\\Lib\\site-packages\\xgboost\\core.py:158: UserWarning: [12:49:04] WARNING: C:\\buildkite-agent\\builds\\buildkite-windows-cpu-autoscaling-group-i-06abd128ca6c1688d-1\\xgboost\\xgboost-ci-windows\\src\\learner.cc:740: \n",
      "Parameters: { \"use_label_encoder\" } are not used.\n",
      "\n",
      "  warnings.warn(smsg, UserWarning)\n",
      "C:\\Users\\paulk\\anaconda3\\Lib\\site-packages\\xgboost\\core.py:158: UserWarning: [12:49:04] WARNING: C:\\buildkite-agent\\builds\\buildkite-windows-cpu-autoscaling-group-i-06abd128ca6c1688d-1\\xgboost\\xgboost-ci-windows\\src\\learner.cc:740: \n",
      "Parameters: { \"use_label_encoder\" } are not used.\n",
      "\n",
      "  warnings.warn(smsg, UserWarning)\n"
     ]
    },
    {
     "name": "stdout",
     "output_type": "stream",
     "text": [
      "| \u001B[30m23        | \u001B[30m0.6443    | \u001B[30m0.6       | \u001B[30m0.01      | \u001B[30m4.883     | \u001B[30m142.4     | \u001B[30m0.6       |\n"
     ]
    },
    {
     "name": "stderr",
     "output_type": "stream",
     "text": [
      "C:\\Users\\paulk\\anaconda3\\Lib\\site-packages\\xgboost\\core.py:158: UserWarning: [12:49:05] WARNING: C:\\buildkite-agent\\builds\\buildkite-windows-cpu-autoscaling-group-i-06abd128ca6c1688d-1\\xgboost\\xgboost-ci-windows\\src\\learner.cc:740: \n",
      "Parameters: { \"use_label_encoder\" } are not used.\n",
      "\n",
      "  warnings.warn(smsg, UserWarning)\n",
      "C:\\Users\\paulk\\anaconda3\\Lib\\site-packages\\xgboost\\core.py:158: UserWarning: [12:49:06] WARNING: C:\\buildkite-agent\\builds\\buildkite-windows-cpu-autoscaling-group-i-06abd128ca6c1688d-1\\xgboost\\xgboost-ci-windows\\src\\learner.cc:740: \n",
      "Parameters: { \"use_label_encoder\" } are not used.\n",
      "\n",
      "  warnings.warn(smsg, UserWarning)\n",
      "C:\\Users\\paulk\\anaconda3\\Lib\\site-packages\\xgboost\\core.py:158: UserWarning: [12:49:07] WARNING: C:\\buildkite-agent\\builds\\buildkite-windows-cpu-autoscaling-group-i-06abd128ca6c1688d-1\\xgboost\\xgboost-ci-windows\\src\\learner.cc:740: \n",
      "Parameters: { \"use_label_encoder\" } are not used.\n",
      "\n",
      "  warnings.warn(smsg, UserWarning)\n",
      "C:\\Users\\paulk\\anaconda3\\Lib\\site-packages\\xgboost\\core.py:158: UserWarning: [12:49:07] WARNING: C:\\buildkite-agent\\builds\\buildkite-windows-cpu-autoscaling-group-i-06abd128ca6c1688d-1\\xgboost\\xgboost-ci-windows\\src\\learner.cc:740: \n",
      "Parameters: { \"use_label_encoder\" } are not used.\n",
      "\n",
      "  warnings.warn(smsg, UserWarning)\n",
      "C:\\Users\\paulk\\anaconda3\\Lib\\site-packages\\xgboost\\core.py:158: UserWarning: [12:49:08] WARNING: C:\\buildkite-agent\\builds\\buildkite-windows-cpu-autoscaling-group-i-06abd128ca6c1688d-1\\xgboost\\xgboost-ci-windows\\src\\learner.cc:740: \n",
      "Parameters: { \"use_label_encoder\" } are not used.\n",
      "\n",
      "  warnings.warn(smsg, UserWarning)\n"
     ]
    },
    {
     "name": "stdout",
     "output_type": "stream",
     "text": [
      "| \u001B[30m24        | \u001B[30m0.6426    | \u001B[30m1.0       | \u001B[30m0.2       | \u001B[30m5.755     | \u001B[30m143.1     | \u001B[30m1.0       |\n"
     ]
    },
    {
     "name": "stderr",
     "output_type": "stream",
     "text": [
      "C:\\Users\\paulk\\anaconda3\\Lib\\site-packages\\xgboost\\core.py:158: UserWarning: [12:49:09] WARNING: C:\\buildkite-agent\\builds\\buildkite-windows-cpu-autoscaling-group-i-06abd128ca6c1688d-1\\xgboost\\xgboost-ci-windows\\src\\learner.cc:740: \n",
      "Parameters: { \"use_label_encoder\" } are not used.\n",
      "\n",
      "  warnings.warn(smsg, UserWarning)\n",
      "C:\\Users\\paulk\\anaconda3\\Lib\\site-packages\\xgboost\\core.py:158: UserWarning: [12:49:09] WARNING: C:\\buildkite-agent\\builds\\buildkite-windows-cpu-autoscaling-group-i-06abd128ca6c1688d-1\\xgboost\\xgboost-ci-windows\\src\\learner.cc:740: \n",
      "Parameters: { \"use_label_encoder\" } are not used.\n",
      "\n",
      "  warnings.warn(smsg, UserWarning)\n",
      "C:\\Users\\paulk\\anaconda3\\Lib\\site-packages\\xgboost\\core.py:158: UserWarning: [12:49:10] WARNING: C:\\buildkite-agent\\builds\\buildkite-windows-cpu-autoscaling-group-i-06abd128ca6c1688d-1\\xgboost\\xgboost-ci-windows\\src\\learner.cc:740: \n",
      "Parameters: { \"use_label_encoder\" } are not used.\n",
      "\n",
      "  warnings.warn(smsg, UserWarning)\n",
      "C:\\Users\\paulk\\anaconda3\\Lib\\site-packages\\xgboost\\core.py:158: UserWarning: [12:49:11] WARNING: C:\\buildkite-agent\\builds\\buildkite-windows-cpu-autoscaling-group-i-06abd128ca6c1688d-1\\xgboost\\xgboost-ci-windows\\src\\learner.cc:740: \n",
      "Parameters: { \"use_label_encoder\" } are not used.\n",
      "\n",
      "  warnings.warn(smsg, UserWarning)\n",
      "C:\\Users\\paulk\\anaconda3\\Lib\\site-packages\\xgboost\\core.py:158: UserWarning: [12:49:11] WARNING: C:\\buildkite-agent\\builds\\buildkite-windows-cpu-autoscaling-group-i-06abd128ca6c1688d-1\\xgboost\\xgboost-ci-windows\\src\\learner.cc:740: \n",
      "Parameters: { \"use_label_encoder\" } are not used.\n",
      "\n",
      "  warnings.warn(smsg, UserWarning)\n"
     ]
    },
    {
     "name": "stdout",
     "output_type": "stream",
     "text": [
      "| \u001B[30m25        | \u001B[30m0.6447    | \u001B[30m0.6       | \u001B[30m0.2       | \u001B[30m4.843     | \u001B[30m141.2     | \u001B[30m0.6       |\n"
     ]
    },
    {
     "name": "stderr",
     "output_type": "stream",
     "text": [
      "C:\\Users\\paulk\\anaconda3\\Lib\\site-packages\\xgboost\\core.py:158: UserWarning: [12:49:12] WARNING: C:\\buildkite-agent\\builds\\buildkite-windows-cpu-autoscaling-group-i-06abd128ca6c1688d-1\\xgboost\\xgboost-ci-windows\\src\\learner.cc:740: \n",
      "Parameters: { \"use_label_encoder\" } are not used.\n",
      "\n",
      "  warnings.warn(smsg, UserWarning)\n",
      "C:\\Users\\paulk\\anaconda3\\Lib\\site-packages\\xgboost\\core.py:158: UserWarning: [12:49:13] WARNING: C:\\buildkite-agent\\builds\\buildkite-windows-cpu-autoscaling-group-i-06abd128ca6c1688d-1\\xgboost\\xgboost-ci-windows\\src\\learner.cc:740: \n",
      "Parameters: { \"use_label_encoder\" } are not used.\n",
      "\n",
      "  warnings.warn(smsg, UserWarning)\n",
      "C:\\Users\\paulk\\anaconda3\\Lib\\site-packages\\xgboost\\core.py:158: UserWarning: [12:49:14] WARNING: C:\\buildkite-agent\\builds\\buildkite-windows-cpu-autoscaling-group-i-06abd128ca6c1688d-1\\xgboost\\xgboost-ci-windows\\src\\learner.cc:740: \n",
      "Parameters: { \"use_label_encoder\" } are not used.\n",
      "\n",
      "  warnings.warn(smsg, UserWarning)\n",
      "C:\\Users\\paulk\\anaconda3\\Lib\\site-packages\\xgboost\\core.py:158: UserWarning: [12:49:15] WARNING: C:\\buildkite-agent\\builds\\buildkite-windows-cpu-autoscaling-group-i-06abd128ca6c1688d-1\\xgboost\\xgboost-ci-windows\\src\\learner.cc:740: \n",
      "Parameters: { \"use_label_encoder\" } are not used.\n",
      "\n",
      "  warnings.warn(smsg, UserWarning)\n",
      "C:\\Users\\paulk\\anaconda3\\Lib\\site-packages\\xgboost\\core.py:158: UserWarning: [12:49:16] WARNING: C:\\buildkite-agent\\builds\\buildkite-windows-cpu-autoscaling-group-i-06abd128ca6c1688d-1\\xgboost\\xgboost-ci-windows\\src\\learner.cc:740: \n",
      "Parameters: { \"use_label_encoder\" } are not used.\n",
      "\n",
      "  warnings.warn(smsg, UserWarning)\n"
     ]
    },
    {
     "name": "stdout",
     "output_type": "stream",
     "text": [
      "| \u001B[30m26        | \u001B[30m0.6364    | \u001B[30m0.6       | \u001B[30m0.2       | \u001B[30m7.321     | \u001B[30m158.1     | \u001B[30m1.0       |\n"
     ]
    },
    {
     "name": "stderr",
     "output_type": "stream",
     "text": [
      "C:\\Users\\paulk\\anaconda3\\Lib\\site-packages\\xgboost\\core.py:158: UserWarning: [12:49:17] WARNING: C:\\buildkite-agent\\builds\\buildkite-windows-cpu-autoscaling-group-i-06abd128ca6c1688d-1\\xgboost\\xgboost-ci-windows\\src\\learner.cc:740: \n",
      "Parameters: { \"use_label_encoder\" } are not used.\n",
      "\n",
      "  warnings.warn(smsg, UserWarning)\n",
      "C:\\Users\\paulk\\anaconda3\\Lib\\site-packages\\xgboost\\core.py:158: UserWarning: [12:49:17] WARNING: C:\\buildkite-agent\\builds\\buildkite-windows-cpu-autoscaling-group-i-06abd128ca6c1688d-1\\xgboost\\xgboost-ci-windows\\src\\learner.cc:740: \n",
      "Parameters: { \"use_label_encoder\" } are not used.\n",
      "\n",
      "  warnings.warn(smsg, UserWarning)\n",
      "C:\\Users\\paulk\\anaconda3\\Lib\\site-packages\\xgboost\\core.py:158: UserWarning: [12:49:18] WARNING: C:\\buildkite-agent\\builds\\buildkite-windows-cpu-autoscaling-group-i-06abd128ca6c1688d-1\\xgboost\\xgboost-ci-windows\\src\\learner.cc:740: \n",
      "Parameters: { \"use_label_encoder\" } are not used.\n",
      "\n",
      "  warnings.warn(smsg, UserWarning)\n",
      "C:\\Users\\paulk\\anaconda3\\Lib\\site-packages\\xgboost\\core.py:158: UserWarning: [12:49:19] WARNING: C:\\buildkite-agent\\builds\\buildkite-windows-cpu-autoscaling-group-i-06abd128ca6c1688d-1\\xgboost\\xgboost-ci-windows\\src\\learner.cc:740: \n",
      "Parameters: { \"use_label_encoder\" } are not used.\n",
      "\n",
      "  warnings.warn(smsg, UserWarning)\n",
      "C:\\Users\\paulk\\anaconda3\\Lib\\site-packages\\xgboost\\core.py:158: UserWarning: [12:49:19] WARNING: C:\\buildkite-agent\\builds\\buildkite-windows-cpu-autoscaling-group-i-06abd128ca6c1688d-1\\xgboost\\xgboost-ci-windows\\src\\learner.cc:740: \n",
      "Parameters: { \"use_label_encoder\" } are not used.\n",
      "\n",
      "  warnings.warn(smsg, UserWarning)\n"
     ]
    },
    {
     "name": "stdout",
     "output_type": "stream",
     "text": [
      "| \u001B[30m27        | \u001B[30m0.6477    | \u001B[30m0.9603    | \u001B[30m0.104     | \u001B[30m5.164     | \u001B[30m142.0     | \u001B[30m1.0       |\n"
     ]
    },
    {
     "name": "stderr",
     "output_type": "stream",
     "text": [
      "C:\\Users\\paulk\\anaconda3\\Lib\\site-packages\\xgboost\\core.py:158: UserWarning: [12:49:20] WARNING: C:\\buildkite-agent\\builds\\buildkite-windows-cpu-autoscaling-group-i-06abd128ca6c1688d-1\\xgboost\\xgboost-ci-windows\\src\\learner.cc:740: \n",
      "Parameters: { \"use_label_encoder\" } are not used.\n",
      "\n",
      "  warnings.warn(smsg, UserWarning)\n",
      "C:\\Users\\paulk\\anaconda3\\Lib\\site-packages\\xgboost\\core.py:158: UserWarning: [12:49:21] WARNING: C:\\buildkite-agent\\builds\\buildkite-windows-cpu-autoscaling-group-i-06abd128ca6c1688d-1\\xgboost\\xgboost-ci-windows\\src\\learner.cc:740: \n",
      "Parameters: { \"use_label_encoder\" } are not used.\n",
      "\n",
      "  warnings.warn(smsg, UserWarning)\n",
      "C:\\Users\\paulk\\anaconda3\\Lib\\site-packages\\xgboost\\core.py:158: UserWarning: [12:49:22] WARNING: C:\\buildkite-agent\\builds\\buildkite-windows-cpu-autoscaling-group-i-06abd128ca6c1688d-1\\xgboost\\xgboost-ci-windows\\src\\learner.cc:740: \n",
      "Parameters: { \"use_label_encoder\" } are not used.\n",
      "\n",
      "  warnings.warn(smsg, UserWarning)\n",
      "C:\\Users\\paulk\\anaconda3\\Lib\\site-packages\\xgboost\\core.py:158: UserWarning: [12:49:22] WARNING: C:\\buildkite-agent\\builds\\buildkite-windows-cpu-autoscaling-group-i-06abd128ca6c1688d-1\\xgboost\\xgboost-ci-windows\\src\\learner.cc:740: \n",
      "Parameters: { \"use_label_encoder\" } are not used.\n",
      "\n",
      "  warnings.warn(smsg, UserWarning)\n",
      "C:\\Users\\paulk\\anaconda3\\Lib\\site-packages\\xgboost\\core.py:158: UserWarning: [12:49:23] WARNING: C:\\buildkite-agent\\builds\\buildkite-windows-cpu-autoscaling-group-i-06abd128ca6c1688d-1\\xgboost\\xgboost-ci-windows\\src\\learner.cc:740: \n",
      "Parameters: { \"use_label_encoder\" } are not used.\n",
      "\n",
      "  warnings.warn(smsg, UserWarning)\n"
     ]
    },
    {
     "name": "stdout",
     "output_type": "stream",
     "text": [
      "| \u001B[35m28        | \u001B[35m0.6502    | \u001B[35m0.8486    | \u001B[35m0.04044   | \u001B[35m5.049     | \u001B[35m141.6     | \u001B[35m0.7867    |\n"
     ]
    },
    {
     "name": "stderr",
     "output_type": "stream",
     "text": [
      "C:\\Users\\paulk\\anaconda3\\Lib\\site-packages\\xgboost\\core.py:158: UserWarning: [12:49:24] WARNING: C:\\buildkite-agent\\builds\\buildkite-windows-cpu-autoscaling-group-i-06abd128ca6c1688d-1\\xgboost\\xgboost-ci-windows\\src\\learner.cc:740: \n",
      "Parameters: { \"use_label_encoder\" } are not used.\n",
      "\n",
      "  warnings.warn(smsg, UserWarning)\n",
      "C:\\Users\\paulk\\anaconda3\\Lib\\site-packages\\xgboost\\core.py:158: UserWarning: [12:49:25] WARNING: C:\\buildkite-agent\\builds\\buildkite-windows-cpu-autoscaling-group-i-06abd128ca6c1688d-1\\xgboost\\xgboost-ci-windows\\src\\learner.cc:740: \n",
      "Parameters: { \"use_label_encoder\" } are not used.\n",
      "\n",
      "  warnings.warn(smsg, UserWarning)\n",
      "C:\\Users\\paulk\\anaconda3\\Lib\\site-packages\\xgboost\\core.py:158: UserWarning: [12:49:25] WARNING: C:\\buildkite-agent\\builds\\buildkite-windows-cpu-autoscaling-group-i-06abd128ca6c1688d-1\\xgboost\\xgboost-ci-windows\\src\\learner.cc:740: \n",
      "Parameters: { \"use_label_encoder\" } are not used.\n",
      "\n",
      "  warnings.warn(smsg, UserWarning)\n",
      "C:\\Users\\paulk\\anaconda3\\Lib\\site-packages\\xgboost\\core.py:158: UserWarning: [12:49:26] WARNING: C:\\buildkite-agent\\builds\\buildkite-windows-cpu-autoscaling-group-i-06abd128ca6c1688d-1\\xgboost\\xgboost-ci-windows\\src\\learner.cc:740: \n",
      "Parameters: { \"use_label_encoder\" } are not used.\n",
      "\n",
      "  warnings.warn(smsg, UserWarning)\n",
      "C:\\Users\\paulk\\anaconda3\\Lib\\site-packages\\xgboost\\core.py:158: UserWarning: [12:49:27] WARNING: C:\\buildkite-agent\\builds\\buildkite-windows-cpu-autoscaling-group-i-06abd128ca6c1688d-1\\xgboost\\xgboost-ci-windows\\src\\learner.cc:740: \n",
      "Parameters: { \"use_label_encoder\" } are not used.\n",
      "\n",
      "  warnings.warn(smsg, UserWarning)\n"
     ]
    },
    {
     "name": "stdout",
     "output_type": "stream",
     "text": [
      "| \u001B[30m29        | \u001B[30m0.6437    | \u001B[30m0.6827    | \u001B[30m0.2       | \u001B[30m4.027     | \u001B[30m140.8     | \u001B[30m0.6956    |\n"
     ]
    },
    {
     "name": "stderr",
     "output_type": "stream",
     "text": [
      "C:\\Users\\paulk\\anaconda3\\Lib\\site-packages\\xgboost\\core.py:158: UserWarning: [12:49:27] WARNING: C:\\buildkite-agent\\builds\\buildkite-windows-cpu-autoscaling-group-i-06abd128ca6c1688d-1\\xgboost\\xgboost-ci-windows\\src\\learner.cc:740: \n",
      "Parameters: { \"use_label_encoder\" } are not used.\n",
      "\n",
      "  warnings.warn(smsg, UserWarning)\n",
      "C:\\Users\\paulk\\anaconda3\\Lib\\site-packages\\xgboost\\core.py:158: UserWarning: [12:49:28] WARNING: C:\\buildkite-agent\\builds\\buildkite-windows-cpu-autoscaling-group-i-06abd128ca6c1688d-1\\xgboost\\xgboost-ci-windows\\src\\learner.cc:740: \n",
      "Parameters: { \"use_label_encoder\" } are not used.\n",
      "\n",
      "  warnings.warn(smsg, UserWarning)\n",
      "C:\\Users\\paulk\\anaconda3\\Lib\\site-packages\\xgboost\\core.py:158: UserWarning: [12:49:29] WARNING: C:\\buildkite-agent\\builds\\buildkite-windows-cpu-autoscaling-group-i-06abd128ca6c1688d-1\\xgboost\\xgboost-ci-windows\\src\\learner.cc:740: \n",
      "Parameters: { \"use_label_encoder\" } are not used.\n",
      "\n",
      "  warnings.warn(smsg, UserWarning)\n",
      "C:\\Users\\paulk\\anaconda3\\Lib\\site-packages\\xgboost\\core.py:158: UserWarning: [12:49:29] WARNING: C:\\buildkite-agent\\builds\\buildkite-windows-cpu-autoscaling-group-i-06abd128ca6c1688d-1\\xgboost\\xgboost-ci-windows\\src\\learner.cc:740: \n",
      "Parameters: { \"use_label_encoder\" } are not used.\n",
      "\n",
      "  warnings.warn(smsg, UserWarning)\n",
      "C:\\Users\\paulk\\anaconda3\\Lib\\site-packages\\xgboost\\core.py:158: UserWarning: [12:49:30] WARNING: C:\\buildkite-agent\\builds\\buildkite-windows-cpu-autoscaling-group-i-06abd128ca6c1688d-1\\xgboost\\xgboost-ci-windows\\src\\learner.cc:740: \n",
      "Parameters: { \"use_label_encoder\" } are not used.\n",
      "\n",
      "  warnings.warn(smsg, UserWarning)\n"
     ]
    },
    {
     "name": "stdout",
     "output_type": "stream",
     "text": [
      "| \u001B[30m30        | \u001B[30m0.6389    | \u001B[30m1.0       | \u001B[30m0.2       | \u001B[30m5.309     | \u001B[30m141.7     | \u001B[30m0.6       |\n",
      "=====================================================================================\n",
      "Best parameters: {'colsample_bytree': 0.8486275103200995, 'learning_rate': 0.04043853400923609, 'max_depth': 5, 'n_estimators': 141, 'subsample': 0.7866708284057666}\n"
     ]
    },
    {
     "name": "stderr",
     "output_type": "stream",
     "text": [
      "C:\\Users\\paulk\\anaconda3\\Lib\\site-packages\\xgboost\\core.py:158: UserWarning: [12:49:31] WARNING: C:\\buildkite-agent\\builds\\buildkite-windows-cpu-autoscaling-group-i-06abd128ca6c1688d-1\\xgboost\\xgboost-ci-windows\\src\\learner.cc:740: \n",
      "Parameters: { \"use_label_encoder\" } are not used.\n",
      "\n",
      "  warnings.warn(smsg, UserWarning)\n"
     ]
    },
    {
     "name": "stdout",
     "output_type": "stream",
     "text": [
      "Test set accuracy: 0.63\n",
      "Test set ROC AUC score: 0.65\n",
      "Test set precision: 0.65\n",
      "Test set recall: 0.36\n",
      "Test set F1 score: 0.47\n",
      "Confusion Matrix:\n",
      "[[9800 1821]\n",
      " [5998 3439]]\n"
     ]
    },
    {
     "data": {
      "text/plain": "<Figure size 1000x700 with 2 Axes>",
      "image/png": "[encoded data removed]"
     },
     "metadata": {},
     "output_type": "display_data"
    }
   ],
   "source": [
    "import pandas as pd\n",
    "from sklearn.model_selection import train_test_split, cross_val_score\n",
    "from sklearn.preprocessing import StandardScaler, OneHotEncoder\n",
    "from sklearn.compose import ColumnTransformer\n",
    "from sklearn.pipeline import Pipeline\n",
    "from sklearn.impute import SimpleImputer\n",
    "from xgboost import XGBClassifier\n",
    "from bayes_opt import BayesianOptimization\n",
    "import numpy as np\n",
    "from sklearn.metrics import accuracy_score, roc_auc_score, precision_score, recall_score, f1_score, confusion_matrix\n",
    "\n",
    "# Load the dataset\n",
    "file_path = 'updated_shot_logs.csv'  # Use the correct file path\n",
    "data = pd.read_csv(file_path)\n",
    "\n",
    "# Define which columns are numeric and categorical\n",
    "numeric_features = ['SHOT_NUMBER', 'PERIOD', 'FINAL_MARGIN', 'SHOT_CLOCK', 'DRIBBLES', 'TOUCH_TIME', 'SHOT_DIST', 'CLOSE_DEF_DIST', 'FG%_2pts', 'FG%_3pts', 'score', 'PPG', 'EFG']\n",
    "categorical_features = ['W', 'CLOSEST_DEFENDER']\n",
    "\n",
    "# Exclude non-predictive and direct identifiers\n",
    "predictive_features = data.drop(columns=['GAME_ID1', 'MATCHUP', 'player_name', 'player_id', 'FGM', 'PTS'])\n",
    "\n",
    "# Handle missing values and preprocessing\n",
    "preprocessor = ColumnTransformer(\n",
    "    transformers=[\n",
    "        ('num', Pipeline(steps=[\n",
    "            ('imputer', SimpleImputer(strategy='mean')),\n",
    "            ('scaler', StandardScaler())]), numeric_features),\n",
    "        ('cat', Pipeline(steps=[\n",
    "            ('imputer', SimpleImputer(strategy='constant', fill_value='missing')),\n",
    "            ('onehot', OneHotEncoder(handle_unknown='ignore'))]), categorical_features)\n",
    "    ])\n",
    "\n",
    "# Target variable\n",
    "target = data['FGM']\n",
    "\n",
    "# Split data into training and testing sets\n",
    "X_train, X_test, y_train, y_test = train_test_split(predictive_features, target, test_size=0.2, random_state=42)\n",
    "\n",
    "# Define a function to optimize\n",
    "def xgb_evaluate(max_depth, learning_rate, n_estimators, subsample, colsample_bytree):\n",
    "    params = {\n",
    "        'max_depth': int(max_depth),\n",
    "        'learning_rate': learning_rate,\n",
    "        'n_estimators': int(n_estimators),\n",
    "        'subsample': subsample,\n",
    "        'colsample_bytree': colsample_bytree,\n",
    "        'eval_metric': 'logloss',\n",
    "        'use_label_encoder': False\n",
    "    }\n",
    "    \n",
    "    pipeline = Pipeline([\n",
    "        ('preprocessor', preprocessor),\n",
    "        ('classifier', XGBClassifier(**params))\n",
    "    ])\n",
    "    \n",
    "    cv_scores = cross_val_score(pipeline, X_train, y_train, cv=5, scoring='roc_auc')\n",
    "    return np.mean(cv_scores)\n",
    "\n",
    "# Define the parameter bounds\n",
    "param_bounds = {\n",
    "    'max_depth': (3, 10),\n",
    "    'learning_rate': (0.01, 0.2),\n",
    "    'n_estimators': (50, 300),\n",
    "    'subsample': (0.6, 1.0),\n",
    "    'colsample_bytree': (0.6, 1.0)\n",
    "}\n",
    "\n",
    "# Perform Bayesian optimization\n",
    "optimizer = BayesianOptimization(f=xgb_evaluate, pbounds=param_bounds, random_state=42)\n",
    "optimizer.maximize(init_points=5, n_iter=25)\n",
    "\n",
    "# Print the best parameters\n",
    "best_params = optimizer.max['params']\n",
    "best_params['max_depth'] = int(best_params['max_depth'])\n",
    "best_params['n_estimators'] = int(best_params['n_estimators'])\n",
    "print(f\"Best parameters: {best_params}\")\n",
    "\n",
    "# Fit the model with the best parameters\n",
    "best_pipeline = Pipeline([\n",
    "    ('preprocessor', preprocessor),\n",
    "    ('classifier', XGBClassifier(**best_params, eval_metric='logloss', use_label_encoder=False))\n",
    "])\n",
    "best_pipeline.fit(X_train, y_train)\n",
    "\n",
    "# Evaluate the best model on the test set\n",
    "test_predictions = best_pipeline.predict(X_test)\n",
    "test_probabilities = best_pipeline.predict_proba(X_test)[:, 1]\n",
    "\n",
    "test_accuracy = accuracy_score(y_test, test_predictions)\n",
    "test_roc_auc = roc_auc_score(y_test, test_probabilities)\n",
    "test_precision = precision_score(y_test, test_predictions)\n",
    "test_recall = recall_score(y_test, test_predictions)\n",
    "test_f1 = f1_score(y_test, test_predictions)\n",
    "conf_matrix = confusion_matrix(y_test, test_predictions)\n",
    "\n",
    "print(f\"Test set accuracy: {test_accuracy:.2f}\")\n",
    "print(f\"Test set ROC AUC score: {test_roc_auc:.2f}\")\n",
    "print(f\"Test set precision: {test_precision:.2f}\")\n",
    "print(f\"Test set recall: {test_recall:.2f}\")\n",
    "print(f\"Test set F1 score: {test_f1:.2f}\")\n",
    "print(f\"Confusion Matrix:\\n{conf_matrix}\")\n",
    "\n",
    "# Plot the confusion matrix\n",
    "import seaborn as sns\n",
    "import matplotlib.pyplot as plt\n",
    "\n",
    "plt.figure(figsize=(10, 7))\n",
    "sns.heatmap(conf_matrix, annot=True, fmt='d', cmap='Blues', xticklabels=['Predicted Miss', 'Predicted Make'], yticklabels=['Actual Miss', 'Actual Make'])\n",
    "plt.xlabel('Predicted')\n",
    "plt.ylabel('Actual')\n",
    "plt.title('Confusion Matrix')\n",
    "plt.show()\n"
   ],
   "metadata": {
    "collapsed": false,
    "ExecuteTime": {
     "end_time": "2024-07-04T17:49:32.521817900Z",
     "start_time": "2024-07-04T17:47:18.184249Z"
    }
   },
   "id": "d6340751dea0800b",
   "execution_count": 27
  },
  {
   "cell_type": "code",
   "outputs": [],
   "source": [],
   "metadata": {
    "collapsed": false
   },
   "id": "bf33af5b6dc3b3b2"
  }
 ],
 "metadata": {
  "kernelspec": {
   "display_name": "Python 3",
   "language": "python",
   "name": "python3"
  },
  "language_info": {
   "codemirror_mode": {
    "name": "ipython",
    "version": 2
   },
   "file_extension": ".py",
   "mimetype": "text/x-python",
   "name": "python",
   "nbconvert_exporter": "python",
   "pygments_lexer": "ipython2",
   "version": "2.7.6"
  }
 },
 "nbformat": 4,
 "nbformat_minor": 5
}
